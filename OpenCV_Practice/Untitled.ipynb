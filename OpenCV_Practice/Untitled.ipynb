{
 "cells": [
  {
   "cell_type": "code",
   "execution_count": 1,
   "id": "21f6ce37",
   "metadata": {},
   "outputs": [],
   "source": [
    "import cv2\n",
    "import numpy as np\n",
    "import matplotlib.pyplot as plt"
   ]
  },
  {
   "cell_type": "markdown",
   "id": "d9692247",
   "metadata": {},
   "source": [
    "## How to read Images\n",
    "cv2.imread() => To Read Images"
   ]
  },
  {
   "cell_type": "code",
   "execution_count": 2,
   "id": "54c9facf",
   "metadata": {},
   "outputs": [],
   "source": [
    "# img_path = \"lena.jpg\"\n",
    "# img = cv2.imread(img_path)"
   ]
  },
  {
   "cell_type": "code",
   "execution_count": 3,
   "id": "dd2b8984",
   "metadata": {},
   "outputs": [],
   "source": [
    "# cv2.imshow(\"Image\", img)\n",
    "# cv2.waitKey(0)"
   ]
  },
  {
   "cell_type": "markdown",
   "id": "82841926",
   "metadata": {},
   "source": [
    "## How to read Video"
   ]
  },
  {
   "cell_type": "code",
   "execution_count": 4,
   "id": "5c10d679",
   "metadata": {},
   "outputs": [],
   "source": [
    "# vid_path = \"Love.mp4\"\n",
    "# cap = cv2.VideoCapture(vid_path)"
   ]
  },
  {
   "cell_type": "code",
   "execution_count": 5,
   "id": "becoming-married",
   "metadata": {},
   "outputs": [],
   "source": [
    "# while True:\n",
    "#     success, img = cap.read()\n",
    "#     cv2.imshow(\"Video\", img)\n",
    "#     if cv2.waitKey(1) & 0xFF == ord('q'):\n",
    "#         break"
   ]
  },
  {
   "cell_type": "markdown",
   "id": "vietnamese-springfield",
   "metadata": {},
   "source": [
    "## How to view Live feed From Webcam"
   ]
  },
  {
   "cell_type": "code",
   "execution_count": 6,
   "id": "informal-supervisor",
   "metadata": {},
   "outputs": [],
   "source": [
    "# camera_id = 0\n",
    "# cap = cv2.VideoCapture(camera_id)"
   ]
  },
  {
   "cell_type": "code",
   "execution_count": 7,
   "id": "infectious-immune",
   "metadata": {},
   "outputs": [],
   "source": [
    "# while True:\n",
    "#     success, img = cap.read()\n",
    "#     cv2.imshow(\"Video\", img)\n",
    "#     if cv2.waitKey(1) & 0xFF == ord('q'):\n",
    "#         break"
   ]
  },
  {
   "cell_type": "markdown",
   "id": "stuffed-thing",
   "metadata": {},
   "source": [
    "# Data Preprocessing"
   ]
  },
  {
   "cell_type": "markdown",
   "id": "constant-response",
   "metadata": {},
   "source": [
    "## How to convert Image to Gray Scale Image"
   ]
  },
  {
   "cell_type": "code",
   "execution_count": 8,
   "id": "compact-delight",
   "metadata": {},
   "outputs": [
    {
     "data": {
      "text/plain": [
       "-1"
      ]
     },
     "execution_count": 8,
     "metadata": {},
     "output_type": "execute_result"
    }
   ],
   "source": [
    "img_path = \"lena.jpg\"\n",
    "img = cv2.imread(img_path)\n",
    "\n",
    "img_gray = cv2.cvtColor(img, cv2.COLOR_BGR2GRAY)\n",
    "cv2.imshow(\"Grayscale Image\", img_gray)"
   ]
  },
  {
   "cell_type": "markdown",
   "id": "sexual-enough",
   "metadata": {},
   "source": [
    "## How to Blur Image"
   ]
  },
  {
   "cell_type": "code",
   "execution_count": 11,
   "id": "quiet-butter",
   "metadata": {},
   "outputs": [],
   "source": [
    "img_blur = cv2.GaussianBlur(img_gray, (7,7), 1)\n",
    "cv2.imshow(\"Image Blur\", img_blur)"
   ]
  },
  {
   "cell_type": "code",
   "execution_count": 10,
   "id": "optional-saudi",
   "metadata": {},
   "outputs": [
    {
     "data": {
      "text/plain": [
       "-1"
      ]
     },
     "execution_count": 10,
     "metadata": {},
     "output_type": "execute_result"
    }
   ],
   "source": [
    "cv2.waitKey(0)"
   ]
  },
  {
   "cell_type": "code",
   "execution_count": null,
   "id": "seeing-battlefield",
   "metadata": {},
   "outputs": [],
   "source": []
  }
 ],
 "metadata": {
  "kernelspec": {
   "display_name": "Python 3",
   "language": "python",
   "name": "python3"
  },
  "language_info": {
   "codemirror_mode": {
    "name": "ipython",
    "version": 3
   },
   "file_extension": ".py",
   "mimetype": "text/x-python",
   "name": "python",
   "nbconvert_exporter": "python",
   "pygments_lexer": "ipython3",
   "version": "3.9.1"
  }
 },
 "nbformat": 4,
 "nbformat_minor": 5
}
