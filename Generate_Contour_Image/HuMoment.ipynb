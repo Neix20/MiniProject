{
 "cells": [
  {
   "cell_type": "markdown",
   "id": "medical-reducing",
   "metadata": {},
   "source": [
    "## Load Libraries"
   ]
  },
  {
   "cell_type": "code",
   "execution_count": 1,
   "id": "decimal-anthony",
   "metadata": {},
   "outputs": [],
   "source": [
    "import cv2\n",
    "import math\n",
    "import numpy as np\n",
    "import pandas as pd\n",
    "import seaborn as sns\n",
    "import skimage.measure\n",
    "import matplotlib.pyplot as plt\n",
    "\n",
    "from glob import glob\n",
    "from sklearn import svm\n",
    "from sklearn.multiclass import OneVsRestClassifier\n",
    "from sklearn.neighbors import KNeighborsClassifier\n",
    "from sklearn.ensemble import RandomForestClassifier\n",
    "from skimage.feature import greycomatrix, greycoprops\n",
    "from sklearn.preprocessing import StandardScaler, label_binarize\n",
    "from sklearn.model_selection import train_test_split, cross_val_score, KFold\n",
    "from sklearn.metrics import classification_report, confusion_matrix, precision_recall_curve, roc_curve\n",
    "%matplotlib inline"
   ]
  },
  {
   "cell_type": "markdown",
   "id": "eligible-hollywood",
   "metadata": {},
   "source": [
    "## Display Images"
   ]
  },
  {
   "cell_type": "code",
   "execution_count": 2,
   "id": "certain-nutrition",
   "metadata": {},
   "outputs": [],
   "source": [
    "def display(img):\n",
    "    plt.imshow (img, interpolation = 'nearest')\n",
    "    _ = plt.axis(False)"
   ]
  },
  {
   "cell_type": "markdown",
   "id": "passing-sphere",
   "metadata": {},
   "source": [
    "## Remove White Background (Thresholding)"
   ]
  },
  {
   "cell_type": "code",
   "execution_count": 3,
   "id": "spiritual-brook",
   "metadata": {},
   "outputs": [],
   "source": [
    "def remove_background(img, threshold):\n",
    "    \"\"\"\n",
    "    This method removes background from your image\n",
    "    \n",
    "    :param img: cv2 image\n",
    "    :type img: np.array\n",
    "    :param threshold: threshold value for cv2.threshold\n",
    "    :type threshold: float\n",
    "    :return: RGBA image\n",
    "    :rtype: np.ndarray\n",
    "    \"\"\"\n",
    "    \n",
    "    gray = cv2.cvtColor(img, cv2.COLOR_BGR2GRAY)\n",
    "    _, threshed = cv2.threshold(gray, threshold, 255, cv2.THRESH_BINARY_INV)\n",
    "    \n",
    "    kernel = cv2.getStructuringElement(cv2.MORPH_ELLIPSE, (11, 11))\n",
    "    morphed = cv2.morphologyEx(threshed, cv2.MORPH_CLOSE, kernel)\n",
    "    \n",
    "    cnts = cv2.findContours(morphed, cv2.RETR_EXTERNAL, cv2.CHAIN_APPROX_SIMPLE)[0]\n",
    "    cnt = sorted(cnts, key=cv2.contourArea)[-1]\n",
    "\n",
    "    mask = cv2.drawContours(threshed, cnt, 0, (0, 255, 0), 0)\n",
    "    masked_data = cv2.bitwise_and(img, img, mask=mask)\n",
    "\n",
    "    x, y, w, h = cv2.boundingRect(cnt)\n",
    "    dst = masked_data[y: y + h, x: x + w]\n",
    "\n",
    "    dst_gray = cv2.cvtColor(dst, cv2.COLOR_BGR2GRAY)\n",
    "    _, alpha = cv2.threshold(dst_gray, 0, 255, cv2.THRESH_BINARY)\n",
    "    b, g, r = cv2.split(dst)\n",
    "\n",
    "    rgba = [r, g, b, alpha]\n",
    "    dst = cv2.merge(rgba, 4)\n",
    "    \n",
    "    dst = cv2.cvtColor(dst, cv2.COLOR_BGRA2RGB)\n",
    "\n",
    "    return dst"
   ]
  },
  {
   "cell_type": "markdown",
   "id": "powerful-riverside",
   "metadata": {},
   "source": [
    "## Image Folder Name"
   ]
  },
  {
   "cell_type": "code",
   "execution_count": 4,
   "id": "dominant-species",
   "metadata": {},
   "outputs": [],
   "source": [
    "img_path_arr = [f\"Images\\\\{fruit}_{ind + 1}.jpg\" for fruit in [\"apple\", \"lemon\", \"lychee\"] for ind in range(3)]"
   ]
  },
  {
   "cell_type": "markdown",
   "id": "removed-spiritual",
   "metadata": {},
   "source": [
    "## Convert Image to Canny"
   ]
  },
  {
   "cell_type": "code",
   "execution_count": 5,
   "id": "digital-sherman",
   "metadata": {},
   "outputs": [],
   "source": [
    "def convert_img_to_canny(img_path):\n",
    "    img = cv2.imread(img_path)\n",
    "    img = remove_background(img, threshold = 225)\n",
    "    img_gray = cv2.cvtColor(img, cv2.COLOR_BGR2GRAY)\n",
    "    img_blur = cv2.GaussianBlur(img_gray, (7,7), 1)\n",
    "    img_canny = cv2.Canny(img_blur, 50, 150)\n",
    "    return img_canny"
   ]
  },
  {
   "cell_type": "markdown",
   "id": "resistant-louisville",
   "metadata": {},
   "source": [
    "## Generate Contour"
   ]
  },
  {
   "cell_type": "code",
   "execution_count": 6,
   "id": "greater-contract",
   "metadata": {},
   "outputs": [],
   "source": [
    "img_path = \"Images\\\\apple_1.jpg\""
   ]
  },
  {
   "cell_type": "code",
   "execution_count": 7,
   "id": "celtic-stamp",
   "metadata": {},
   "outputs": [
    {
     "data": {
      "image/png": "[encoded data removed]",
      "text/plain": [
       "<Figure size 432x288 with 1 Axes>"
      ]
     },
     "metadata": {
      "needs_background": "light"
     },
     "output_type": "display_data"
    }
   ],
   "source": [
    "img = cv2.imread(img_path)\n",
    "img = remove_background(img, threshold = 225)\n",
    "img_gray = cv2.cvtColor(img, cv2.COLOR_BGR2GRAY)\n",
    "img_blur = cv2.GaussianBlur(img_gray, (7,7), 1)\n",
    "img_canny = cv2.Canny(img_blur, 50, 150)\n",
    "display(img_canny)"
   ]
  },
  {
   "cell_type": "code",
   "execution_count": 8,
   "id": "hydraulic-candle",
   "metadata": {},
   "outputs": [
    {
     "data": {
      "image/png": "[encoded data removed]",
      "text/plain": [
       "<Figure size 360x360 with 9 Axes>"
      ]
     },
     "metadata": {
      "needs_background": "light"
     },
     "output_type": "display_data"
    }
   ],
   "source": [
    "fig, axs = plt.subplots(3, 3, figsize=(5,5))\n",
    "\n",
    "img_arr = [convert_img_to_canny(img_path) for img_path in img_path_arr]\n",
    "\n",
    "for i in range(0, 3):\n",
    "    for j in range(0, 3):\n",
    "        axs[i, j].imshow(img_arr[i * 3 + j], interpolation = 'nearest')\n",
    "        axs[i, j].axis('off')"
   ]
  },
  {
   "cell_type": "markdown",
   "id": "limited-mother",
   "metadata": {},
   "source": [
    "## Output Image Canny to Folder"
   ]
  },
  {
   "cell_type": "code",
   "execution_count": 9,
   "id": "grave-swimming",
   "metadata": {},
   "outputs": [],
   "source": [
    "output_path = \"Image_Canny\\\\\\\\\""
   ]
  },
  {
   "cell_type": "code",
   "execution_count": 10,
   "id": "organic-restriction",
   "metadata": {},
   "outputs": [],
   "source": [
    "for img_path in img_path_arr:\n",
    "    tmp = convert_img_to_canny(img_path)\n",
    "    tmp_path = output_path + img_path.split('\\\\')[1]\n",
    "    cv2.imwrite(tmp_path, tmp)"
   ]
  },
  {
   "cell_type": "markdown",
   "id": "serious-heart",
   "metadata": {},
   "source": [
    "## Generate Hu Moments"
   ]
  },
  {
   "cell_type": "code",
   "execution_count": 11,
   "id": "ethical-cooperation",
   "metadata": {},
   "outputs": [],
   "source": [
    "def gen_hu_moment(img_canny):\n",
    "    kernel = np.ones((7, 7), dtype = np.uint8)\n",
    "    img_dilate = cv2.dilate(img_canny, kernel, iterations = 1)\n",
    "\n",
    "    contours, hier = cv2.findContours(img_dilate, cv2.RETR_EXTERNAL, cv2.CHAIN_APPROX_SIMPLE)\n",
    "    mu, huMoments = [], []\n",
    "    for cnt in contours:\n",
    "        mu = cv2.moments(cnt)\n",
    "        huMoments = cv2.HuMoments(mu)\n",
    "    \n",
    "    for i in range(0,7):\n",
    "        huMoments[i] = -1* math.copysign(1.0, huMoments[i]) * math.log10(abs(huMoments[i]) if abs(huMoments[i]) > 0 else 1)\n",
    "    \n",
    "    return {f\"Hu Moment {(i + 1)}\":huMoment[0] for (i, huMoment) in enumerate(huMoments)}"
   ]
  },
  {
   "cell_type": "code",
   "execution_count": 12,
   "id": "distinguished-oracle",
   "metadata": {
    "scrolled": true
   },
   "outputs": [
    {
     "data": {
      "text/html": [
       "<div>\n",
       "<style scoped>\n",
       "    .dataframe tbody tr th:only-of-type {\n",
       "        vertical-align: middle;\n",
       "    }\n",
       "\n",
       "    .dataframe tbody tr th {\n",
       "        vertical-align: top;\n",
       "    }\n",
       "\n",
       "    .dataframe thead th {\n",
       "        text-align: right;\n",
       "    }\n",
       "</style>\n",
       "<table border=\"1\" class=\"dataframe\">\n",
       "  <thead>\n",
       "    <tr style=\"text-align: right;\">\n",
       "      <th></th>\n",
       "      <th>Hu Moment 1</th>\n",
       "      <th>Hu Moment 2</th>\n",
       "      <th>Hu Moment 3</th>\n",
       "      <th>Hu Moment 4</th>\n",
       "      <th>Hu Moment 5</th>\n",
       "      <th>Hu Moment 6</th>\n",
       "      <th>Hu Moment 7</th>\n",
       "    </tr>\n",
       "  </thead>\n",
       "  <tbody>\n",
       "  </tbody>\n",
       "</table>\n",
       "</div>"
      ],
      "text/plain": [
       "Empty DataFrame\n",
       "Columns: [Hu Moment 1, Hu Moment 2, Hu Moment 3, Hu Moment 4, Hu Moment 5, Hu Moment 6, Hu Moment 7]\n",
       "Index: []"
      ]
     },
     "execution_count": 12,
     "metadata": {},
     "output_type": "execute_result"
    }
   ],
   "source": [
    "feature_arr = [f\"Hu Moment {(i + 1)}\" for i in range(7)]\n",
    "final_df = pd.DataFrame(columns = feature_arr)\n",
    "final_df"
   ]
  },
  {
   "cell_type": "markdown",
   "id": "solved-roots",
   "metadata": {},
   "source": [
    "## Front View"
   ]
  },
  {
   "cell_type": "code",
   "execution_count": 13,
   "id": "adjustable-capture",
   "metadata": {},
   "outputs": [
    {
     "data": {
      "image/png": "[encoded data removed]",
      "text/plain": [
       "<Figure size 360x360 with 3 Axes>"
      ]
     },
     "metadata": {
      "needs_background": "light"
     },
     "output_type": "display_data"
    }
   ],
   "source": [
    "feature_arr = [f\"Hu Moment {(i + 1)}\" for i in range(7)]\n",
    "final_df = pd.DataFrame(columns = feature_arr)\n",
    "\n",
    "fig, axs = plt.subplots(1, 3, figsize=(5,5))\n",
    "\n",
    "for (ind, img_path) in enumerate([f\"Images\\\\{fruit}_1.jpg\" for fruit in [\"apple\", \"lemon\", \"lychee\"]]):\n",
    "    axs[ind].imshow(convert_img_to_canny(img_path), interpolation = 'nearest')\n",
    "    axs[ind].axis('off')\n",
    "    final_df = final_df.append(gen_hu_moment(convert_img_to_canny(img_path)), ignore_index = True)"
   ]
  },
  {
   "cell_type": "code",
   "execution_count": 14,
   "id": "neither-sudan",
   "metadata": {},
   "outputs": [],
   "source": [
    "final_df = final_df.T\n",
    "final_df = final_df.rename(columns = {ind:val.capitalize() for (ind, val) in enumerate([\"apple\", \"lemon\", \"lychee\"])})"
   ]
  },
  {
   "cell_type": "code",
   "execution_count": 15,
   "id": "documentary-commercial",
   "metadata": {},
   "outputs": [
    {
     "data": {
      "text/html": [
       "<div>\n",
       "<style scoped>\n",
       "    .dataframe tbody tr th:only-of-type {\n",
       "        vertical-align: middle;\n",
       "    }\n",
       "\n",
       "    .dataframe tbody tr th {\n",
       "        vertical-align: top;\n",
       "    }\n",
       "\n",
       "    .dataframe thead th {\n",
       "        text-align: right;\n",
       "    }\n",
       "</style>\n",
       "<table border=\"1\" class=\"dataframe\">\n",
       "  <thead>\n",
       "    <tr style=\"text-align: right;\">\n",
       "      <th></th>\n",
       "      <th>Apple</th>\n",
       "      <th>Lemon</th>\n",
       "      <th>Lychee</th>\n",
       "    </tr>\n",
       "  </thead>\n",
       "  <tbody>\n",
       "    <tr>\n",
       "      <th>Hu Moment 1</th>\n",
       "      <td>0.794710</td>\n",
       "      <td>-0.027950</td>\n",
       "      <td>0.788678</td>\n",
       "    </tr>\n",
       "    <tr>\n",
       "      <th>Hu Moment 2</th>\n",
       "      <td>4.335847</td>\n",
       "      <td>0.689861</td>\n",
       "      <td>3.205142</td>\n",
       "    </tr>\n",
       "    <tr>\n",
       "      <th>Hu Moment 3</th>\n",
       "      <td>4.648559</td>\n",
       "      <td>0.519662</td>\n",
       "      <td>4.322566</td>\n",
       "    </tr>\n",
       "    <tr>\n",
       "      <th>Hu Moment 4</th>\n",
       "      <td>7.668456</td>\n",
       "      <td>1.410814</td>\n",
       "      <td>7.017833</td>\n",
       "    </tr>\n",
       "    <tr>\n",
       "      <th>Hu Moment 5</th>\n",
       "      <td>-13.897716</td>\n",
       "      <td>-2.403151</td>\n",
       "      <td>-12.740638</td>\n",
       "    </tr>\n",
       "    <tr>\n",
       "      <th>Hu Moment 6</th>\n",
       "      <td>-10.064184</td>\n",
       "      <td>-1.871531</td>\n",
       "      <td>-8.696144</td>\n",
       "    </tr>\n",
       "    <tr>\n",
       "      <th>Hu Moment 7</th>\n",
       "      <td>-14.104888</td>\n",
       "      <td>-2.841355</td>\n",
       "      <td>13.021665</td>\n",
       "    </tr>\n",
       "  </tbody>\n",
       "</table>\n",
       "</div>"
      ],
      "text/plain": [
       "                 Apple     Lemon     Lychee\n",
       "Hu Moment 1   0.794710 -0.027950   0.788678\n",
       "Hu Moment 2   4.335847  0.689861   3.205142\n",
       "Hu Moment 3   4.648559  0.519662   4.322566\n",
       "Hu Moment 4   7.668456  1.410814   7.017833\n",
       "Hu Moment 5 -13.897716 -2.403151 -12.740638\n",
       "Hu Moment 6 -10.064184 -1.871531  -8.696144\n",
       "Hu Moment 7 -14.104888 -2.841355  13.021665"
      ]
     },
     "execution_count": 15,
     "metadata": {},
     "output_type": "execute_result"
    }
   ],
   "source": [
    "final_df"
   ]
  },
  {
   "cell_type": "markdown",
   "id": "bizarre-norwegian",
   "metadata": {},
   "source": [
    "## Side View"
   ]
  },
  {
   "cell_type": "code",
   "execution_count": 16,
   "id": "static-progress",
   "metadata": {},
   "outputs": [
    {
     "data": {
      "image/png": "[encoded data removed]",
      "text/plain": [
       "<Figure size 360x360 with 3 Axes>"
      ]
     },
     "metadata": {
      "needs_background": "light"
     },
     "output_type": "display_data"
    }
   ],
   "source": [
    "feature_arr = [f\"Hu Moment {(i + 1)}\" for i in range(7)]\n",
    "final_df = pd.DataFrame(columns = feature_arr)\n",
    "\n",
    "fig, axs = plt.subplots(1, 3, figsize=(5,5))\n",
    "\n",
    "for (ind, img_path) in enumerate([f\"Images\\\\{fruit}_2.jpg\" for fruit in [\"apple\", \"lemon\", \"lychee\"]]):\n",
    "    axs[ind].imshow(convert_img_to_canny(img_path), interpolation = 'nearest')\n",
    "    axs[ind].axis('off')\n",
    "    final_df = final_df.append(gen_hu_moment(convert_img_to_canny(img_path)), ignore_index = True)"
   ]
  },
  {
   "cell_type": "code",
   "execution_count": 17,
   "id": "earlier-timer",
   "metadata": {},
   "outputs": [],
   "source": [
    "final_df = final_df.T\n",
    "final_df = final_df.rename(columns = {ind:val.capitalize() for (ind, val) in enumerate([\"apple\", \"lemon\", \"lychee\"])})"
   ]
  },
  {
   "cell_type": "code",
   "execution_count": 18,
   "id": "better-meter",
   "metadata": {},
   "outputs": [
    {
     "data": {
      "text/html": [
       "<div>\n",
       "<style scoped>\n",
       "    .dataframe tbody tr th:only-of-type {\n",
       "        vertical-align: middle;\n",
       "    }\n",
       "\n",
       "    .dataframe tbody tr th {\n",
       "        vertical-align: top;\n",
       "    }\n",
       "\n",
       "    .dataframe thead th {\n",
       "        text-align: right;\n",
       "    }\n",
       "</style>\n",
       "<table border=\"1\" class=\"dataframe\">\n",
       "  <thead>\n",
       "    <tr style=\"text-align: right;\">\n",
       "      <th></th>\n",
       "      <th>Apple</th>\n",
       "      <th>Lemon</th>\n",
       "      <th>Lychee</th>\n",
       "    </tr>\n",
       "  </thead>\n",
       "  <tbody>\n",
       "    <tr>\n",
       "      <th>Hu Moment 1</th>\n",
       "      <td>0.045973</td>\n",
       "      <td>0.241973</td>\n",
       "      <td>0.348364</td>\n",
       "    </tr>\n",
       "    <tr>\n",
       "      <th>Hu Moment 2</th>\n",
       "      <td>2.331229</td>\n",
       "      <td>2.502873</td>\n",
       "      <td>0.869137</td>\n",
       "    </tr>\n",
       "    <tr>\n",
       "      <th>Hu Moment 3</th>\n",
       "      <td>1.974812</td>\n",
       "      <td>3.275508</td>\n",
       "      <td>1.461540</td>\n",
       "    </tr>\n",
       "    <tr>\n",
       "      <th>Hu Moment 4</th>\n",
       "      <td>1.550347</td>\n",
       "      <td>1.842055</td>\n",
       "      <td>2.300075</td>\n",
       "    </tr>\n",
       "    <tr>\n",
       "      <th>Hu Moment 5</th>\n",
       "      <td>-3.380675</td>\n",
       "      <td>4.400839</td>\n",
       "      <td>-4.604427</td>\n",
       "    </tr>\n",
       "    <tr>\n",
       "      <th>Hu Moment 6</th>\n",
       "      <td>-2.909202</td>\n",
       "      <td>3.494240</td>\n",
       "      <td>-2.935502</td>\n",
       "    </tr>\n",
       "    <tr>\n",
       "      <th>Hu Moment 7</th>\n",
       "      <td>-3.598848</td>\n",
       "      <td>-6.915659</td>\n",
       "      <td>4.214191</td>\n",
       "    </tr>\n",
       "  </tbody>\n",
       "</table>\n",
       "</div>"
      ],
      "text/plain": [
       "                Apple     Lemon    Lychee\n",
       "Hu Moment 1  0.045973  0.241973  0.348364\n",
       "Hu Moment 2  2.331229  2.502873  0.869137\n",
       "Hu Moment 3  1.974812  3.275508  1.461540\n",
       "Hu Moment 4  1.550347  1.842055  2.300075\n",
       "Hu Moment 5 -3.380675  4.400839 -4.604427\n",
       "Hu Moment 6 -2.909202  3.494240 -2.935502\n",
       "Hu Moment 7 -3.598848 -6.915659  4.214191"
      ]
     },
     "execution_count": 18,
     "metadata": {},
     "output_type": "execute_result"
    }
   ],
   "source": [
    "final_df"
   ]
  },
  {
   "cell_type": "markdown",
   "id": "divided-treasure",
   "metadata": {},
   "source": [
    "## Top-Down View"
   ]
  },
  {
   "cell_type": "code",
   "execution_count": 19,
   "id": "running-framing",
   "metadata": {},
   "outputs": [
    {
     "data": {
      "image/png": "[encoded data removed]",
      "text/plain": [
       "<Figure size 360x360 with 3 Axes>"
      ]
     },
     "metadata": {
      "needs_background": "light"
     },
     "output_type": "display_data"
    }
   ],
   "source": [
    "feature_arr = [f\"Hu Moment {(i + 1)}\" for i in range(7)]\n",
    "final_df = pd.DataFrame(columns = feature_arr)\n",
    "\n",
    "fig, axs = plt.subplots(1, 3, figsize=(5,5))\n",
    "\n",
    "for (ind, img_path) in enumerate([f\"Images\\\\{fruit}_3.jpg\" for fruit in [\"apple\", \"lemon\", \"lychee\"]]):\n",
    "    axs[ind].imshow(convert_img_to_canny(img_path), interpolation = 'nearest')\n",
    "    axs[ind].axis('off')\n",
    "    final_df = final_df.append(gen_hu_moment(convert_img_to_canny(img_path)), ignore_index = True)"
   ]
  },
  {
   "cell_type": "code",
   "execution_count": 20,
   "id": "female-growing",
   "metadata": {},
   "outputs": [],
   "source": [
    "final_df = final_df.T\n",
    "final_df = final_df.rename(columns = {ind:val.capitalize() for (ind, val) in enumerate([\"apple\", \"lemon\", \"lychee\"])})"
   ]
  },
  {
   "cell_type": "code",
   "execution_count": 21,
   "id": "living-russia",
   "metadata": {},
   "outputs": [
    {
     "data": {
      "text/html": [
       "<div>\n",
       "<style scoped>\n",
       "    .dataframe tbody tr th:only-of-type {\n",
       "        vertical-align: middle;\n",
       "    }\n",
       "\n",
       "    .dataframe tbody tr th {\n",
       "        vertical-align: top;\n",
       "    }\n",
       "\n",
       "    .dataframe thead th {\n",
       "        text-align: right;\n",
       "    }\n",
       "</style>\n",
       "<table border=\"1\" class=\"dataframe\">\n",
       "  <thead>\n",
       "    <tr style=\"text-align: right;\">\n",
       "      <th></th>\n",
       "      <th>Apple</th>\n",
       "      <th>Lemon</th>\n",
       "      <th>Lychee</th>\n",
       "    </tr>\n",
       "  </thead>\n",
       "  <tbody>\n",
       "    <tr>\n",
       "      <th>Hu Moment 1</th>\n",
       "      <td>0.290194</td>\n",
       "      <td>-0.102574</td>\n",
       "      <td>0.796805</td>\n",
       "    </tr>\n",
       "    <tr>\n",
       "      <th>Hu Moment 2</th>\n",
       "      <td>4.408791</td>\n",
       "      <td>-0.009249</td>\n",
       "      <td>4.373219</td>\n",
       "    </tr>\n",
       "    <tr>\n",
       "      <th>Hu Moment 3</th>\n",
       "      <td>3.262780</td>\n",
       "      <td>0.316570</td>\n",
       "      <td>5.529987</td>\n",
       "    </tr>\n",
       "    <tr>\n",
       "      <th>Hu Moment 4</th>\n",
       "      <td>2.223147</td>\n",
       "      <td>1.130707</td>\n",
       "      <td>8.317227</td>\n",
       "    </tr>\n",
       "    <tr>\n",
       "      <th>Hu Moment 5</th>\n",
       "      <td>-5.137279</td>\n",
       "      <td>-1.854486</td>\n",
       "      <td>15.658201</td>\n",
       "    </tr>\n",
       "    <tr>\n",
       "      <th>Hu Moment 6</th>\n",
       "      <td>4.669923</td>\n",
       "      <td>-1.126194</td>\n",
       "      <td>10.504104</td>\n",
       "    </tr>\n",
       "    <tr>\n",
       "      <th>Hu Moment 7</th>\n",
       "      <td>-5.097766</td>\n",
       "      <td>3.448494</td>\n",
       "      <td>-15.275184</td>\n",
       "    </tr>\n",
       "  </tbody>\n",
       "</table>\n",
       "</div>"
      ],
      "text/plain": [
       "                Apple     Lemon     Lychee\n",
       "Hu Moment 1  0.290194 -0.102574   0.796805\n",
       "Hu Moment 2  4.408791 -0.009249   4.373219\n",
       "Hu Moment 3  3.262780  0.316570   5.529987\n",
       "Hu Moment 4  2.223147  1.130707   8.317227\n",
       "Hu Moment 5 -5.137279 -1.854486  15.658201\n",
       "Hu Moment 6  4.669923 -1.126194  10.504104\n",
       "Hu Moment 7 -5.097766  3.448494 -15.275184"
      ]
     },
     "execution_count": 21,
     "metadata": {},
     "output_type": "execute_result"
    }
   ],
   "source": [
    "final_df"
   ]
  },
  {
   "cell_type": "code",
   "execution_count": null,
   "id": "blind-terminal",
   "metadata": {},
   "outputs": [],
   "source": []
  }
 ],
 "metadata": {
  "kernelspec": {
   "display_name": "Python 3",
   "language": "python",
   "name": "python3"
  },
  "language_info": {
   "codemirror_mode": {
    "name": "ipython",
    "version": 3
   },
   "file_extension": ".py",
   "mimetype": "text/x-python",
   "name": "python",
   "nbconvert_exporter": "python",
   "pygments_lexer": "ipython3",
   "version": "3.9.1"
  }
 },
 "nbformat": 4,
 "nbformat_minor": 5
}
