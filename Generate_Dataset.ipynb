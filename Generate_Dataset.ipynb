{
 "cells": [
  {
   "cell_type": "code",
   "execution_count": 13,
   "id": "arranged-catch",
   "metadata": {},
   "outputs": [],
   "source": [
    "import numpy as np\n",
    "import pandas as pd\n",
    "import itertools\n",
    "from glob import glob\n",
    "from PIL import Image\n",
    "import matplotlib\n",
    "import matplotlib.pyplot as plt\n",
    "%matplotlib inline "
   ]
  },
  {
   "cell_type": "markdown",
   "id": "threaded-testing",
   "metadata": {},
   "source": [
    "## Load Images"
   ]
  },
  {
   "cell_type": "markdown",
   "id": "fitted-escape",
   "metadata": {},
   "source": [
    "### List all folder"
   ]
  },
  {
   "cell_type": "code",
   "execution_count": 2,
   "id": "peripheral-binding",
   "metadata": {},
   "outputs": [
    {
     "data": {
      "text/plain": [
       "['Dataset\\\\Apple\\\\',\n",
       " 'Dataset\\\\Banana\\\\',\n",
       " 'Dataset\\\\Grape\\\\',\n",
       " 'Dataset\\\\Limes\\\\',\n",
       " 'Dataset\\\\Mango\\\\',\n",
       " 'Dataset\\\\Peach\\\\',\n",
       " 'Dataset\\\\Pear\\\\',\n",
       " 'Dataset\\\\Strawberry\\\\']"
      ]
     },
     "execution_count": 2,
     "metadata": {},
     "output_type": "execute_result"
    }
   ],
   "source": [
    "image_folders = glob('Dataset/*/')\n",
    "image_folders"
   ]
  },
  {
   "cell_type": "markdown",
   "id": "signed-difference",
   "metadata": {},
   "source": [
    "### List all images in each folder"
   ]
  },
  {
   "cell_type": "code",
   "execution_count": 3,
   "id": "violent-compact",
   "metadata": {},
   "outputs": [],
   "source": [
    "folder_path = image_folders[0]\n",
    "folder_name = folder_path.split(\"\\\\\")[1]\n",
    "all_image_in_folder = glob(folder_path + \"*.jpg\")"
   ]
  },
  {
   "cell_type": "markdown",
   "id": "utility-helena",
   "metadata": {},
   "source": [
    "### List Single Image"
   ]
  },
  {
   "cell_type": "code",
   "execution_count": 4,
   "id": "authorized-hampton",
   "metadata": {},
   "outputs": [],
   "source": [
    "img_path = all_image_in_folder[0]\n",
    "label = folder_name"
   ]
  },
  {
   "cell_type": "markdown",
   "id": "figured-addition",
   "metadata": {},
   "source": [
    "### Load Single Image"
   ]
  },
  {
   "cell_type": "code",
   "execution_count": 5,
   "id": "academic-purpose",
   "metadata": {},
   "outputs": [],
   "source": [
    "img = Image.open(img_path)"
   ]
  },
  {
   "cell_type": "markdown",
   "id": "mexican-boost",
   "metadata": {},
   "source": [
    "### Display Image"
   ]
  },
  {
   "cell_type": "code",
   "execution_count": 6,
   "id": "crude-shareware",
   "metadata": {},
   "outputs": [],
   "source": [
    "def display(img):\n",
    "    plt.imshow (img, interpolation = 'nearest')\n",
    "    _ = plt.axis(False)\n",
    "    print(\"Image Shape: \", img.shape)"
   ]
  },
  {
   "cell_type": "markdown",
   "id": "intellectual-favor",
   "metadata": {},
   "source": [
    "### Flatten Image"
   ]
  },
  {
   "cell_type": "code",
   "execution_count": 7,
   "id": "drawn-exploration",
   "metadata": {},
   "outputs": [],
   "source": [
    "img_resize = img.resize((64, 64))\n",
    "img_arr = np.array(img_resize)\n",
    "img_flatten = img_arr.reshape(1, -1).T"
   ]
  },
  {
   "cell_type": "markdown",
   "id": "complex-public",
   "metadata": {},
   "source": [
    "### Get minimum number of images"
   ]
  },
  {
   "cell_type": "code",
   "execution_count": 22,
   "id": "floating-scenario",
   "metadata": {},
   "outputs": [],
   "source": [
    "num_image_arr = []\n",
    "for folder_path in glob('Dataset/*/'):\n",
    "    folder_name = folder_path.split(\"\\\\\")[1]\n",
    "    all_images = glob(folder_path + \"*.jpg\")\n",
    "    num_image_arr.append(len(all_images))\n",
    "min_num_of_img = min(num_image_arr)"
   ]
  },
  {
   "cell_type": "markdown",
   "id": "fresh-privilege",
   "metadata": {},
   "source": [
    "### Generate CSV"
   ]
  },
  {
   "cell_type": "code",
   "execution_count": 8,
   "id": "floral-enhancement",
   "metadata": {},
   "outputs": [],
   "source": [
    "all_img_arr = []\n",
    "for folder_path in glob('Dataset/*/'):\n",
    "    folder_name = folder_path.split(\"\\\\\")[1]\n",
    "    all_images = glob(folder_path + \"*.jpg\")\n",
    "    all_images = all_images[0:min_num_of_img]\n",
    "    for img_path in all_images:\n",
    "        img = Image.open(img_path)\n",
    "        img_resize = img.resize((64, 64))\n",
    "        img_arr = np.array(img_resize)\n",
    "        img_flatten = img_arr.reshape(1, -1).T\n",
    "        img_squeeze = np.squeeze(img_flatten)\n",
    "        all_img_arr.append(img_squeeze)"
   ]
  },
  {
   "cell_type": "code",
   "execution_count": 9,
   "id": "third-catalog",
   "metadata": {},
   "outputs": [],
   "source": [
    "df = pd.DataFrame(all_img_arr)"
   ]
  },
  {
   "cell_type": "code",
   "execution_count": 11,
   "id": "informal-concern",
   "metadata": {},
   "outputs": [],
   "source": [
    "df.rename(columns={i:f'Pixel {i}' for i in range(64 * 64 *3)}, inplace = True)"
   ]
  },
  {
   "cell_type": "code",
   "execution_count": 19,
   "id": "mexican-prison",
   "metadata": {},
   "outputs": [],
   "source": [
    "folder_name_arr = [folder_path.split(\"\\\\\")[1] for folder_path in glob('Dataset/*/')]\n",
    "label_arr = list(itertools.chain.from_iterable(itertools.repeat(x, min_num_of_img) for x in folder_name_arr))"
   ]
  },
  {
   "cell_type": "code",
   "execution_count": 25,
   "id": "artificial-illness",
   "metadata": {},
   "outputs": [],
   "source": [
    "df[\"Label\"] = label_arr"
   ]
  },
  {
   "cell_type": "markdown",
   "id": "supreme-account",
   "metadata": {},
   "source": [
    "### Output CSV"
   ]
  },
  {
   "cell_type": "code",
   "execution_count": 51,
   "id": "pediatric-hayes",
   "metadata": {},
   "outputs": [],
   "source": [
    "# df.to_csv(\"Image_Dataset.csv\", index=False)"
   ]
  },
  {
   "cell_type": "markdown",
   "id": "smaller-brunswick",
   "metadata": {},
   "source": [
    "### Convert Dataset Image back to OpenCV Image"
   ]
  },
  {
   "cell_type": "code",
   "execution_count": 48,
   "id": "corrected-farming",
   "metadata": {},
   "outputs": [],
   "source": [
    "idx = 64\n",
    "img = df.iloc[idx, 0:-1].values\n",
    "img = img.reshape(64, 64, 3)\n",
    "img = img.astype(np.int64)"
   ]
  },
  {
   "cell_type": "markdown",
   "id": "cooked-general",
   "metadata": {},
   "source": [
    "## Construct Pipeline"
   ]
  },
  {
   "cell_type": "markdown",
   "id": "hispanic-buffalo",
   "metadata": {},
   "source": [
    "1. Convert to Numpy Array\n",
    "2. Resize image to 64 * 64\n",
    "3. Use Color Histogram to reduce color intensity value of image\n",
    "4. Flatten the numpy array\n",
    "5. Extract area\n",
    "6. Extract Perimeter\n",
    "7. Put Label"
   ]
  },
  {
   "cell_type": "markdown",
   "id": "announced-quarter",
   "metadata": {},
   "source": [
    "## Principle Component Analysis"
   ]
  },
  {
   "cell_type": "markdown",
   "id": "accredited-commission",
   "metadata": {},
   "source": [
    "## Train Model"
   ]
  },
  {
   "cell_type": "markdown",
   "id": "southeast-election",
   "metadata": {},
   "source": [
    "## Test Model"
   ]
  },
  {
   "cell_type": "markdown",
   "id": "invalid-loading",
   "metadata": {},
   "source": [
    "## Accuracy of the model"
   ]
  },
  {
   "cell_type": "code",
   "execution_count": null,
   "id": "smart-rider",
   "metadata": {},
   "outputs": [],
   "source": []
  }
 ],
 "metadata": {
  "kernelspec": {
   "display_name": "Python 3",
   "language": "python",
   "name": "python3"
  },
  "language_info": {
   "codemirror_mode": {
    "name": "ipython",
    "version": 3
   },
   "file_extension": ".py",
   "mimetype": "text/x-python",
   "name": "python",
   "nbconvert_exporter": "python",
   "pygments_lexer": "ipython3",
   "version": "3.9.1"
  }
 },
 "nbformat": 4,
 "nbformat_minor": 5
}
