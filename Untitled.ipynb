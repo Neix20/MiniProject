{
 "cells": [
  {
   "cell_type": "code",
   "execution_count": 1,
   "id": "finite-bacon",
   "metadata": {},
   "outputs": [],
   "source": [
    "import numpy as np\n",
    "import pandas as pd\n",
    "import seaborn as sns\n",
    "import matplotlib.pyplot as plt\n",
    "from sklearn.preprocessing import StandardScaler\n",
    "from sklearn.ensemble import RandomForestClassifier  #Random Forest algorithm\n",
    "from sklearn.model_selection import train_test_split\n",
    "from sklearn.metrics import classification_report, confusion_matrix\n",
    "from sklearn.model_selection import cross_val_score\n",
    "%matplotlib inline"
   ]
  },
  {
   "cell_type": "markdown",
   "id": "closed-spray",
   "metadata": {},
   "source": [
    "## Load Dataset"
   ]
  },
  {
   "cell_type": "code",
   "execution_count": 2,
   "id": "logical-running",
   "metadata": {},
   "outputs": [],
   "source": [
    "df = pd.read_csv(\"Image_Dataset_color_features.csv\")"
   ]
  },
  {
   "cell_type": "markdown",
   "id": "agricultural-glasgow",
   "metadata": {},
   "source": [
    "## Seperate the target and independant variables"
   ]
  },
  {
   "cell_type": "code",
   "execution_count": 3,
   "id": "focal-battlefield",
   "metadata": {},
   "outputs": [],
   "source": [
    "df_X = df.iloc[:, 0:-1]\n",
    "df_Y = df.iloc[:, -1]"
   ]
  },
  {
   "cell_type": "code",
   "execution_count": 5,
   "id": "latest-laugh",
   "metadata": {},
   "outputs": [],
   "source": [
    "df_X = df_X / 255."
   ]
  },
  {
   "cell_type": "markdown",
   "id": "critical-summary",
   "metadata": {},
   "source": [
    "## Train Test Split Model"
   ]
  },
  {
   "cell_type": "code",
   "execution_count": 7,
   "id": "informational-swedish",
   "metadata": {},
   "outputs": [],
   "source": [
    "#Split the dataset\n",
    "X_train, X_test, y_train, y_test = train_test_split(df_X, df_Y, test_size=0.2, random_state=0)"
   ]
  },
  {
   "cell_type": "markdown",
   "id": "specialized-alert",
   "metadata": {},
   "source": [
    "## Train Random Forest Model"
   ]
  },
  {
   "cell_type": "code",
   "execution_count": 14,
   "id": "clinical-nutrition",
   "metadata": {},
   "outputs": [
    {
     "data": {
      "text/plain": [
       "SVC(decision_function_shape='ovo')"
      ]
     },
     "execution_count": 14,
     "metadata": {},
     "output_type": "execute_result"
    }
   ],
   "source": [
    "from sklearn import svm\n",
    "model = svm.SVC(decision_function_shape='ovo')\n",
    "model.fit(X_train,y_train)"
   ]
  },
  {
   "cell_type": "code",
   "execution_count": 34,
   "id": "addressed-portland",
   "metadata": {},
   "outputs": [],
   "source": [
    "y_pred = model.predict(X_test)"
   ]
  },
  {
   "cell_type": "markdown",
   "id": "organizational-tiger",
   "metadata": {},
   "source": [
    "## Cross Validation Score"
   ]
  },
  {
   "cell_type": "code",
   "execution_count": 35,
   "id": "bacterial-munich",
   "metadata": {},
   "outputs": [
    {
     "name": "stdout",
     "output_type": "stream",
     "text": [
      "[1. 1. 1. 1. 1.]\n"
     ]
    }
   ],
   "source": [
    "from sklearn.model_selection import cross_val_score\n",
    "score = cross_val_score(model, df_X, df_Y)\n",
    "print(score)"
   ]
  },
  {
   "cell_type": "markdown",
   "id": "economic-defendant",
   "metadata": {},
   "source": [
    "## Accuracy of Model"
   ]
  },
  {
   "cell_type": "code",
   "execution_count": 36,
   "id": "outstanding-manual",
   "metadata": {},
   "outputs": [
    {
     "name": "stdout",
     "output_type": "stream",
     "text": [
      "1.0\n"
     ]
    }
   ],
   "source": [
    "from sklearn.metrics import accuracy_score\n",
    "print(accuracy_score(y_test, y_pred))"
   ]
  },
  {
   "cell_type": "markdown",
   "id": "flying-kansas",
   "metadata": {},
   "source": [
    "## Classification Report"
   ]
  },
  {
   "cell_type": "code",
   "execution_count": 37,
   "id": "environmental-carolina",
   "metadata": {},
   "outputs": [
    {
     "data": {
      "text/html": [
       "<div>\n",
       "<style scoped>\n",
       "    .dataframe tbody tr th:only-of-type {\n",
       "        vertical-align: middle;\n",
       "    }\n",
       "\n",
       "    .dataframe tbody tr th {\n",
       "        vertical-align: top;\n",
       "    }\n",
       "\n",
       "    .dataframe thead th {\n",
       "        text-align: right;\n",
       "    }\n",
       "</style>\n",
       "<table border=\"1\" class=\"dataframe\">\n",
       "  <thead>\n",
       "    <tr style=\"text-align: right;\">\n",
       "      <th></th>\n",
       "      <th>precision</th>\n",
       "      <th>recall</th>\n",
       "      <th>f1-score</th>\n",
       "      <th>support</th>\n",
       "    </tr>\n",
       "  </thead>\n",
       "  <tbody>\n",
       "    <tr>\n",
       "      <th>Apple</th>\n",
       "      <td>1.0</td>\n",
       "      <td>1.0</td>\n",
       "      <td>1.0</td>\n",
       "      <td>91.0</td>\n",
       "    </tr>\n",
       "    <tr>\n",
       "      <th>Banana</th>\n",
       "      <td>1.0</td>\n",
       "      <td>1.0</td>\n",
       "      <td>1.0</td>\n",
       "      <td>107.0</td>\n",
       "    </tr>\n",
       "    <tr>\n",
       "      <th>Grape</th>\n",
       "      <td>1.0</td>\n",
       "      <td>1.0</td>\n",
       "      <td>1.0</td>\n",
       "      <td>90.0</td>\n",
       "    </tr>\n",
       "    <tr>\n",
       "      <th>Limes</th>\n",
       "      <td>1.0</td>\n",
       "      <td>1.0</td>\n",
       "      <td>1.0</td>\n",
       "      <td>100.0</td>\n",
       "    </tr>\n",
       "    <tr>\n",
       "      <th>Mango</th>\n",
       "      <td>1.0</td>\n",
       "      <td>1.0</td>\n",
       "      <td>1.0</td>\n",
       "      <td>106.0</td>\n",
       "    </tr>\n",
       "    <tr>\n",
       "      <th>Peach</th>\n",
       "      <td>1.0</td>\n",
       "      <td>1.0</td>\n",
       "      <td>1.0</td>\n",
       "      <td>95.0</td>\n",
       "    </tr>\n",
       "    <tr>\n",
       "      <th>Pear</th>\n",
       "      <td>1.0</td>\n",
       "      <td>1.0</td>\n",
       "      <td>1.0</td>\n",
       "      <td>98.0</td>\n",
       "    </tr>\n",
       "    <tr>\n",
       "      <th>Strawberry</th>\n",
       "      <td>1.0</td>\n",
       "      <td>1.0</td>\n",
       "      <td>1.0</td>\n",
       "      <td>97.0</td>\n",
       "    </tr>\n",
       "    <tr>\n",
       "      <th>accuracy</th>\n",
       "      <td>1.0</td>\n",
       "      <td>1.0</td>\n",
       "      <td>1.0</td>\n",
       "      <td>1.0</td>\n",
       "    </tr>\n",
       "    <tr>\n",
       "      <th>macro avg</th>\n",
       "      <td>1.0</td>\n",
       "      <td>1.0</td>\n",
       "      <td>1.0</td>\n",
       "      <td>784.0</td>\n",
       "    </tr>\n",
       "    <tr>\n",
       "      <th>weighted avg</th>\n",
       "      <td>1.0</td>\n",
       "      <td>1.0</td>\n",
       "      <td>1.0</td>\n",
       "      <td>784.0</td>\n",
       "    </tr>\n",
       "  </tbody>\n",
       "</table>\n",
       "</div>"
      ],
      "text/plain": [
       "              precision  recall  f1-score  support\n",
       "Apple               1.0     1.0       1.0     91.0\n",
       "Banana              1.0     1.0       1.0    107.0\n",
       "Grape               1.0     1.0       1.0     90.0\n",
       "Limes               1.0     1.0       1.0    100.0\n",
       "Mango               1.0     1.0       1.0    106.0\n",
       "Peach               1.0     1.0       1.0     95.0\n",
       "Pear                1.0     1.0       1.0     98.0\n",
       "Strawberry          1.0     1.0       1.0     97.0\n",
       "accuracy            1.0     1.0       1.0      1.0\n",
       "macro avg           1.0     1.0       1.0    784.0\n",
       "weighted avg        1.0     1.0       1.0    784.0"
      ]
     },
     "execution_count": 37,
     "metadata": {},
     "output_type": "execute_result"
    }
   ],
   "source": [
    "pd.DataFrame(classification_report(y_test, y_pred, output_dict = True)).T"
   ]
  },
  {
   "cell_type": "markdown",
   "id": "instrumental-ontario",
   "metadata": {},
   "source": [
    "## Confusion matrix"
   ]
  },
  {
   "cell_type": "code",
   "execution_count": 38,
   "id": "afraid-yeast",
   "metadata": {},
   "outputs": [
    {
     "data": {
      "image/png": "[encoded data removed]",
      "text/plain": [
       "<Figure size 864x864 with 2 Axes>"
      ]
     },
     "metadata": {
      "needs_background": "light"
     },
     "output_type": "display_data"
    }
   ],
   "source": [
    "from sklearn.metrics import confusion_matrix\n",
    "confusion_matrix_df = pd.DataFrame(confusion_matrix(y_test, y_pred), index = df_Y.unique(), columns = df_Y.unique())\n",
    "fig = plt.figure(figsize=(12,12))\n",
    "sns.heatmap(confusion_matrix_df,annot=True, fmt='g')\n",
    "plt.show()"
   ]
  },
  {
   "cell_type": "code",
   "execution_count": 39,
   "id": "smart-order",
   "metadata": {},
   "outputs": [
    {
     "name": "stdout",
     "output_type": "stream",
     "text": [
      "784\n"
     ]
    }
   ],
   "source": [
    "print(len(y_pred))"
   ]
  },
  {
   "cell_type": "code",
   "execution_count": 40,
   "id": "skilled-bristol",
   "metadata": {},
   "outputs": [
    {
     "name": "stdout",
     "output_type": "stream",
     "text": [
      "784\n"
     ]
    }
   ],
   "source": [
    "print(len(y_test))"
   ]
  },
  {
   "cell_type": "code",
   "execution_count": 41,
   "id": "speaking-resident",
   "metadata": {},
   "outputs": [
    {
     "name": "stdout",
     "output_type": "stream",
     "text": [
      "['Banana' 'Apple' 'Strawberry' 'Pear' 'Grape' 'Peach' 'Apple' 'Pear'\n",
      " 'Strawberry' 'Apple' 'Strawberry' 'Banana' 'Grape' 'Peach' 'Mango'\n",
      " 'Strawberry' 'Peach' 'Grape' 'Apple' 'Peach' 'Mango' 'Pear' 'Mango'\n",
      " 'Grape' 'Mango' 'Pear' 'Pear' 'Grape' 'Pear' 'Limes' 'Mango' 'Banana'\n",
      " 'Banana' 'Limes' 'Banana' 'Pear' 'Mango' 'Pear' 'Pear' 'Limes' 'Apple'\n",
      " 'Strawberry' 'Peach' 'Grape' 'Pear' 'Strawberry' 'Mango' 'Apple' 'Mango'\n",
      " 'Limes' 'Limes' 'Strawberry' 'Grape' 'Strawberry' 'Limes' 'Pear' 'Pear'\n",
      " 'Grape' 'Strawberry' 'Limes' 'Limes' 'Grape' 'Pear' 'Peach' 'Banana'\n",
      " 'Mango' 'Banana' 'Pear' 'Strawberry' 'Banana' 'Strawberry' 'Limes'\n",
      " 'Mango' 'Strawberry' 'Grape' 'Banana' 'Limes' 'Limes' 'Limes' 'Banana'\n",
      " 'Limes' 'Banana' 'Mango' 'Apple' 'Grape' 'Pear' 'Pear' 'Peach' 'Limes'\n",
      " 'Apple' 'Peach' 'Pear' 'Mango' 'Banana' 'Banana' 'Mango' 'Peach' 'Mango'\n",
      " 'Banana' 'Strawberry']\n"
     ]
    }
   ],
   "source": [
    "print(y_pred[0:100])"
   ]
  },
  {
   "cell_type": "code",
   "execution_count": 42,
   "id": "hearing-thanksgiving",
   "metadata": {},
   "outputs": [
    {
     "name": "stdout",
     "output_type": "stream",
     "text": [
      "['Banana' 'Apple' 'Strawberry' 'Pear' 'Grape' 'Peach' 'Apple' 'Pear'\n",
      " 'Strawberry' 'Apple' 'Strawberry' 'Banana' 'Grape' 'Peach' 'Mango'\n",
      " 'Strawberry' 'Peach' 'Grape' 'Apple' 'Peach' 'Mango' 'Pear' 'Mango'\n",
      " 'Grape' 'Mango' 'Pear' 'Pear' 'Grape' 'Pear' 'Limes' 'Mango' 'Banana'\n",
      " 'Banana' 'Limes' 'Banana' 'Pear' 'Mango' 'Pear' 'Pear' 'Limes' 'Apple'\n",
      " 'Strawberry' 'Peach' 'Grape' 'Pear' 'Strawberry' 'Mango' 'Apple' 'Mango'\n",
      " 'Limes' 'Limes' 'Strawberry' 'Grape' 'Strawberry' 'Limes' 'Pear' 'Pear'\n",
      " 'Grape' 'Strawberry' 'Limes' 'Limes' 'Grape' 'Pear' 'Peach' 'Banana'\n",
      " 'Mango' 'Banana' 'Pear' 'Strawberry' 'Banana' 'Strawberry' 'Limes'\n",
      " 'Mango' 'Strawberry' 'Grape' 'Banana' 'Limes' 'Limes' 'Limes' 'Banana'\n",
      " 'Limes' 'Banana' 'Mango' 'Apple' 'Grape' 'Pear' 'Pear' 'Peach' 'Limes'\n",
      " 'Apple' 'Peach' 'Pear' 'Mango' 'Banana' 'Banana' 'Mango' 'Peach' 'Mango'\n",
      " 'Banana' 'Strawberry']\n"
     ]
    }
   ],
   "source": [
    "print(y_test.values[0:100])"
   ]
  },
  {
   "cell_type": "code",
   "execution_count": null,
   "id": "unavailable-hebrew",
   "metadata": {},
   "outputs": [],
   "source": []
  }
 ],
 "metadata": {
  "kernelspec": {
   "display_name": "Python 3",
   "language": "python",
   "name": "python3"
  },
  "language_info": {
   "codemirror_mode": {
    "name": "ipython",
    "version": 3
   },
   "file_extension": ".py",
   "mimetype": "text/x-python",
   "name": "python",
   "nbconvert_exporter": "python",
   "pygments_lexer": "ipython3",
   "version": "3.9.1"
  }
 },
 "nbformat": 4,
 "nbformat_minor": 5
}
