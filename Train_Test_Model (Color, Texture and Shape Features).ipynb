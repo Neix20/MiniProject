{
 "cells": [
  {
   "cell_type": "markdown",
   "id": "valued-hughes",
   "metadata": {},
   "source": [
    "## Load Libraries"
   ]
  },
  {
   "cell_type": "code",
   "execution_count": 1,
   "id": "comic-guinea",
   "metadata": {},
   "outputs": [],
   "source": [
    "import cv2\n",
    "import math\n",
    "import numpy as np\n",
    "import pandas as pd\n",
    "import seaborn as sns\n",
    "import skimage.measure\n",
    "import matplotlib.pyplot as plt\n",
    "\n",
    "from glob import glob\n",
    "from sklearn import svm\n",
    "from sklearn.multiclass import OneVsRestClassifier\n",
    "from sklearn.neighbors import KNeighborsClassifier\n",
    "from sklearn.ensemble import RandomForestClassifier\n",
    "from skimage.feature import greycomatrix, greycoprops\n",
    "from sklearn.preprocessing import StandardScaler, label_binarize\n",
    "from sklearn.model_selection import train_test_split, cross_val_score, KFold\n",
    "from sklearn.metrics import classification_report, confusion_matrix, precision_recall_curve, roc_curve\n",
    "%matplotlib inline"
   ]
  },
  {
   "cell_type": "markdown",
   "id": "mysterious-secretary",
   "metadata": {},
   "source": [
    "## Load Dataset"
   ]
  },
  {
   "cell_type": "code",
   "execution_count": 2,
   "id": "rental-balance",
   "metadata": {},
   "outputs": [],
   "source": [
    "df = pd.read_csv(\"Image_Dataset_Color_Texture_Shape_Features.csv\")"
   ]
  },
  {
   "cell_type": "markdown",
   "id": "instructional-castle",
   "metadata": {},
   "source": [
    "## Display Image"
   ]
  },
  {
   "cell_type": "code",
   "execution_count": 3,
   "id": "capital-phoenix",
   "metadata": {},
   "outputs": [],
   "source": [
    "def display(img):\n",
    "    plt.imshow (img, interpolation = 'nearest')\n",
    "    _ = plt.axis(False)\n",
    "    print(\"Image Shape: \", img.shape)"
   ]
  },
  {
   "cell_type": "markdown",
   "id": "close-sunglasses",
   "metadata": {},
   "source": [
    "## Seperate the target and independant variables"
   ]
  },
  {
   "cell_type": "code",
   "execution_count": 4,
   "id": "impressive-psychiatry",
   "metadata": {},
   "outputs": [],
   "source": [
    "df_X = df.iloc[:, 0:-1]\n",
    "df_Y = df.iloc[:, -1]"
   ]
  },
  {
   "cell_type": "code",
   "execution_count": 5,
   "id": "stock-papua",
   "metadata": {},
   "outputs": [
    {
     "data": {
      "text/plain": [
       "(2940, 528)"
      ]
     },
     "execution_count": 5,
     "metadata": {},
     "output_type": "execute_result"
    }
   ],
   "source": [
    "df_X.shape"
   ]
  },
  {
   "cell_type": "markdown",
   "id": "rocky-substitute",
   "metadata": {},
   "source": [
    "## Stratified K-Fold Validation"
   ]
  },
  {
   "cell_type": "code",
   "execution_count": 6,
   "id": "handled-ethics",
   "metadata": {},
   "outputs": [],
   "source": [
    "# kf = KFold(n_splits=4)\n",
    "# kf.get_n_splits(df_X)\n",
    "\n",
    "# for train_index, test_index in kf.split(df_X):\n",
    "#     X_train, X_test = df_X.iloc[train_index], df_X.iloc[test_index]\n",
    "#     y_train, y_test = df_Y.iloc[train_index], df_Y.iloc[test_index]\n",
    "# print(len(X_train), len(X_test))"
   ]
  },
  {
   "cell_type": "markdown",
   "id": "dangerous-consolidation",
   "metadata": {},
   "source": [
    "## Train Test Split Model"
   ]
  },
  {
   "cell_type": "code",
   "execution_count": 7,
   "id": "complimentary-frame",
   "metadata": {},
   "outputs": [],
   "source": [
    "#Split the dataset\n",
    "X_train, X_test, y_train, y_test = train_test_split(df_X, df_Y, test_size=0.2, random_state=0)"
   ]
  },
  {
   "cell_type": "markdown",
   "id": "lined-auditor",
   "metadata": {},
   "source": [
    "## Train Random Forest Model"
   ]
  },
  {
   "cell_type": "code",
   "execution_count": 8,
   "id": "bigger-plaintiff",
   "metadata": {},
   "outputs": [
    {
     "data": {
      "text/plain": [
       "RandomForestClassifier()"
      ]
     },
     "execution_count": 8,
     "metadata": {},
     "output_type": "execute_result"
    }
   ],
   "source": [
    "rf_model = RandomForestClassifier(n_estimators=100)\n",
    "rf_model.fit(X_train,y_train)"
   ]
  },
  {
   "cell_type": "code",
   "execution_count": 9,
   "id": "arranged-overhead",
   "metadata": {},
   "outputs": [],
   "source": [
    "y_pred = rf_model.predict(X_test)"
   ]
  },
  {
   "cell_type": "markdown",
   "id": "pursuant-requirement",
   "metadata": {},
   "source": [
    "## Cross Validation Score"
   ]
  },
  {
   "cell_type": "code",
   "execution_count": 10,
   "id": "steady-narrow",
   "metadata": {},
   "outputs": [
    {
     "name": "stdout",
     "output_type": "stream",
     "text": [
      "[1. 1. 1. 1. 1.]\n"
     ]
    }
   ],
   "source": [
    "from sklearn.model_selection import cross_val_score\n",
    "score = cross_val_score(rf_model, df_X, df_Y, cv=5)\n",
    "print(score)"
   ]
  },
  {
   "cell_type": "markdown",
   "id": "eight-meditation",
   "metadata": {},
   "source": [
    "## Accuracy of Model"
   ]
  },
  {
   "cell_type": "code",
   "execution_count": 11,
   "id": "separate-globe",
   "metadata": {},
   "outputs": [
    {
     "name": "stdout",
     "output_type": "stream",
     "text": [
      "588\n",
      "1.0\n"
     ]
    }
   ],
   "source": [
    "from sklearn.metrics import accuracy_score\n",
    "print(accuracy_score(y_test, y_pred, normalize=False))\n",
    "print(accuracy_score(y_test, y_pred))"
   ]
  },
  {
   "cell_type": "code",
   "execution_count": 12,
   "id": "polished-identification",
   "metadata": {},
   "outputs": [],
   "source": [
    "# count=0 \n",
    "# total = df_X.shape[0]\n",
    "# for i in range(total):\n",
    "#     check = model.predict([df_X.iloc[i]])\n",
    "#     if check[0] == df_Y.iloc[i] :\n",
    "#         count += 1\n",
    "# print(count)\n",
    "# print(\"Accuracy is \", count/total)"
   ]
  },
  {
   "cell_type": "markdown",
   "id": "checked-relevance",
   "metadata": {},
   "source": [
    "## Classification Report"
   ]
  },
  {
   "cell_type": "code",
   "execution_count": 13,
   "id": "mexican-prison",
   "metadata": {},
   "outputs": [
    {
     "data": {
      "text/html": [
       "<div>\n",
       "<style scoped>\n",
       "    .dataframe tbody tr th:only-of-type {\n",
       "        vertical-align: middle;\n",
       "    }\n",
       "\n",
       "    .dataframe tbody tr th {\n",
       "        vertical-align: top;\n",
       "    }\n",
       "\n",
       "    .dataframe thead th {\n",
       "        text-align: right;\n",
       "    }\n",
       "</style>\n",
       "<table border=\"1\" class=\"dataframe\">\n",
       "  <thead>\n",
       "    <tr style=\"text-align: right;\">\n",
       "      <th></th>\n",
       "      <th>precision</th>\n",
       "      <th>recall</th>\n",
       "      <th>f1-score</th>\n",
       "      <th>support</th>\n",
       "    </tr>\n",
       "  </thead>\n",
       "  <tbody>\n",
       "    <tr>\n",
       "      <th>Apple</th>\n",
       "      <td>1.0</td>\n",
       "      <td>1.0</td>\n",
       "      <td>1.0</td>\n",
       "      <td>94.0</td>\n",
       "    </tr>\n",
       "    <tr>\n",
       "      <th>Grape</th>\n",
       "      <td>1.0</td>\n",
       "      <td>1.0</td>\n",
       "      <td>1.0</td>\n",
       "      <td>100.0</td>\n",
       "    </tr>\n",
       "    <tr>\n",
       "      <th>Lemon</th>\n",
       "      <td>1.0</td>\n",
       "      <td>1.0</td>\n",
       "      <td>1.0</td>\n",
       "      <td>105.0</td>\n",
       "    </tr>\n",
       "    <tr>\n",
       "      <th>Limes</th>\n",
       "      <td>1.0</td>\n",
       "      <td>1.0</td>\n",
       "      <td>1.0</td>\n",
       "      <td>97.0</td>\n",
       "    </tr>\n",
       "    <tr>\n",
       "      <th>Lychee</th>\n",
       "      <td>1.0</td>\n",
       "      <td>1.0</td>\n",
       "      <td>1.0</td>\n",
       "      <td>81.0</td>\n",
       "    </tr>\n",
       "    <tr>\n",
       "      <th>Pear</th>\n",
       "      <td>1.0</td>\n",
       "      <td>1.0</td>\n",
       "      <td>1.0</td>\n",
       "      <td>111.0</td>\n",
       "    </tr>\n",
       "    <tr>\n",
       "      <th>accuracy</th>\n",
       "      <td>1.0</td>\n",
       "      <td>1.0</td>\n",
       "      <td>1.0</td>\n",
       "      <td>1.0</td>\n",
       "    </tr>\n",
       "    <tr>\n",
       "      <th>macro avg</th>\n",
       "      <td>1.0</td>\n",
       "      <td>1.0</td>\n",
       "      <td>1.0</td>\n",
       "      <td>588.0</td>\n",
       "    </tr>\n",
       "    <tr>\n",
       "      <th>weighted avg</th>\n",
       "      <td>1.0</td>\n",
       "      <td>1.0</td>\n",
       "      <td>1.0</td>\n",
       "      <td>588.0</td>\n",
       "    </tr>\n",
       "  </tbody>\n",
       "</table>\n",
       "</div>"
      ],
      "text/plain": [
       "              precision  recall  f1-score  support\n",
       "Apple               1.0     1.0       1.0     94.0\n",
       "Grape               1.0     1.0       1.0    100.0\n",
       "Lemon               1.0     1.0       1.0    105.0\n",
       "Limes               1.0     1.0       1.0     97.0\n",
       "Lychee              1.0     1.0       1.0     81.0\n",
       "Pear                1.0     1.0       1.0    111.0\n",
       "accuracy            1.0     1.0       1.0      1.0\n",
       "macro avg           1.0     1.0       1.0    588.0\n",
       "weighted avg        1.0     1.0       1.0    588.0"
      ]
     },
     "execution_count": 13,
     "metadata": {},
     "output_type": "execute_result"
    }
   ],
   "source": [
    "clf_report_1 = pd.DataFrame(classification_report(y_test, y_pred, output_dict = True)).T\n",
    "clf_report_1"
   ]
  },
  {
   "cell_type": "markdown",
   "id": "stock-carrier",
   "metadata": {},
   "source": [
    "## Confusion matrix"
   ]
  },
  {
   "cell_type": "code",
   "execution_count": 14,
   "id": "nuclear-efficiency",
   "metadata": {},
   "outputs": [
    {
     "data": {
      "image/png": "[encoded data removed]",
      "text/plain": [
       "<Figure size 864x864 with 2 Axes>"
      ]
     },
     "metadata": {
      "needs_background": "light"
     },
     "output_type": "display_data"
    }
   ],
   "source": [
    "from sklearn.metrics import confusion_matrix\n",
    "confusion_matrix_df = pd.DataFrame(confusion_matrix(y_test, y_pred), index = df_Y.unique(), columns = df_Y.unique())\n",
    "fig = plt.figure(figsize=(12,12))\n",
    "sns.heatmap(confusion_matrix_df,annot=True, fmt='g')\n",
    "plt.show()"
   ]
  },
  {
   "cell_type": "markdown",
   "id": "foster-thumb",
   "metadata": {},
   "source": [
    "## Feature Importance"
   ]
  },
  {
   "cell_type": "markdown",
   "id": "municipal-hindu",
   "metadata": {},
   "source": [
    "## Train Support Vector Machine"
   ]
  },
  {
   "cell_type": "code",
   "execution_count": 15,
   "id": "charming-angle",
   "metadata": {},
   "outputs": [
    {
     "data": {
      "text/plain": [
       "SVC(decision_function_shape='ovo')"
      ]
     },
     "execution_count": 15,
     "metadata": {},
     "output_type": "execute_result"
    }
   ],
   "source": [
    "svm_model = svm.SVC(decision_function_shape='ovo')\n",
    "svm_model.fit(X_train,y_train)"
   ]
  },
  {
   "cell_type": "code",
   "execution_count": 16,
   "id": "korean-coordinate",
   "metadata": {},
   "outputs": [],
   "source": [
    "y_pred = svm_model.predict(X_test)"
   ]
  },
  {
   "cell_type": "code",
   "execution_count": 17,
   "id": "practical-spine",
   "metadata": {},
   "outputs": [
    {
     "name": "stdout",
     "output_type": "stream",
     "text": [
      "2915\n",
      "Accuracy is  0.9914965986394558\n"
     ]
    }
   ],
   "source": [
    "count=0 \n",
    "total = df_X.shape[0]\n",
    "for i in range(total):\n",
    "    check=svm_model.predict([df_X.iloc[i]])\n",
    "    if check[0] == df_Y.iloc[i] :\n",
    "        count += 1\n",
    "print(count)\n",
    "print(\"Accuracy is \", count/total)"
   ]
  },
  {
   "cell_type": "code",
   "execution_count": 18,
   "id": "induced-playback",
   "metadata": {},
   "outputs": [
    {
     "data": {
      "text/html": [
       "<div>\n",
       "<style scoped>\n",
       "    .dataframe tbody tr th:only-of-type {\n",
       "        vertical-align: middle;\n",
       "    }\n",
       "\n",
       "    .dataframe tbody tr th {\n",
       "        vertical-align: top;\n",
       "    }\n",
       "\n",
       "    .dataframe thead th {\n",
       "        text-align: right;\n",
       "    }\n",
       "</style>\n",
       "<table border=\"1\" class=\"dataframe\">\n",
       "  <thead>\n",
       "    <tr style=\"text-align: right;\">\n",
       "      <th></th>\n",
       "      <th>precision</th>\n",
       "      <th>recall</th>\n",
       "      <th>f1-score</th>\n",
       "      <th>support</th>\n",
       "    </tr>\n",
       "  </thead>\n",
       "  <tbody>\n",
       "    <tr>\n",
       "      <th>Apple</th>\n",
       "      <td>1.000000</td>\n",
       "      <td>1.000000</td>\n",
       "      <td>1.000000</td>\n",
       "      <td>94.000000</td>\n",
       "    </tr>\n",
       "    <tr>\n",
       "      <th>Grape</th>\n",
       "      <td>1.000000</td>\n",
       "      <td>1.000000</td>\n",
       "      <td>1.000000</td>\n",
       "      <td>100.000000</td>\n",
       "    </tr>\n",
       "    <tr>\n",
       "      <th>Lemon</th>\n",
       "      <td>0.990099</td>\n",
       "      <td>0.952381</td>\n",
       "      <td>0.970874</td>\n",
       "      <td>105.000000</td>\n",
       "    </tr>\n",
       "    <tr>\n",
       "      <th>Limes</th>\n",
       "      <td>1.000000</td>\n",
       "      <td>1.000000</td>\n",
       "      <td>1.000000</td>\n",
       "      <td>97.000000</td>\n",
       "    </tr>\n",
       "    <tr>\n",
       "      <th>Lychee</th>\n",
       "      <td>1.000000</td>\n",
       "      <td>0.987654</td>\n",
       "      <td>0.993789</td>\n",
       "      <td>81.000000</td>\n",
       "    </tr>\n",
       "    <tr>\n",
       "      <th>Pear</th>\n",
       "      <td>0.956897</td>\n",
       "      <td>1.000000</td>\n",
       "      <td>0.977974</td>\n",
       "      <td>111.000000</td>\n",
       "    </tr>\n",
       "    <tr>\n",
       "      <th>accuracy</th>\n",
       "      <td>0.989796</td>\n",
       "      <td>0.989796</td>\n",
       "      <td>0.989796</td>\n",
       "      <td>0.989796</td>\n",
       "    </tr>\n",
       "    <tr>\n",
       "      <th>macro avg</th>\n",
       "      <td>0.991166</td>\n",
       "      <td>0.990006</td>\n",
       "      <td>0.990439</td>\n",
       "      <td>588.000000</td>\n",
       "    </tr>\n",
       "    <tr>\n",
       "      <th>weighted avg</th>\n",
       "      <td>0.990095</td>\n",
       "      <td>0.989796</td>\n",
       "      <td>0.989785</td>\n",
       "      <td>588.000000</td>\n",
       "    </tr>\n",
       "  </tbody>\n",
       "</table>\n",
       "</div>"
      ],
      "text/plain": [
       "              precision    recall  f1-score     support\n",
       "Apple          1.000000  1.000000  1.000000   94.000000\n",
       "Grape          1.000000  1.000000  1.000000  100.000000\n",
       "Lemon          0.990099  0.952381  0.970874  105.000000\n",
       "Limes          1.000000  1.000000  1.000000   97.000000\n",
       "Lychee         1.000000  0.987654  0.993789   81.000000\n",
       "Pear           0.956897  1.000000  0.977974  111.000000\n",
       "accuracy       0.989796  0.989796  0.989796    0.989796\n",
       "macro avg      0.991166  0.990006  0.990439  588.000000\n",
       "weighted avg   0.990095  0.989796  0.989785  588.000000"
      ]
     },
     "execution_count": 18,
     "metadata": {},
     "output_type": "execute_result"
    }
   ],
   "source": [
    "clf_report_2 = pd.DataFrame(classification_report(y_test, y_pred, output_dict = True)).T\n",
    "clf_report_2"
   ]
  },
  {
   "cell_type": "code",
   "execution_count": 19,
   "id": "enabling-mitchell",
   "metadata": {},
   "outputs": [
    {
     "data": {
      "image/png": "[encoded data removed]",
      "text/plain": [
       "<Figure size 864x864 with 2 Axes>"
      ]
     },
     "metadata": {
      "needs_background": "light"
     },
     "output_type": "display_data"
    }
   ],
   "source": [
    "from sklearn.metrics import confusion_matrix\n",
    "confusion_matrix_df = pd.DataFrame(confusion_matrix(y_test, y_pred), index = df_Y.unique(), columns = df_Y.unique())\n",
    "fig = plt.figure(figsize=(12,12))\n",
    "sns.heatmap(confusion_matrix_df,annot=True, fmt='g')\n",
    "plt.show()"
   ]
  },
  {
   "cell_type": "code",
   "execution_count": 20,
   "id": "medical-psychology",
   "metadata": {},
   "outputs": [
    {
     "name": "stdout",
     "output_type": "stream",
     "text": [
      "Grape Grape\n"
     ]
    }
   ],
   "source": [
    "print(svm_model.predict([df_X.iloc[6]])[0], df_Y.iloc[6])"
   ]
  },
  {
   "cell_type": "markdown",
   "id": "solved-cutting",
   "metadata": {},
   "source": [
    "## Train K Nearest neighbor"
   ]
  },
  {
   "cell_type": "code",
   "execution_count": 21,
   "id": "handmade-vegetarian",
   "metadata": {},
   "outputs": [
    {
     "data": {
      "text/plain": [
       "KNeighborsClassifier(n_neighbors=3)"
      ]
     },
     "execution_count": 21,
     "metadata": {},
     "output_type": "execute_result"
    }
   ],
   "source": [
    "knn_model = KNeighborsClassifier(n_neighbors=3)\n",
    "knn_model.fit(X_train,y_train)"
   ]
  },
  {
   "cell_type": "code",
   "execution_count": 22,
   "id": "continental-circle",
   "metadata": {},
   "outputs": [],
   "source": [
    "y_pred = knn_model.predict(X_test)"
   ]
  },
  {
   "cell_type": "code",
   "execution_count": 23,
   "id": "caring-bandwidth",
   "metadata": {},
   "outputs": [
    {
     "name": "stdout",
     "output_type": "stream",
     "text": [
      "2939\n",
      "Accuracy is  0.9996598639455783\n"
     ]
    }
   ],
   "source": [
    "count=0 \n",
    "total = df_X.shape[0]\n",
    "for i in range(total):\n",
    "    check=knn_model.predict([df_X.iloc[i]])\n",
    "    if check[0] == df_Y.iloc[i] :\n",
    "        count += 1\n",
    "print(count)\n",
    "print(\"Accuracy is \", count/total)"
   ]
  },
  {
   "cell_type": "code",
   "execution_count": 24,
   "id": "conditional-lighter",
   "metadata": {},
   "outputs": [
    {
     "data": {
      "text/html": [
       "<div>\n",
       "<style scoped>\n",
       "    .dataframe tbody tr th:only-of-type {\n",
       "        vertical-align: middle;\n",
       "    }\n",
       "\n",
       "    .dataframe tbody tr th {\n",
       "        vertical-align: top;\n",
       "    }\n",
       "\n",
       "    .dataframe thead th {\n",
       "        text-align: right;\n",
       "    }\n",
       "</style>\n",
       "<table border=\"1\" class=\"dataframe\">\n",
       "  <thead>\n",
       "    <tr style=\"text-align: right;\">\n",
       "      <th></th>\n",
       "      <th>precision</th>\n",
       "      <th>recall</th>\n",
       "      <th>f1-score</th>\n",
       "      <th>support</th>\n",
       "    </tr>\n",
       "  </thead>\n",
       "  <tbody>\n",
       "    <tr>\n",
       "      <th>Apple</th>\n",
       "      <td>1.0</td>\n",
       "      <td>1.0</td>\n",
       "      <td>1.0</td>\n",
       "      <td>94.0</td>\n",
       "    </tr>\n",
       "    <tr>\n",
       "      <th>Grape</th>\n",
       "      <td>1.0</td>\n",
       "      <td>1.0</td>\n",
       "      <td>1.0</td>\n",
       "      <td>100.0</td>\n",
       "    </tr>\n",
       "    <tr>\n",
       "      <th>Lemon</th>\n",
       "      <td>1.0</td>\n",
       "      <td>1.0</td>\n",
       "      <td>1.0</td>\n",
       "      <td>105.0</td>\n",
       "    </tr>\n",
       "    <tr>\n",
       "      <th>Limes</th>\n",
       "      <td>1.0</td>\n",
       "      <td>1.0</td>\n",
       "      <td>1.0</td>\n",
       "      <td>97.0</td>\n",
       "    </tr>\n",
       "    <tr>\n",
       "      <th>Lychee</th>\n",
       "      <td>1.0</td>\n",
       "      <td>1.0</td>\n",
       "      <td>1.0</td>\n",
       "      <td>81.0</td>\n",
       "    </tr>\n",
       "    <tr>\n",
       "      <th>Pear</th>\n",
       "      <td>1.0</td>\n",
       "      <td>1.0</td>\n",
       "      <td>1.0</td>\n",
       "      <td>111.0</td>\n",
       "    </tr>\n",
       "    <tr>\n",
       "      <th>accuracy</th>\n",
       "      <td>1.0</td>\n",
       "      <td>1.0</td>\n",
       "      <td>1.0</td>\n",
       "      <td>1.0</td>\n",
       "    </tr>\n",
       "    <tr>\n",
       "      <th>macro avg</th>\n",
       "      <td>1.0</td>\n",
       "      <td>1.0</td>\n",
       "      <td>1.0</td>\n",
       "      <td>588.0</td>\n",
       "    </tr>\n",
       "    <tr>\n",
       "      <th>weighted avg</th>\n",
       "      <td>1.0</td>\n",
       "      <td>1.0</td>\n",
       "      <td>1.0</td>\n",
       "      <td>588.0</td>\n",
       "    </tr>\n",
       "  </tbody>\n",
       "</table>\n",
       "</div>"
      ],
      "text/plain": [
       "              precision  recall  f1-score  support\n",
       "Apple               1.0     1.0       1.0     94.0\n",
       "Grape               1.0     1.0       1.0    100.0\n",
       "Lemon               1.0     1.0       1.0    105.0\n",
       "Limes               1.0     1.0       1.0     97.0\n",
       "Lychee              1.0     1.0       1.0     81.0\n",
       "Pear                1.0     1.0       1.0    111.0\n",
       "accuracy            1.0     1.0       1.0      1.0\n",
       "macro avg           1.0     1.0       1.0    588.0\n",
       "weighted avg        1.0     1.0       1.0    588.0"
      ]
     },
     "execution_count": 24,
     "metadata": {},
     "output_type": "execute_result"
    }
   ],
   "source": [
    "clf_report_3 = pd.DataFrame(classification_report(y_test, y_pred, output_dict = True)).T\n",
    "clf_report_3"
   ]
  },
  {
   "cell_type": "code",
   "execution_count": 25,
   "id": "unknown-hughes",
   "metadata": {
    "scrolled": false
   },
   "outputs": [
    {
     "data": {
      "image/png": "[encoded data removed]",
      "text/plain": [
       "<Figure size 864x864 with 2 Axes>"
      ]
     },
     "metadata": {
      "needs_background": "light"
     },
     "output_type": "display_data"
    }
   ],
   "source": [
    "from sklearn.metrics import confusion_matrix\n",
    "confusion_matrix_df = pd.DataFrame(confusion_matrix(y_test, y_pred), index = df_Y.unique(), columns = df_Y.unique())\n",
    "fig = plt.figure(figsize=(12,12))\n",
    "sns.heatmap(confusion_matrix_df,annot=True, fmt='g')\n",
    "plt.show()"
   ]
  },
  {
   "cell_type": "markdown",
   "id": "ceramic-television",
   "metadata": {},
   "source": [
    "## Precision, Recall, F1-Score"
   ]
  },
  {
   "cell_type": "code",
   "execution_count": 26,
   "id": "million-calibration",
   "metadata": {},
   "outputs": [],
   "source": [
    "def pfr_graph(df, x_label, y_label, title):\n",
    "    df.plot.bar()\n",
    "    plt.legend(bbox_to_anchor=(1, 1.05))\n",
    "    plt.xlabel(x_label)\n",
    "    plt.ylabel(y_label)\n",
    "    plt.title(title)\n",
    "    plt.show()"
   ]
  },
  {
   "cell_type": "code",
   "execution_count": 27,
   "id": "emerging-above",
   "metadata": {},
   "outputs": [],
   "source": [
    "def get_df_type(model_name, clf_report1, clf_report2, col_name):\n",
    "    df = pd.DataFrame()\n",
    "    df[model_name[0]] = clf_report1[col_name][:-3]\n",
    "    df[model_name[1]] = clf_report2[col_name][:-3]\n",
    "    \n",
    "    # Replace NA value with 0\n",
    "    df.fillna(0, inplace=True)\n",
    "    return df"
   ]
  },
  {
   "cell_type": "markdown",
   "id": "solid-gibraltar",
   "metadata": {},
   "source": [
    "### Precision Graph"
   ]
  },
  {
   "cell_type": "code",
   "execution_count": 124,
   "id": "electrical-distributor",
   "metadata": {},
   "outputs": [
    {
     "data": {
      "image/png": "[encoded data removed]",
      "text/plain": [
       "<Figure size 432x288 with 1 Axes>"
      ]
     },
     "metadata": {
      "needs_background": "light"
     },
     "output_type": "display_data"
    }
   ],
   "source": [
    "model_name = [\"Random Forest\", \"K-Nearest Neighbor\", \"Support Vector Machine\"]\n",
    "df = get_df_type(model_name, clf_report_1, clf_report_3, clf_report_2, \"precision\")\n",
    "pfr_graph(df, \"Fashion Article Types\", \"Score\", \"Precision Comparison\")"
   ]
  },
  {
   "cell_type": "markdown",
   "id": "legendary-experiment",
   "metadata": {},
   "source": [
    "### Recall Graph"
   ]
  },
  {
   "cell_type": "code",
   "execution_count": 125,
   "id": "second-delta",
   "metadata": {},
   "outputs": [
    {
     "data": {
      "image/png": "[encoded data removed]",
      "text/plain": [
       "<Figure size 432x288 with 1 Axes>"
      ]
     },
     "metadata": {
      "needs_background": "light"
     },
     "output_type": "display_data"
    }
   ],
   "source": [
    "model_name = [\"Random Forest\", \"K-Nearest Neighbor\", \"Support Vector Machine\"]\n",
    "df = get_df_type(model_name, clf_report_1, clf_report_3, clf_report_2, \"recall\")\n",
    "pfr_graph(df, \"Fashion Article Types\", \"Score\", \"Recall Comparison\")"
   ]
  },
  {
   "cell_type": "markdown",
   "id": "electronic-burden",
   "metadata": {},
   "source": [
    "### F1-Score Graph"
   ]
  },
  {
   "cell_type": "code",
   "execution_count": 126,
   "id": "related-brass",
   "metadata": {},
   "outputs": [
    {
     "data": {
      "image/png": "[encoded data removed]",
      "text/plain": [
       "<Figure size 432x288 with 1 Axes>"
      ]
     },
     "metadata": {
      "needs_background": "light"
     },
     "output_type": "display_data"
    }
   ],
   "source": [
    "model_name = [\"Random Forest\", \"K-Nearest Neighbor\", \"Support Vector Machine\"]\n",
    "df = get_df_type(model_name, clf_report_1, clf_report_3, clf_report_2, \"f1-score\")\n",
    "pfr_graph(df, \"Fashion Article Types\", \"Score\", \"F1-Score Comparison\")"
   ]
  },
  {
   "cell_type": "markdown",
   "id": "forward-excess",
   "metadata": {},
   "source": [
    "## Precision Recall Curve"
   ]
  },
  {
   "cell_type": "code",
   "execution_count": 127,
   "id": "moderate-commodity",
   "metadata": {},
   "outputs": [],
   "source": [
    "map_fruit_val_dict = {key:val for val, key in enumerate(sorted(df_Y.unique()))}\n",
    "def map_fruit_val(x):\n",
    "    arr = [0 for i in range(6)]\n",
    "    arr[map_fruit_val_dict[x]] = 1\n",
    "    return arr"
   ]
  },
  {
   "cell_type": "markdown",
   "id": "artificial-feedback",
   "metadata": {},
   "source": [
    "#### Make Y_test into 2d Array"
   ]
  },
  {
   "cell_type": "code",
   "execution_count": 128,
   "id": "competitive-briefs",
   "metadata": {},
   "outputs": [],
   "source": [
    "y_test_arr = [map_fruit_val(key) for key in y_test.to_list()]\n",
    "y_test_arr = np.array(y_test_arr)"
   ]
  },
  {
   "cell_type": "markdown",
   "id": "fatty-franklin",
   "metadata": {},
   "source": [
    "#### Make Y_Preds into 2d Array"
   ]
  },
  {
   "cell_type": "code",
   "execution_count": 139,
   "id": "known-glory",
   "metadata": {},
   "outputs": [],
   "source": [
    "y_pred = svm_model.predict(X_test)\n",
    "y_pred_arr = [map_fruit_val(key) for key in y_pred]\n",
    "y_pred_arr = np.array(y_pred_arr)"
   ]
  },
  {
   "cell_type": "markdown",
   "id": "white-paris",
   "metadata": {},
   "source": [
    "#### Plot Precision Recall Curve"
   ]
  },
  {
   "cell_type": "code",
   "execution_count": 140,
   "id": "german-artwork",
   "metadata": {},
   "outputs": [
    {
     "data": {
      "image/png": "[encoded data removed]",
      "text/plain": [
       "<Figure size 432x288 with 1 Axes>"
      ]
     },
     "metadata": {
      "needs_background": "light"
     },
     "output_type": "display_data"
    }
   ],
   "source": [
    "precision, recall = {}, {}\n",
    "for ind, val in enumerate(sorted(df_Y.unique())):\n",
    "    precision[ind], recall[ind], _ = precision_recall_curve(y_test_arr[:, ind], y_pred_arr[:, ind])\n",
    "    plt.plot(recall[ind], precision[ind], lw=2, label=f\"SVM - {val}\")\n",
    "    plt.plot(np.linspace(0, 1, 20), np.linspace(1, 0, 20), 'k--')\n",
    "    \n",
    "plt.xlabel(\"recall\")\n",
    "plt.ylabel(\"precision\")\n",
    "plt.legend(loc = \"best\")\n",
    "plt.title(\"Precision vs. Recall curve\")\n",
    "plt.show()"
   ]
  },
  {
   "cell_type": "markdown",
   "id": "damaged-brisbane",
   "metadata": {},
   "source": [
    "## ROC Curve"
   ]
  },
  {
   "cell_type": "code",
   "execution_count": 141,
   "id": "attempted-force",
   "metadata": {},
   "outputs": [
    {
     "data": {
      "image/png": "[encoded data removed]",
      "text/plain": [
       "<Figure size 432x288 with 1 Axes>"
      ]
     },
     "metadata": {
      "needs_background": "light"
     },
     "output_type": "display_data"
    }
   ],
   "source": [
    "fpr, tpr = {}, {}\n",
    "for ind, val in enumerate(sorted(df_Y.unique())):\n",
    "    fpr[ind], tpr[ind], _ = roc_curve(y_test_arr[:, ind],y_pred_arr[:, ind])\n",
    "    plt.plot(fpr[ind], tpr[ind], lw=2, label=f\"SVM - {val}\")\n",
    "    plt.plot([0,1], [0, 1], 'k--')\n",
    "    plt.axis([0, 1, 0, 1])\n",
    "    \n",
    "plt.xlabel(\"False positive rate\")\n",
    "plt.ylabel(\"True positive rate\")\n",
    "plt.legend(loc=\"best\")\n",
    "plt.title(\"ROC curve\")\n",
    "plt.show()"
   ]
  },
  {
   "cell_type": "markdown",
   "id": "military-ground",
   "metadata": {},
   "source": [
    "## Accuracy among the three model"
   ]
  },
  {
   "cell_type": "code",
   "execution_count": 32,
   "id": "devoted-rental",
   "metadata": {},
   "outputs": [],
   "source": [
    "def acc_graph(model_name_arr ,acc_score_arr, x_label, y_label, title):\n",
    "    acc_dict = {\n",
    "        model_name: acc_score for model_name, acc_score in zip(model_name_arr, acc_score_arr)\n",
    "    }\n",
    "    df = pd.Series(acc_dict)\n",
    "    fig, ax = plt.subplots(figsize=(12, 2))\n",
    "    for ind, val in enumerate(df):\n",
    "        ax.barh(ind, val, 0.5, label=df.index[ind])\n",
    "        ax.text(val,ind,f\"{val:.3f}%\")\n",
    "    plt.yticks(np.arange(len(df)),df.index)\n",
    "    plt.legend(bbox_to_anchor=(1, 1.05))\n",
    "    plt.xlabel(x_label)\n",
    "    plt.ylabel(y_label)\n",
    "    plt.title(title)\n",
    "    plt.show()"
   ]
  },
  {
   "cell_type": "code",
   "execution_count": 142,
   "id": "analyzed-northern",
   "metadata": {},
   "outputs": [
    {
     "data": {
      "image/png": "[encoded data removed]",
      "text/plain": [
       "<Figure size 864x144 with 1 Axes>"
      ]
     },
     "metadata": {
      "needs_background": "light"
     },
     "output_type": "display_data"
    }
   ],
   "source": [
    "acc_score_arr = [accuracy_score(y_test, model.predict(X_test)) for model in [rf_model, knn_model, svm_model]]\n",
    "model_name = [\"Random Forest\", \"K-Nearest Neighbor\", \"Support Vector Machine\"]\n",
    "acc_graph(model_name, acc_score_arr, \"Accuracy Score\", \"Types of Model\", \"Accuracy Score Comparison\")"
   ]
  },
  {
   "cell_type": "markdown",
   "id": "hazardous-burlington",
   "metadata": {},
   "source": [
    "## Test Image"
   ]
  },
  {
   "cell_type": "markdown",
   "id": "sitting-locking",
   "metadata": {},
   "source": [
    "### Remove White Background (Threshold)"
   ]
  },
  {
   "cell_type": "code",
   "execution_count": 34,
   "id": "pharmaceutical-musical",
   "metadata": {},
   "outputs": [],
   "source": [
    "def remove_background(img, threshold):\n",
    "    \"\"\"\n",
    "    This method removes background from your image\n",
    "    \n",
    "    :param img: cv2 image\n",
    "    :type img: np.array\n",
    "    :param threshold: threshold value for cv2.threshold\n",
    "    :type threshold: float\n",
    "    :return: RGBA image\n",
    "    :rtype: np.ndarray\n",
    "    \"\"\"\n",
    "    \n",
    "    gray = cv2.cvtColor(img, cv2.COLOR_BGR2GRAY)\n",
    "    _, threshed = cv2.threshold(gray, threshold, 255, cv2.THRESH_BINARY_INV)\n",
    "    \n",
    "    kernel = cv2.getStructuringElement(cv2.MORPH_ELLIPSE, (11, 11))\n",
    "    morphed = cv2.morphologyEx(threshed, cv2.MORPH_CLOSE, kernel)\n",
    "    \n",
    "    cnts = cv2.findContours(morphed, cv2.RETR_EXTERNAL, cv2.CHAIN_APPROX_SIMPLE)[0]\n",
    "    cnt = sorted(cnts, key=cv2.contourArea)[-1]\n",
    "\n",
    "    mask = cv2.drawContours(threshed, cnt, 0, (0, 255, 0), 0)\n",
    "    masked_data = cv2.bitwise_and(img, img, mask=mask)\n",
    "\n",
    "    x, y, w, h = cv2.boundingRect(cnt)\n",
    "    dst = masked_data[y: y + h, x: x + w]\n",
    "\n",
    "    dst_gray = cv2.cvtColor(dst, cv2.COLOR_BGR2GRAY)\n",
    "    _, alpha = cv2.threshold(dst_gray, 0, 255, cv2.THRESH_BINARY)\n",
    "    b, g, r = cv2.split(dst)\n",
    "\n",
    "    rgba = [r, g, b, alpha]\n",
    "    dst = cv2.merge(rgba, 4)\n",
    "    \n",
    "    dst = cv2.cvtColor(dst, cv2.COLOR_BGRA2RGB)\n",
    "\n",
    "    return dst"
   ]
  },
  {
   "cell_type": "markdown",
   "id": "victorian-disorder",
   "metadata": {},
   "source": [
    "### Conversion Function"
   ]
  },
  {
   "cell_type": "markdown",
   "id": "communist-provision",
   "metadata": {},
   "source": [
    "#### Convert Val To RGB"
   ]
  },
  {
   "cell_type": "code",
   "execution_count": 35,
   "id": "arbitrary-object",
   "metadata": {},
   "outputs": [],
   "source": [
    "# def convert_val_to_rgb(x):\n",
    "#     if x >= 0 and x < 64:\n",
    "#         return \"00\"\n",
    "#     elif x >= 64 and x < 128:\n",
    "#         return \"55\"\n",
    "#     elif x >= 128 and x < 192:\n",
    "#         return \"AA\"\n",
    "#     else:\n",
    "#         return \"FF\""
   ]
  },
  {
   "cell_type": "code",
   "execution_count": 36,
   "id": "independent-taiwan",
   "metadata": {},
   "outputs": [],
   "source": [
    "# def convert_val_to_rgb(x):\n",
    "#     if x >= 0 and x < 42.5:\n",
    "#         return \"00\"\n",
    "#     elif x >= 42.5 and x < 85:\n",
    "#         return \"33\"\n",
    "#     elif x >= 85 and x < 127.5:\n",
    "#         return \"66\"\n",
    "#     elif x >= 127.5 and x < 170:\n",
    "#         return \"99\"\n",
    "#     elif x >= 170 and x < 212.5:\n",
    "#         return \"CC\"\n",
    "#     else:\n",
    "#         return \"FF\" "
   ]
  },
  {
   "cell_type": "code",
   "execution_count": 37,
   "id": "eight-ranch",
   "metadata": {},
   "outputs": [],
   "source": [
    "def convert_val_to_rgb(x):\n",
    "    if x >= 0 and x < 32:\n",
    "        return \"00\"\n",
    "    elif x >= 32 and x < 64:\n",
    "        return \"24\"\n",
    "    elif x >= 64 and x < 96:\n",
    "        return \"40\"\n",
    "    elif x >= 96 and x < 128:\n",
    "        return \"60\"\n",
    "    elif x >= 128 and x < 160:\n",
    "        return \"80\"\n",
    "    elif x >= 160 and x < 192:\n",
    "        return \"A0\"\n",
    "    elif x >= 192 and x < 224:\n",
    "        return \"C0\"\n",
    "    else:\n",
    "        return \"FF\" "
   ]
  },
  {
   "cell_type": "markdown",
   "id": "secondary-recipient",
   "metadata": {},
   "source": [
    "#### Convert Val To Bin"
   ]
  },
  {
   "cell_type": "code",
   "execution_count": 38,
   "id": "municipal-receiver",
   "metadata": {},
   "outputs": [],
   "source": [
    "# def convert_val_to_bin(x):\n",
    "#     if x >= 0 and x < 64:\n",
    "#         return 0\n",
    "#     elif x >= 64 and x < 128:\n",
    "#         return 85\n",
    "#     elif x >= 128 and x < 192:\n",
    "#         return 170\n",
    "#     else:\n",
    "#         return 255"
   ]
  },
  {
   "cell_type": "code",
   "execution_count": 39,
   "id": "nasty-airline",
   "metadata": {},
   "outputs": [],
   "source": [
    "# def convert_val_to_bin(x):\n",
    "#     if x >= 0 and x < 42.5:\n",
    "#         return 42\n",
    "#     elif x >= 42.5 and x < 85:\n",
    "#         return 84\n",
    "#     elif x >= 85 and x < 127.5:\n",
    "#         return 127\n",
    "#     elif x >= 127.5 and x < 170:\n",
    "#         return 169\n",
    "#     elif x >= 170 and x < 212.5:\n",
    "#         return 212\n",
    "#     else:\n",
    "#         return 255"
   ]
  },
  {
   "cell_type": "code",
   "execution_count": 40,
   "id": "retained-domain",
   "metadata": {},
   "outputs": [],
   "source": [
    "def convert_val_to_bin(x):\n",
    "    if x >= 0 and x < 32:\n",
    "        return 31\n",
    "    elif x >= 32 and x < 64:\n",
    "        return 63\n",
    "    elif x >= 64 and x < 96:\n",
    "        return 95\n",
    "    elif x >= 96 and x < 128:\n",
    "        return 127\n",
    "    elif x >= 128 and x < 160:\n",
    "        return 159\n",
    "    elif x >= 160 and x < 192:\n",
    "        return 191\n",
    "    elif x >= 192 and x < 224:\n",
    "        return 223\n",
    "    else:\n",
    "        return 255"
   ]
  },
  {
   "cell_type": "markdown",
   "id": "floating-growth",
   "metadata": {},
   "source": [
    "### Pipeline Color Features"
   ]
  },
  {
   "cell_type": "code",
   "execution_count": 41,
   "id": "structured-mexico",
   "metadata": {},
   "outputs": [],
   "source": [
    "def pipeline_color(cv_img):\n",
    "    img_arr = np.array(cv_img)\n",
    "    img_flatten = img_arr.reshape(1, -1).T\n",
    "    img_squeeze = np.squeeze(img_flatten)\n",
    "    img_convert = np.vectorize(convert_val_to_rgb)(img_squeeze)\n",
    "    img_2d_arr = img_convert.reshape(-1, 3)\n",
    "    img_list_arr = img_2d_arr.tolist()\n",
    "    convert_to_str = lambda x:\"#\"+\"\".join(list(map(str, x)))\n",
    "    img_str_arr = [convert_to_str(x) for x in img_list_arr]\n",
    "    new_arr = np.array(img_str_arr)\n",
    "    tmp_dict = {a:b for (a,b) in zip(np.unique(new_arr, return_counts=True)[0], np.unique(new_arr, return_counts=True)[1])}\n",
    "    return tmp_dict"
   ]
  },
  {
   "cell_type": "markdown",
   "id": "every-telephone",
   "metadata": {},
   "source": [
    "### Pipeline Texture Features"
   ]
  },
  {
   "cell_type": "code",
   "execution_count": 42,
   "id": "competitive-grant",
   "metadata": {},
   "outputs": [],
   "source": [
    "def pipeline_texture(img_gray):\n",
    "    tmp_dict = {}\n",
    "    tmp_dict[\"Mean\"] = np.mean(img_gray)\n",
    "    tmp_dict[\"Variance\"] = np.var(img_gray)\n",
    "    tmp_dict[\"Entropy\"] = skimage.measure.shannon_entropy(img_gray)\n",
    "    glcm = greycomatrix(img_gray, [2], [0], 256, symmetric = True, normed = True)\n",
    "    tmp_dict[\"Contrast\"] = greycoprops(glcm, prop=\"contrast\").item()\n",
    "    tmp_dict[\"Homogeneity\"] = greycoprops(glcm, prop=\"homogeneity\").item()\n",
    "    tmp_dict[\"Correlation\"] = greycoprops(glcm, prop=\"correlation\").item()\n",
    "    tmp_dict[\"Energy\"] = greycoprops(glcm, prop=\"energy\").item()\n",
    "    return tmp_dict"
   ]
  },
  {
   "cell_type": "markdown",
   "id": "extensive-attention",
   "metadata": {},
   "source": [
    "### Pipeline Shape Features"
   ]
  },
  {
   "cell_type": "code",
   "execution_count": 43,
   "id": "fatal-folder",
   "metadata": {},
   "outputs": [],
   "source": [
    "def pipeline_shape(img_gray):\n",
    "    # Apply Gaussian Blur to Image\n",
    "    img_blur = cv2.GaussianBlur(img_gray, (7,7), 1)\n",
    "\n",
    "    # Canny Edge Detection\n",
    "    img_canny = cv2.Canny(img_blur, 50, 150)\n",
    "\n",
    "    # Edge Detector\n",
    "    kernel = np.ones((5, 5), dtype = np.uint8)\n",
    "    img_dilate = cv2.dilate(img_canny, kernel, iterations = 2)\n",
    "\n",
    "    contours, hier = cv2.findContours(img_dilate, cv2.RETR_EXTERNAL, cv2.CHAIN_APPROX_SIMPLE)\n",
    "    area, peri = 0, 0\n",
    "    mu, huMoments = [], []\n",
    "    \n",
    "    for cnt in contours:\n",
    "        area = cv2.contourArea(cnt)\n",
    "        peri = cv2.arcLength(cnt, True)\n",
    "        mu = cv2.moments(cnt)\n",
    "        huMoments = cv2.HuMoments(mu)\n",
    "        \n",
    "    for i in range(0,7):\n",
    "        huMoments[i] = -1* math.copysign(1.0, huMoments[i]) * math.log10(abs(huMoments[i]) if abs(huMoments[i]) > 0 else 1)\n",
    "    \n",
    "    tmp_dict = {}\n",
    "    tmp_dict[\"Area\"] = area\n",
    "    tmp_dict[\"Perimeter\"] = peri\n",
    "    for (i, huMoment) in enumerate(huMoments):\n",
    "        tmp_dict[f\"huMoment {(i + 1)}\"] = huMoment[0]\n",
    "    return tmp_dict"
   ]
  },
  {
   "cell_type": "markdown",
   "id": "focal-enlargement",
   "metadata": {},
   "source": [
    "### Pipeline Final"
   ]
  },
  {
   "cell_type": "code",
   "execution_count": 44,
   "id": "little-mainstream",
   "metadata": {},
   "outputs": [],
   "source": [
    "def pipeline_final(img_path,alpha = 1.5, beta = 0, threshold = 225, w = 100, h = 100):\n",
    "    final_dict = {}\n",
    "    \n",
    "    cv_img = cv2.imread(img_path)\n",
    "    \n",
    "    # Resize Image\n",
    "    cv_img = cv2.resize(cv_img, (w,h),interpolation = cv2.INTER_AREA)\n",
    "    \n",
    "    # Remove White Background\n",
    "    cv_img = remove_background(cv_img, threshold)\n",
    "    \n",
    "    # Convert Image from RGB to BGR\n",
    "    cv_img = cv2.cvtColor(cv_img, cv2.COLOR_BGR2RGB)\n",
    "    \n",
    "    # Darken Image\n",
    "    cv_img = cv2.convertScaleAbs(cv_img, alpha=0.75, beta=20)\n",
    "    \n",
    "    # Get Color Features\n",
    "    color_feature_dict = pipeline_color(cv_img)\n",
    "    final_dict.update(color_feature_dict)\n",
    "    \n",
    "    # Convert Image to Gray Image\n",
    "    img_gray = cv2.cvtColor(cv_img, cv2.COLOR_RGB2GRAY)\n",
    "\n",
    "    # Get Texture Features\n",
    "    texture_feature_dict = pipeline_texture(img_gray)\n",
    "    final_dict.update(texture_feature_dict)\n",
    "\n",
    "    # Get Shape Features\n",
    "    shape_feature_dict = pipeline_shape(img_gray)\n",
    "    final_dict.update(shape_feature_dict)\n",
    "    \n",
    "    return final_dict"
   ]
  },
  {
   "cell_type": "code",
   "execution_count": 45,
   "id": "former-spanish",
   "metadata": {},
   "outputs": [],
   "source": [
    "feature_arr = []\n",
    "\n",
    "# cc = [\"00\", \"55\", \"AA\", \"FF\"]\n",
    "# cc = [\"00\", \"33\", \"66\", \"99\", \"CC\", \"FF\"]\n",
    "cc = [\"00\", \"24\", \"40\", \"60\", \"80\", \"A0\", \"C0\", \"FF\"]\n",
    "\n",
    "for i in cc:\n",
    "    for j in cc:\n",
    "        for k in cc:\n",
    "            feature_arr.append(f\"#{i}{j}{k}\")\n",
    "huMoment = [f\"huMoment {(i + 1)}\" for i in range(7)]\n",
    "feature_arr += [\"Mean\", \"Variance\", \"Entropy\", \"Contrast\", \"Homogeneity\", \"Correlation\", \"Energy\"]\n",
    "feature_arr += huMoment\n",
    "feature_arr += [\"Area\", \"Perimeter\"]"
   ]
  },
  {
   "cell_type": "markdown",
   "id": "adequate-dictionary",
   "metadata": {},
   "source": [
    "## List All Folders"
   ]
  },
  {
   "cell_type": "code",
   "execution_count": 46,
   "id": "grave-ottawa",
   "metadata": {},
   "outputs": [],
   "source": [
    "image_folders = glob('Test_Images/*/')"
   ]
  },
  {
   "cell_type": "markdown",
   "id": "delayed-airfare",
   "metadata": {},
   "source": [
    "## List all Files"
   ]
  },
  {
   "cell_type": "code",
   "execution_count": 47,
   "id": "latest-seafood",
   "metadata": {},
   "outputs": [],
   "source": [
    "for folder_path in image_folders:\n",
    "    folder_name = folder_path.split(\"\\\\\")[1]\n",
    "    all_image_in_folder = glob(folder_path + \"*.jpg\")"
   ]
  },
  {
   "cell_type": "markdown",
   "id": "excessive-coaching",
   "metadata": {},
   "source": [
    "## Verify Model Function"
   ]
  },
  {
   "cell_type": "code",
   "execution_count": 48,
   "id": "grave-polish",
   "metadata": {},
   "outputs": [],
   "source": [
    "def test_model(model, feature_arr, test_folder = \"Test_Images\"):\n",
    "    image_folders = glob(f'{test_folder}/*/')\n",
    "    for folder_path in image_folders:\n",
    "        final_df = pd.DataFrame(columns = feature_arr)\n",
    "        fruit_name = folder_path.split(\"\\\\\")[1]\n",
    "        all_image_in_folder = glob(folder_path + \"*.jpg\")\n",
    "        for img_path in all_image_in_folder:\n",
    "            final_dict = pipeline_final(img_path)\n",
    "            final_df = final_df.append(final_dict, ignore_index = True)\n",
    "        final_df.fillna(0, inplace=True)\n",
    "        pred_label = model.predict(final_df)\n",
    "        for (pred_fruit_name, img_path) in zip(pred_label, all_image_in_folder):\n",
    "            img_name = img_path.split(\"\\\\\")[-1]\n",
    "            print(f\"Success! {img_name} is {pred_fruit_name}!\" if pred_fruit_name == fruit_name else f\"Error... {img_name} is not {pred_fruit_name}...\")"
   ]
  },
  {
   "cell_type": "code",
   "execution_count": 49,
   "id": "negative-dover",
   "metadata": {},
   "outputs": [
    {
     "name": "stdout",
     "output_type": "stream",
     "text": [
      "Success! apple1.jpg is Apple!\n",
      "Success! apple2.jpg is Apple!\n",
      "Success! apple3.jpg is Apple!\n",
      "Success! apple4.jpg is Apple!\n",
      "Success! grape.jpg is Grape!\n",
      "Success! grape1.jpg is Grape!\n",
      "Success! grape2.jpg is Grape!\n",
      "Success! grape3.jpg is Grape!\n",
      "Error... grape4.jpg is not Lemon...\n",
      "Success! lemon1.jpg is Lemon!\n",
      "Success! lemon2.jpg is Lemon!\n",
      "Error... lemon3.jpg is not Limes...\n",
      "Success! lemon4.jpg is Lemon!\n",
      "Success! lemon5.jpg is Lemon!\n",
      "Success! lime.jpg is Limes!\n",
      "Success! Limes1.jpg is Limes!\n",
      "Success! Limes2.jpg is Limes!\n",
      "Success! Limes3.jpg is Limes!\n",
      "Error... Lychee1.jpg is not Apple...\n",
      "Success! Lychee2.jpg is Lychee!\n",
      "Success! Lychee3.jpg is Lychee!\n",
      "Error... lychee4.jpg is not Apple...\n",
      "Success! pear1.jpg is Pear!\n",
      "Success! pear2.jpg is Pear!\n",
      "Success! pear3.jpg is Pear!\n"
     ]
    }
   ],
   "source": [
    "test_model(rf_model, feature_arr)"
   ]
  },
  {
   "cell_type": "code",
   "execution_count": null,
   "id": "distributed-metro",
   "metadata": {},
   "outputs": [],
   "source": []
  },
  {
   "cell_type": "code",
   "execution_count": null,
   "id": "damaged-toronto",
   "metadata": {},
   "outputs": [],
   "source": []
  }
 ],
 "metadata": {
  "kernelspec": {
   "display_name": "Python 3",
   "language": "python",
   "name": "python3"
  },
  "language_info": {
   "codemirror_mode": {
    "name": "ipython",
    "version": 3
   },
   "file_extension": ".py",
   "mimetype": "text/x-python",
   "name": "python",
   "nbconvert_exporter": "python",
   "pygments_lexer": "ipython3",
   "version": "3.9.1"
  }
 },
 "nbformat": 4,
 "nbformat_minor": 5
}
