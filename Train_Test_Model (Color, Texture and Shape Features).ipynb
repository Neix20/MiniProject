{
 "cells": [
  {
   "cell_type": "markdown",
   "id": "valued-hughes",
   "metadata": {},
   "source": [
    "## Load Libraries"
   ]
  },
  {
   "cell_type": "code",
   "execution_count": 1,
   "id": "comic-guinea",
   "metadata": {},
   "outputs": [],
   "source": [
    "import numpy as np\n",
    "import pandas as pd\n",
    "import seaborn as sns\n",
    "import matplotlib.pyplot as plt\n",
    "from sklearn.preprocessing import StandardScaler\n",
    "from sklearn.ensemble import RandomForestClassifier  #Random Forest algorithm\n",
    "from sklearn.model_selection import train_test_split\n",
    "from sklearn.metrics import classification_report, confusion_matrix\n",
    "from sklearn.model_selection import cross_val_score\n",
    "import cv2\n",
    "from PIL import Image\n",
    "from skimage.feature import greycomatrix, greycoprops\n",
    "import skimage.measure\n",
    "%matplotlib inline"
   ]
  },
  {
   "cell_type": "markdown",
   "id": "mysterious-secretary",
   "metadata": {},
   "source": [
    "## Load Dataset"
   ]
  },
  {
   "cell_type": "code",
   "execution_count": 2,
   "id": "rental-balance",
   "metadata": {},
   "outputs": [],
   "source": [
    "df = pd.read_csv(\"Image_Dataset_Color_Texture_Shape_Features.csv\")"
   ]
  },
  {
   "cell_type": "markdown",
   "id": "instructional-castle",
   "metadata": {},
   "source": [
    "## Display Image"
   ]
  },
  {
   "cell_type": "code",
   "execution_count": 3,
   "id": "capital-phoenix",
   "metadata": {},
   "outputs": [],
   "source": [
    "def display(img):\n",
    "    plt.imshow (img, interpolation = 'nearest')\n",
    "    _ = plt.axis(False)\n",
    "    print(\"Image Shape: \", img.shape)"
   ]
  },
  {
   "cell_type": "markdown",
   "id": "close-sunglasses",
   "metadata": {},
   "source": [
    "## Seperate the target and independant variables"
   ]
  },
  {
   "cell_type": "code",
   "execution_count": 4,
   "id": "impressive-psychiatry",
   "metadata": {},
   "outputs": [],
   "source": [
    "df_X = df.iloc[:, 0:-1]\n",
    "df_Y = df.iloc[:, -1]"
   ]
  },
  {
   "cell_type": "code",
   "execution_count": 5,
   "id": "stock-papua",
   "metadata": {},
   "outputs": [
    {
     "data": {
      "text/plain": [
       "(3353, 73)"
      ]
     },
     "execution_count": 5,
     "metadata": {},
     "output_type": "execute_result"
    }
   ],
   "source": [
    "df_X.shape"
   ]
  },
  {
   "cell_type": "markdown",
   "id": "smaller-differential",
   "metadata": {},
   "source": [
    "## Standard Scaler"
   ]
  },
  {
   "cell_type": "markdown",
   "id": "proper-corrections",
   "metadata": {},
   "source": [
    "## Principle Component Analysis"
   ]
  },
  {
   "cell_type": "code",
   "execution_count": 6,
   "id": "impossible-british",
   "metadata": {},
   "outputs": [],
   "source": [
    "from sklearn.decomposition import PCA\n",
    "pca=PCA(n_components=10)\n",
    "df_X=pca.fit_transform(df_X)"
   ]
  },
  {
   "cell_type": "code",
   "execution_count": 7,
   "id": "outside-laundry",
   "metadata": {},
   "outputs": [
    {
     "data": {
      "text/plain": [
       "(3353, 10)"
      ]
     },
     "execution_count": 7,
     "metadata": {},
     "output_type": "execute_result"
    }
   ],
   "source": [
    "df_X.shape"
   ]
  },
  {
   "cell_type": "code",
   "execution_count": 8,
   "id": "designing-bronze",
   "metadata": {},
   "outputs": [
    {
     "data": {
      "text/plain": [
       "array([[ 1190.60620979, -2196.15384331,  -802.26639621,  2088.32274362,\n",
       "          201.18414084,  -973.60996242,   351.97988388,  -188.85891632,\n",
       "           99.7496689 ,    55.90183578],\n",
       "       [-5330.61362049,  -148.84538308, -1344.57551922, -1438.0892262 ,\n",
       "        -1109.30367893,  -458.65332534,  -206.32908831,  -721.77762889,\n",
       "         -235.82493678,  -108.23820918]])"
      ]
     },
     "execution_count": 8,
     "metadata": {},
     "output_type": "execute_result"
    }
   ],
   "source": [
    "df_X[-3:-1]"
   ]
  },
  {
   "cell_type": "markdown",
   "id": "practical-carol",
   "metadata": {},
   "source": [
    "## Stratified K-Fold Validation"
   ]
  },
  {
   "cell_type": "markdown",
   "id": "dangerous-consolidation",
   "metadata": {},
   "source": [
    "## Train Test Split Model"
   ]
  },
  {
   "cell_type": "code",
   "execution_count": 9,
   "id": "complimentary-frame",
   "metadata": {},
   "outputs": [],
   "source": [
    "#Split the dataset\n",
    "X_train, X_test, y_train, y_test = train_test_split(df_X, df_Y, test_size=0.2, random_state=0)"
   ]
  },
  {
   "cell_type": "markdown",
   "id": "lined-auditor",
   "metadata": {},
   "source": [
    "## Train Random Forest Model"
   ]
  },
  {
   "cell_type": "code",
   "execution_count": 10,
   "id": "bigger-plaintiff",
   "metadata": {},
   "outputs": [
    {
     "data": {
      "text/plain": [
       "RandomForestClassifier()"
      ]
     },
     "execution_count": 10,
     "metadata": {},
     "output_type": "execute_result"
    }
   ],
   "source": [
    "model = RandomForestClassifier(n_estimators=100)\n",
    "model.fit(X_train,y_train)"
   ]
  },
  {
   "cell_type": "code",
   "execution_count": 11,
   "id": "arranged-overhead",
   "metadata": {},
   "outputs": [],
   "source": [
    "y_pred = model.predict(X_train)"
   ]
  },
  {
   "cell_type": "markdown",
   "id": "pursuant-requirement",
   "metadata": {},
   "source": [
    "## Cross Validation Score"
   ]
  },
  {
   "cell_type": "code",
   "execution_count": 12,
   "id": "steady-narrow",
   "metadata": {},
   "outputs": [
    {
     "name": "stdout",
     "output_type": "stream",
     "text": [
      "[1. 1. 1. 1. 1.]\n"
     ]
    }
   ],
   "source": [
    "from sklearn.model_selection import cross_val_score\n",
    "score = cross_val_score(model, df_X, df_Y)\n",
    "print(score)"
   ]
  },
  {
   "cell_type": "markdown",
   "id": "eight-meditation",
   "metadata": {},
   "source": [
    "## Accuracy of Model"
   ]
  },
  {
   "cell_type": "code",
   "execution_count": 13,
   "id": "polished-identification",
   "metadata": {},
   "outputs": [
    {
     "name": "stdout",
     "output_type": "stream",
     "text": [
      "1.0\n"
     ]
    }
   ],
   "source": [
    "from sklearn.metrics import accuracy_score\n",
    "print(accuracy_score(y_train, y_pred))"
   ]
  },
  {
   "cell_type": "markdown",
   "id": "checked-relevance",
   "metadata": {},
   "source": [
    "## Classification Report"
   ]
  },
  {
   "cell_type": "code",
   "execution_count": 14,
   "id": "mexican-prison",
   "metadata": {},
   "outputs": [
    {
     "data": {
      "text/html": [
       "<div>\n",
       "<style scoped>\n",
       "    .dataframe tbody tr th:only-of-type {\n",
       "        vertical-align: middle;\n",
       "    }\n",
       "\n",
       "    .dataframe tbody tr th {\n",
       "        vertical-align: top;\n",
       "    }\n",
       "\n",
       "    .dataframe thead th {\n",
       "        text-align: right;\n",
       "    }\n",
       "</style>\n",
       "<table border=\"1\" class=\"dataframe\">\n",
       "  <thead>\n",
       "    <tr style=\"text-align: right;\">\n",
       "      <th></th>\n",
       "      <th>precision</th>\n",
       "      <th>recall</th>\n",
       "      <th>f1-score</th>\n",
       "      <th>support</th>\n",
       "    </tr>\n",
       "  </thead>\n",
       "  <tbody>\n",
       "    <tr>\n",
       "      <th>Apple</th>\n",
       "      <td>1.0</td>\n",
       "      <td>1.0</td>\n",
       "      <td>1.0</td>\n",
       "      <td>397.0</td>\n",
       "    </tr>\n",
       "    <tr>\n",
       "      <th>Banana</th>\n",
       "      <td>1.0</td>\n",
       "      <td>1.0</td>\n",
       "      <td>1.0</td>\n",
       "      <td>397.0</td>\n",
       "    </tr>\n",
       "    <tr>\n",
       "      <th>Grape</th>\n",
       "      <td>1.0</td>\n",
       "      <td>1.0</td>\n",
       "      <td>1.0</td>\n",
       "      <td>382.0</td>\n",
       "    </tr>\n",
       "    <tr>\n",
       "      <th>Limes</th>\n",
       "      <td>1.0</td>\n",
       "      <td>1.0</td>\n",
       "      <td>1.0</td>\n",
       "      <td>373.0</td>\n",
       "    </tr>\n",
       "    <tr>\n",
       "      <th>Orange</th>\n",
       "      <td>1.0</td>\n",
       "      <td>1.0</td>\n",
       "      <td>1.0</td>\n",
       "      <td>373.0</td>\n",
       "    </tr>\n",
       "    <tr>\n",
       "      <th>Pear</th>\n",
       "      <td>1.0</td>\n",
       "      <td>1.0</td>\n",
       "      <td>1.0</td>\n",
       "      <td>380.0</td>\n",
       "    </tr>\n",
       "    <tr>\n",
       "      <th>Strawberry</th>\n",
       "      <td>1.0</td>\n",
       "      <td>1.0</td>\n",
       "      <td>1.0</td>\n",
       "      <td>380.0</td>\n",
       "    </tr>\n",
       "    <tr>\n",
       "      <th>accuracy</th>\n",
       "      <td>1.0</td>\n",
       "      <td>1.0</td>\n",
       "      <td>1.0</td>\n",
       "      <td>1.0</td>\n",
       "    </tr>\n",
       "    <tr>\n",
       "      <th>macro avg</th>\n",
       "      <td>1.0</td>\n",
       "      <td>1.0</td>\n",
       "      <td>1.0</td>\n",
       "      <td>2682.0</td>\n",
       "    </tr>\n",
       "    <tr>\n",
       "      <th>weighted avg</th>\n",
       "      <td>1.0</td>\n",
       "      <td>1.0</td>\n",
       "      <td>1.0</td>\n",
       "      <td>2682.0</td>\n",
       "    </tr>\n",
       "  </tbody>\n",
       "</table>\n",
       "</div>"
      ],
      "text/plain": [
       "              precision  recall  f1-score  support\n",
       "Apple               1.0     1.0       1.0    397.0\n",
       "Banana              1.0     1.0       1.0    397.0\n",
       "Grape               1.0     1.0       1.0    382.0\n",
       "Limes               1.0     1.0       1.0    373.0\n",
       "Orange              1.0     1.0       1.0    373.0\n",
       "Pear                1.0     1.0       1.0    380.0\n",
       "Strawberry          1.0     1.0       1.0    380.0\n",
       "accuracy            1.0     1.0       1.0      1.0\n",
       "macro avg           1.0     1.0       1.0   2682.0\n",
       "weighted avg        1.0     1.0       1.0   2682.0"
      ]
     },
     "execution_count": 14,
     "metadata": {},
     "output_type": "execute_result"
    }
   ],
   "source": [
    "pd.DataFrame(classification_report(y_train, y_pred, output_dict = True)).T"
   ]
  },
  {
   "cell_type": "markdown",
   "id": "stock-carrier",
   "metadata": {},
   "source": [
    "## Confusion matrix"
   ]
  },
  {
   "cell_type": "code",
   "execution_count": 15,
   "id": "nuclear-efficiency",
   "metadata": {},
   "outputs": [
    {
     "data": {
      "image/png": "[encoded data removed]",
      "text/plain": [
       "<Figure size 864x864 with 2 Axes>"
      ]
     },
     "metadata": {
      "needs_background": "light"
     },
     "output_type": "display_data"
    }
   ],
   "source": [
    "from sklearn.metrics import confusion_matrix\n",
    "confusion_matrix_df = pd.DataFrame(confusion_matrix(y_train, y_pred), index = df_Y.unique(), columns = df_Y.unique())\n",
    "fig = plt.figure(figsize=(12,12))\n",
    "sns.heatmap(confusion_matrix_df,annot=True, fmt='g')\n",
    "plt.show()"
   ]
  },
  {
   "cell_type": "markdown",
   "id": "municipal-hindu",
   "metadata": {},
   "source": [
    "## Train Support Vector Machine"
   ]
  },
  {
   "cell_type": "code",
   "execution_count": 16,
   "id": "charming-angle",
   "metadata": {},
   "outputs": [
    {
     "data": {
      "text/plain": [
       "SVC(decision_function_shape='ovo')"
      ]
     },
     "execution_count": 16,
     "metadata": {},
     "output_type": "execute_result"
    }
   ],
   "source": [
    "from sklearn import svm\n",
    "model = svm.SVC(decision_function_shape='ovo')\n",
    "model.fit(X_train,y_train)"
   ]
  },
  {
   "cell_type": "code",
   "execution_count": 17,
   "id": "korean-coordinate",
   "metadata": {},
   "outputs": [],
   "source": [
    "y_pred = model.predict(X_test)"
   ]
  },
  {
   "cell_type": "code",
   "execution_count": 18,
   "id": "induced-playback",
   "metadata": {},
   "outputs": [
    {
     "data": {
      "text/html": [
       "<div>\n",
       "<style scoped>\n",
       "    .dataframe tbody tr th:only-of-type {\n",
       "        vertical-align: middle;\n",
       "    }\n",
       "\n",
       "    .dataframe tbody tr th {\n",
       "        vertical-align: top;\n",
       "    }\n",
       "\n",
       "    .dataframe thead th {\n",
       "        text-align: right;\n",
       "    }\n",
       "</style>\n",
       "<table border=\"1\" class=\"dataframe\">\n",
       "  <thead>\n",
       "    <tr style=\"text-align: right;\">\n",
       "      <th></th>\n",
       "      <th>precision</th>\n",
       "      <th>recall</th>\n",
       "      <th>f1-score</th>\n",
       "      <th>support</th>\n",
       "    </tr>\n",
       "  </thead>\n",
       "  <tbody>\n",
       "    <tr>\n",
       "      <th>Apple</th>\n",
       "      <td>1.0</td>\n",
       "      <td>1.0</td>\n",
       "      <td>1.0</td>\n",
       "      <td>82.0</td>\n",
       "    </tr>\n",
       "    <tr>\n",
       "      <th>Banana</th>\n",
       "      <td>1.0</td>\n",
       "      <td>1.0</td>\n",
       "      <td>1.0</td>\n",
       "      <td>82.0</td>\n",
       "    </tr>\n",
       "    <tr>\n",
       "      <th>Grape</th>\n",
       "      <td>1.0</td>\n",
       "      <td>1.0</td>\n",
       "      <td>1.0</td>\n",
       "      <td>97.0</td>\n",
       "    </tr>\n",
       "    <tr>\n",
       "      <th>Limes</th>\n",
       "      <td>1.0</td>\n",
       "      <td>1.0</td>\n",
       "      <td>1.0</td>\n",
       "      <td>106.0</td>\n",
       "    </tr>\n",
       "    <tr>\n",
       "      <th>Orange</th>\n",
       "      <td>1.0</td>\n",
       "      <td>1.0</td>\n",
       "      <td>1.0</td>\n",
       "      <td>106.0</td>\n",
       "    </tr>\n",
       "    <tr>\n",
       "      <th>Pear</th>\n",
       "      <td>1.0</td>\n",
       "      <td>1.0</td>\n",
       "      <td>1.0</td>\n",
       "      <td>99.0</td>\n",
       "    </tr>\n",
       "    <tr>\n",
       "      <th>Strawberry</th>\n",
       "      <td>1.0</td>\n",
       "      <td>1.0</td>\n",
       "      <td>1.0</td>\n",
       "      <td>99.0</td>\n",
       "    </tr>\n",
       "    <tr>\n",
       "      <th>accuracy</th>\n",
       "      <td>1.0</td>\n",
       "      <td>1.0</td>\n",
       "      <td>1.0</td>\n",
       "      <td>1.0</td>\n",
       "    </tr>\n",
       "    <tr>\n",
       "      <th>macro avg</th>\n",
       "      <td>1.0</td>\n",
       "      <td>1.0</td>\n",
       "      <td>1.0</td>\n",
       "      <td>671.0</td>\n",
       "    </tr>\n",
       "    <tr>\n",
       "      <th>weighted avg</th>\n",
       "      <td>1.0</td>\n",
       "      <td>1.0</td>\n",
       "      <td>1.0</td>\n",
       "      <td>671.0</td>\n",
       "    </tr>\n",
       "  </tbody>\n",
       "</table>\n",
       "</div>"
      ],
      "text/plain": [
       "              precision  recall  f1-score  support\n",
       "Apple               1.0     1.0       1.0     82.0\n",
       "Banana              1.0     1.0       1.0     82.0\n",
       "Grape               1.0     1.0       1.0     97.0\n",
       "Limes               1.0     1.0       1.0    106.0\n",
       "Orange              1.0     1.0       1.0    106.0\n",
       "Pear                1.0     1.0       1.0     99.0\n",
       "Strawberry          1.0     1.0       1.0     99.0\n",
       "accuracy            1.0     1.0       1.0      1.0\n",
       "macro avg           1.0     1.0       1.0    671.0\n",
       "weighted avg        1.0     1.0       1.0    671.0"
      ]
     },
     "execution_count": 18,
     "metadata": {},
     "output_type": "execute_result"
    }
   ],
   "source": [
    "pd.DataFrame(classification_report(y_test, y_pred, output_dict = True)).T"
   ]
  },
  {
   "cell_type": "code",
   "execution_count": 19,
   "id": "enabling-mitchell",
   "metadata": {},
   "outputs": [
    {
     "data": {
      "image/png": "[encoded data removed]",
      "text/plain": [
       "<Figure size 864x864 with 2 Axes>"
      ]
     },
     "metadata": {
      "needs_background": "light"
     },
     "output_type": "display_data"
    }
   ],
   "source": [
    "from sklearn.metrics import confusion_matrix\n",
    "confusion_matrix_df = pd.DataFrame(confusion_matrix(y_test, y_pred), index = df_Y.unique(), columns = df_Y.unique())\n",
    "fig = plt.figure(figsize=(12,12))\n",
    "sns.heatmap(confusion_matrix_df,annot=True, fmt='g')\n",
    "plt.show()"
   ]
  },
  {
   "cell_type": "code",
   "execution_count": 20,
   "id": "medical-psychology",
   "metadata": {},
   "outputs": [
    {
     "name": "stdout",
     "output_type": "stream",
     "text": [
      "Limes Apple\n"
     ]
    }
   ],
   "source": [
    "print(y_pred[6], y_train[6])"
   ]
  },
  {
   "cell_type": "markdown",
   "id": "hazardous-burlington",
   "metadata": {},
   "source": [
    "## Test Image"
   ]
  },
  {
   "cell_type": "markdown",
   "id": "victorian-disorder",
   "metadata": {},
   "source": [
    "### Conversion Function"
   ]
  },
  {
   "cell_type": "code",
   "execution_count": 21,
   "id": "arbitrary-object",
   "metadata": {},
   "outputs": [],
   "source": [
    "def convert_val_to_rgb(x):\n",
    "    if x >= 0 and x < 64:\n",
    "        return \"00\"\n",
    "    elif x >= 64 and x < 128:\n",
    "        return \"55\"\n",
    "    elif x >= 128 and x < 192:\n",
    "        return \"AA\"\n",
    "    else:\n",
    "        return \"FF\"\n",
    "    \n",
    "def convert_val_to_bin(x):\n",
    "    if x >= 0 and x < 64:\n",
    "        return 0\n",
    "    elif x >= 64 and x < 128:\n",
    "        return 85\n",
    "    elif x >= 128 and x < 192:\n",
    "        return 170\n",
    "    else:\n",
    "        return 255"
   ]
  },
  {
   "cell_type": "markdown",
   "id": "floating-growth",
   "metadata": {},
   "source": [
    "### Pipeline Color Features"
   ]
  },
  {
   "cell_type": "code",
   "execution_count": 22,
   "id": "structured-mexico",
   "metadata": {},
   "outputs": [],
   "source": [
    "def pipeline_color(cv_img):\n",
    "    img_arr = np.array(cv_img)\n",
    "    img_flatten = img_arr.reshape(1, -1).T\n",
    "    img_squeeze = np.squeeze(img_flatten)\n",
    "    img_convert = np.vectorize(convert_val_to_rgb)(img_squeeze)\n",
    "    img_2d_arr = img_convert.reshape(-1, 3)\n",
    "    img_list_arr = img_2d_arr.tolist()\n",
    "    convert_to_str = lambda x:\"#\"+\"\".join(list(map(str, x)))\n",
    "    img_str_arr = [convert_to_str(x) for x in img_list_arr]\n",
    "    new_arr = np.array(img_str_arr)\n",
    "    tmp_dict = {a:b for (a,b) in zip(np.unique(new_arr, return_counts=True)[0], np.unique(new_arr, return_counts=True)[1])}\n",
    "    return tmp_dict"
   ]
  },
  {
   "cell_type": "markdown",
   "id": "every-telephone",
   "metadata": {},
   "source": [
    "### Pipeline Texture Features"
   ]
  },
  {
   "cell_type": "code",
   "execution_count": 23,
   "id": "competitive-grant",
   "metadata": {},
   "outputs": [],
   "source": [
    "def pipeline_texture(img_gray):\n",
    "    tmp_dict = {}\n",
    "    tmp_dict[\"Mean\"] = np.mean(img_gray)\n",
    "    tmp_dict[\"Variance\"] = np.var(img_gray)\n",
    "    tmp_dict[\"Entropy\"] = skimage.measure.shannon_entropy(img_gray)\n",
    "    glcm = greycomatrix(img_gray, [2], [0], 256, symmetric = True, normed = True)\n",
    "    tmp_dict[\"Contrast\"] = greycoprops(glcm, prop=\"contrast\").item()\n",
    "    tmp_dict[\"Homogeneity\"] = greycoprops(glcm, prop=\"homogeneity\").item()\n",
    "    tmp_dict[\"Correlation\"] = greycoprops(glcm, prop=\"correlation\").item()\n",
    "    tmp_dict[\"Energy\"] = greycoprops(glcm, prop=\"energy\").item()\n",
    "    return tmp_dict"
   ]
  },
  {
   "cell_type": "markdown",
   "id": "extensive-attention",
   "metadata": {},
   "source": [
    "### Pipeline Shape Features"
   ]
  },
  {
   "cell_type": "code",
   "execution_count": 24,
   "id": "fatal-folder",
   "metadata": {},
   "outputs": [],
   "source": [
    "def pipeline_shape(img_gray):\n",
    "    # Apply Gaussian Blur to Image\n",
    "    img_blur = cv2.GaussianBlur(img_gray, (7,7), 1)\n",
    "\n",
    "    # Canny Edge Detection\n",
    "    img_canny = cv2.Canny(img_blur, 50, 150)\n",
    "\n",
    "    # Edge Detector\n",
    "    kernel = np.ones((5, 5), dtype = np.uint8)\n",
    "    img_dilate = cv2.dilate(img_canny, kernel, iterations = 1)\n",
    "\n",
    "    contours, hier = cv2.findContours(img_dilate, cv2.RETR_EXTERNAL, cv2.CHAIN_APPROX_SIMPLE)\n",
    "    area, peri = 0, 0\n",
    "    for cnt in contours:\n",
    "        area = cv2.contourArea(cnt)\n",
    "        peri = cv2.arcLength(cnt, True)\n",
    "    tmp_dict = {}\n",
    "    tmp_dict[\"Area\"] = area\n",
    "    tmp_dict[\"Perimeter\"] = peri\n",
    "    return tmp_dict"
   ]
  },
  {
   "cell_type": "markdown",
   "id": "focal-enlargement",
   "metadata": {},
   "source": [
    "### Pipeline Final"
   ]
  },
  {
   "cell_type": "code",
   "execution_count": 25,
   "id": "little-mainstream",
   "metadata": {},
   "outputs": [],
   "source": [
    "def pipeline_final(img_path, w = 100, h = 100):\n",
    "    final_dict = {}\n",
    "    \n",
    "    cv_img = cv2.imread(img_path)\n",
    "    \n",
    "    # Resize Image\n",
    "    cv_img = cv2.resize(cv_img, (w,h),interpolation = cv2.INTER_AREA)\n",
    "    \n",
    "    # Convert Image from BGR to RGB\n",
    "    cv_img = cv2.cvtColor(cv_img, cv2.COLOR_BGR2RGB)\n",
    "    \n",
    "    # Convert Image to Gray Image\n",
    "    img_gray = cv2.cvtColor(cv_img, cv2.COLOR_RGB2GRAY)\n",
    "    \n",
    "    # Get Color Features\n",
    "    color_feature_dict = pipeline_color(cv_img)\n",
    "    final_dict.update(color_feature_dict)\n",
    "\n",
    "    # Get Texture Features\n",
    "    texture_feature_dict = pipeline_texture(img_gray)\n",
    "    final_dict.update(texture_feature_dict)\n",
    "\n",
    "    # Get Shape Features\n",
    "    shape_feature_dict = pipeline_shape(img_gray)\n",
    "    final_dict.update(shape_feature_dict)\n",
    "    \n",
    "    return final_dict"
   ]
  },
  {
   "cell_type": "code",
   "execution_count": 26,
   "id": "former-spanish",
   "metadata": {},
   "outputs": [],
   "source": [
    "feature_arr = []\n",
    "cc = [\"00\", \"55\", \"AA\", \"FF\"]\n",
    "for i in range(4):\n",
    "    for j in range(4):\n",
    "        for k in range(4):\n",
    "            feature_arr.append(f\"#{cc[i]}{cc[j]}{cc[k]}\")\n",
    "feature_arr += [\"Mean\", \"Variance\", \"Entropy\", \"Contrast\", \"Homogeneity\", \"Correlation\", \"Energy\",\"Area\", \"Perimeter\"]"
   ]
  },
  {
   "cell_type": "code",
   "execution_count": 27,
   "id": "modular-scott",
   "metadata": {},
   "outputs": [
    {
     "name": "stdout",
     "output_type": "stream",
     "text": [
      "Image Shape:  (225, 225, 3)\n"
     ]
    },
    {
     "data": {
      "image/png": "[encoded data removed]",
      "text/plain": [
       "<Figure size 432x288 with 1 Axes>"
      ]
     },
     "metadata": {
      "needs_background": "light"
     },
     "output_type": "display_data"
    }
   ],
   "source": [
    "img_path = \"Test_Images/apple2.jpg\"\n",
    "img = cv2.imread(img_path)\n",
    "img = cv2.cvtColor(img, cv2.COLOR_BGR2RGB)\n",
    "display(img)"
   ]
  },
  {
   "cell_type": "code",
   "execution_count": 28,
   "id": "neither-victory",
   "metadata": {},
   "outputs": [],
   "source": [
    "final_df = pd.DataFrame(columns = feature_arr)\n",
    "final_dict = pipeline_final(img_path)\n",
    "final_df = final_df.append(final_dict, ignore_index = True)\n",
    "final_df.fillna(0, inplace=True)"
   ]
  },
  {
   "cell_type": "code",
   "execution_count": 29,
   "id": "honey-scientist",
   "metadata": {
    "scrolled": true
   },
   "outputs": [
    {
     "data": {
      "text/html": [
       "<div>\n",
       "<style scoped>\n",
       "    .dataframe tbody tr th:only-of-type {\n",
       "        vertical-align: middle;\n",
       "    }\n",
       "\n",
       "    .dataframe tbody tr th {\n",
       "        vertical-align: top;\n",
       "    }\n",
       "\n",
       "    .dataframe thead th {\n",
       "        text-align: right;\n",
       "    }\n",
       "</style>\n",
       "<table border=\"1\" class=\"dataframe\">\n",
       "  <thead>\n",
       "    <tr style=\"text-align: right;\">\n",
       "      <th></th>\n",
       "      <th>#000000</th>\n",
       "      <th>#000055</th>\n",
       "      <th>#0000AA</th>\n",
       "      <th>#0000FF</th>\n",
       "      <th>#005500</th>\n",
       "      <th>#005555</th>\n",
       "      <th>#0055AA</th>\n",
       "      <th>#0055FF</th>\n",
       "      <th>#00AA00</th>\n",
       "      <th>#00AA55</th>\n",
       "      <th>...</th>\n",
       "      <th>#FFFFFF</th>\n",
       "      <th>Mean</th>\n",
       "      <th>Variance</th>\n",
       "      <th>Entropy</th>\n",
       "      <th>Contrast</th>\n",
       "      <th>Homogeneity</th>\n",
       "      <th>Correlation</th>\n",
       "      <th>Energy</th>\n",
       "      <th>Area</th>\n",
       "      <th>Perimeter</th>\n",
       "    </tr>\n",
       "  </thead>\n",
       "  <tbody>\n",
       "    <tr>\n",
       "      <th>0</th>\n",
       "      <td>0.0</td>\n",
       "      <td>0.0</td>\n",
       "      <td>0.0</td>\n",
       "      <td>0.0</td>\n",
       "      <td>0.0</td>\n",
       "      <td>0.0</td>\n",
       "      <td>0.0</td>\n",
       "      <td>0.0</td>\n",
       "      <td>0.0</td>\n",
       "      <td>0.0</td>\n",
       "      <td>...</td>\n",
       "      <td>5952.0</td>\n",
       "      <td>197.9955</td>\n",
       "      <td>4846.10168</td>\n",
       "      <td>5.443908</td>\n",
       "      <td>279.338367</td>\n",
       "      <td>0.485547</td>\n",
       "      <td>0.971364</td>\n",
       "      <td>0.332079</td>\n",
       "      <td>4361.0</td>\n",
       "      <td>254.16652</td>\n",
       "    </tr>\n",
       "  </tbody>\n",
       "</table>\n",
       "<p>1 rows × 73 columns</p>\n",
       "</div>"
      ],
      "text/plain": [
       "   #000000  #000055  #0000AA  #0000FF  #005500  #005555  #0055AA  #0055FF  \\\n",
       "0      0.0      0.0      0.0      0.0      0.0      0.0      0.0      0.0   \n",
       "\n",
       "   #00AA00  #00AA55  ...  #FFFFFF      Mean    Variance   Entropy    Contrast  \\\n",
       "0      0.0      0.0  ...   5952.0  197.9955  4846.10168  5.443908  279.338367   \n",
       "\n",
       "   Homogeneity  Correlation    Energy    Area  Perimeter  \n",
       "0     0.485547     0.971364  0.332079  4361.0  254.16652  \n",
       "\n",
       "[1 rows x 73 columns]"
      ]
     },
     "execution_count": 29,
     "metadata": {},
     "output_type": "execute_result"
    }
   ],
   "source": [
    "final_df"
   ]
  },
  {
   "cell_type": "code",
   "execution_count": 30,
   "id": "mature-world",
   "metadata": {},
   "outputs": [
    {
     "data": {
      "text/plain": [
       "(1, 73)"
      ]
     },
     "execution_count": 30,
     "metadata": {},
     "output_type": "execute_result"
    }
   ],
   "source": [
    "final_df.shape"
   ]
  },
  {
   "cell_type": "code",
   "execution_count": 31,
   "id": "unnecessary-malaysia",
   "metadata": {},
   "outputs": [],
   "source": [
    "df_X = df.iloc[:, 0:-1]\n",
    "df_X = df_X.append(final_dict, ignore_index = True)\n",
    "df_X.fillna(0, inplace=True)"
   ]
  },
  {
   "cell_type": "code",
   "execution_count": 32,
   "id": "literary-hundred",
   "metadata": {},
   "outputs": [
    {
     "data": {
      "text/plain": [
       "(3354, 73)"
      ]
     },
     "execution_count": 32,
     "metadata": {},
     "output_type": "execute_result"
    }
   ],
   "source": [
    "df_X.shape"
   ]
  },
  {
   "cell_type": "code",
   "execution_count": 36,
   "id": "possible-posting",
   "metadata": {},
   "outputs": [],
   "source": [
    "pca=PCA(n_components=10)\n",
    "pred_x=pca.fit_transform(df_X)\n",
    "pred = np.array([pred_x[-1]])"
   ]
  },
  {
   "cell_type": "code",
   "execution_count": 37,
   "id": "corresponding-algorithm",
   "metadata": {},
   "outputs": [
    {
     "data": {
      "text/plain": [
       "array([[  568.44866496,  2263.72248265,  2224.75909301,  1220.90998028,\n",
       "         -388.15639548,   236.34450385, -1134.92633643,   711.12537137,\n",
       "         -659.52331519,  -457.93173816]])"
      ]
     },
     "execution_count": 37,
     "metadata": {},
     "output_type": "execute_result"
    }
   ],
   "source": [
    "pred"
   ]
  },
  {
   "cell_type": "code",
   "execution_count": 38,
   "id": "systematic-alpha",
   "metadata": {},
   "outputs": [],
   "source": [
    "pred_label = model.predict(pred)"
   ]
  },
  {
   "cell_type": "code",
   "execution_count": 39,
   "id": "ancient-knife",
   "metadata": {},
   "outputs": [
    {
     "data": {
      "text/plain": [
       "array(['Banana'], dtype=object)"
      ]
     },
     "execution_count": 39,
     "metadata": {},
     "output_type": "execute_result"
    }
   ],
   "source": [
    "pred_label"
   ]
  },
  {
   "cell_type": "code",
   "execution_count": null,
   "id": "trying-melbourne",
   "metadata": {},
   "outputs": [],
   "source": []
  },
  {
   "cell_type": "code",
   "execution_count": null,
   "id": "macro-entertainment",
   "metadata": {},
   "outputs": [],
   "source": []
  }
 ],
 "metadata": {
  "kernelspec": {
   "display_name": "Python 3",
   "language": "python",
   "name": "python3"
  },
  "language_info": {
   "codemirror_mode": {
    "name": "ipython",
    "version": 3
   },
   "file_extension": ".py",
   "mimetype": "text/x-python",
   "name": "python",
   "nbconvert_exporter": "python",
   "pygments_lexer": "ipython3",
   "version": "3.9.1"
  }
 },
 "nbformat": 4,
 "nbformat_minor": 5
}
