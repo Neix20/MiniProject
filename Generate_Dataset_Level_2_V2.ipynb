{
 "cells": [
  {
   "cell_type": "markdown",
   "id": "interesting-genre",
   "metadata": {},
   "source": [
    "## Load Libraries"
   ]
  },
  {
   "cell_type": "code",
   "execution_count": 1,
   "id": "under-nature",
   "metadata": {},
   "outputs": [],
   "source": [
    "import numpy as np\n",
    "import pandas as pd\n",
    "import itertools\n",
    "import cv2\n",
    "from glob import glob\n",
    "from PIL import Image\n",
    "from skimage.feature import greycomatrix, greycoprops\n",
    "import skimage.measure\n",
    "import matplotlib\n",
    "import matplotlib.pyplot as plt\n",
    "%matplotlib inline "
   ]
  },
  {
   "cell_type": "markdown",
   "id": "known-township",
   "metadata": {},
   "source": [
    "## Load Images"
   ]
  },
  {
   "cell_type": "markdown",
   "id": "joint-harbor",
   "metadata": {},
   "source": [
    "### List all Folder"
   ]
  },
  {
   "cell_type": "code",
   "execution_count": 2,
   "id": "relative-bryan",
   "metadata": {},
   "outputs": [
    {
     "data": {
      "text/plain": [
       "['Dataset\\\\Apple\\\\',\n",
       " 'Dataset\\\\Banana\\\\',\n",
       " 'Dataset\\\\Grape\\\\',\n",
       " 'Dataset\\\\Limes\\\\',\n",
       " 'Dataset\\\\Mango\\\\',\n",
       " 'Dataset\\\\Peach\\\\',\n",
       " 'Dataset\\\\Pear\\\\',\n",
       " 'Dataset\\\\Strawberry\\\\']"
      ]
     },
     "execution_count": 2,
     "metadata": {},
     "output_type": "execute_result"
    }
   ],
   "source": [
    "image_folders = glob('Dataset/*/')\n",
    "image_folders"
   ]
  },
  {
   "cell_type": "markdown",
   "id": "fatty-thesis",
   "metadata": {},
   "source": [
    "### List all images in each folder"
   ]
  },
  {
   "cell_type": "code",
   "execution_count": 3,
   "id": "light-strand",
   "metadata": {},
   "outputs": [],
   "source": [
    "folder_path = image_folders[0]\n",
    "folder_name = folder_path.split(\"\\\\\")[1]\n",
    "all_image_in_folder = glob(folder_path + \"*.jpg\")"
   ]
  },
  {
   "cell_type": "markdown",
   "id": "beautiful-addition",
   "metadata": {},
   "source": [
    "### List Single Image"
   ]
  },
  {
   "cell_type": "code",
   "execution_count": 4,
   "id": "surprised-reaction",
   "metadata": {},
   "outputs": [],
   "source": [
    "img_path = all_image_in_folder[0]\n",
    "label = folder_name"
   ]
  },
  {
   "cell_type": "markdown",
   "id": "critical-colleague",
   "metadata": {},
   "source": [
    "### Load Single Image"
   ]
  },
  {
   "cell_type": "code",
   "execution_count": 5,
   "id": "generic-litigation",
   "metadata": {},
   "outputs": [],
   "source": [
    "img = Image.open(img_path)"
   ]
  },
  {
   "cell_type": "markdown",
   "id": "framed-proxy",
   "metadata": {},
   "source": [
    "### Display Image"
   ]
  },
  {
   "cell_type": "code",
   "execution_count": 6,
   "id": "armed-marine",
   "metadata": {},
   "outputs": [],
   "source": [
    "def display(img):\n",
    "    plt.imshow (img, interpolation = 'nearest')\n",
    "    _ = plt.axis(False)"
   ]
  },
  {
   "cell_type": "markdown",
   "id": "manual-equilibrium",
   "metadata": {},
   "source": [
    "### Reshape Image"
   ]
  },
  {
   "cell_type": "code",
   "execution_count": 7,
   "id": "amino-branch",
   "metadata": {},
   "outputs": [],
   "source": [
    "img_arr = np.array(img)\n",
    "img_flatten = img_arr.reshape(1, -1).T"
   ]
  },
  {
   "cell_type": "markdown",
   "id": "substantial-treaty",
   "metadata": {},
   "source": [
    "### Squeeze Array"
   ]
  },
  {
   "cell_type": "code",
   "execution_count": 8,
   "id": "sharp-mainland",
   "metadata": {},
   "outputs": [],
   "source": [
    "img_squeeze = np.squeeze(img_flatten)"
   ]
  },
  {
   "cell_type": "markdown",
   "id": "abstract-princess",
   "metadata": {},
   "source": [
    "## Color Features"
   ]
  },
  {
   "cell_type": "markdown",
   "id": "adult-airport",
   "metadata": {},
   "source": [
    "### Convert Value"
   ]
  },
  {
   "cell_type": "code",
   "execution_count": 9,
   "id": "ranging-scottish",
   "metadata": {},
   "outputs": [],
   "source": [
    "def convert_val_to_rgb(x):\n",
    "    if x >= 0 and x < 64:\n",
    "        return \"00\"\n",
    "    elif x >= 64 and x < 128:\n",
    "        return \"55\"\n",
    "    elif x >= 128 and x < 192:\n",
    "        return \"AA\"\n",
    "    else:\n",
    "        return \"FF\"\n",
    "    \n",
    "def convert_val_to_bin(x):\n",
    "    if x >= 0 and x < 64:\n",
    "        return 0\n",
    "    elif x >= 64 and x < 128:\n",
    "        return 85\n",
    "    elif x >= 128 and x < 192:\n",
    "        return 170\n",
    "    else:\n",
    "        return 255"
   ]
  },
  {
   "cell_type": "code",
   "execution_count": 10,
   "id": "integral-split",
   "metadata": {},
   "outputs": [],
   "source": [
    "img_convert = np.vectorize(convert_val_to_rgb)(img_squeeze)\n",
    "# img_squeeze = np.vectorize(convert_val_to_bin)(img_squeeze)"
   ]
  },
  {
   "cell_type": "code",
   "execution_count": 11,
   "id": "indoor-nickname",
   "metadata": {},
   "outputs": [],
   "source": [
    "img_2d_arr = img_convert.reshape(-1, 3)"
   ]
  },
  {
   "cell_type": "markdown",
   "id": "civil-freedom",
   "metadata": {},
   "source": [
    "### Convert to List"
   ]
  },
  {
   "cell_type": "code",
   "execution_count": 12,
   "id": "formal-model",
   "metadata": {},
   "outputs": [],
   "source": [
    "img_list_arr = img_2d_arr.tolist()"
   ]
  },
  {
   "cell_type": "markdown",
   "id": "short-weekend",
   "metadata": {},
   "source": [
    "### Convert to String"
   ]
  },
  {
   "cell_type": "code",
   "execution_count": 13,
   "id": "external-excess",
   "metadata": {},
   "outputs": [],
   "source": [
    "convert_to_str = lambda x:\"#\"+\"\".join(list(map(str, x)))\n",
    "img_str_arr = [convert_to_str(x) for x in img_list_arr]"
   ]
  },
  {
   "cell_type": "markdown",
   "id": "digital-hampton",
   "metadata": {},
   "source": [
    "### Get Frequency of Unique Values"
   ]
  },
  {
   "cell_type": "code",
   "execution_count": 14,
   "id": "complicated-monitoring",
   "metadata": {
    "scrolled": true
   },
   "outputs": [
    {
     "data": {
      "text/plain": [
       "(array(['#000000', '#550000', '#555500', '#555555', '#AA0000', '#AA5500',\n",
       "        '#AA5555', '#AA55AA', '#AAAA55', '#AAAAAA', '#AAFFAA', '#FF5555',\n",
       "        '#FFAA55', '#FFAAAA', '#FFAAFF', '#FFFFAA', '#FFFFFF'], dtype='<U7'),\n",
       " array([ 280, 1073,   75,  182,  675, 2797, 1287,    2,    7,  119,    1,\n",
       "         233,  227,  276,    1,    4, 2761], dtype=int64))"
      ]
     },
     "execution_count": 14,
     "metadata": {},
     "output_type": "execute_result"
    }
   ],
   "source": [
    "new_arr = np.array(img_str_arr)\n",
    "np.unique(new_arr, return_counts=True)"
   ]
  },
  {
   "cell_type": "markdown",
   "id": "advisory-sherman",
   "metadata": {},
   "source": [
    "### Convert Image to Dictionary"
   ]
  },
  {
   "cell_type": "code",
   "execution_count": 15,
   "id": "vocal-anniversary",
   "metadata": {},
   "outputs": [],
   "source": [
    "tmp_dict = {a:b for (a,b) in zip(np.unique(new_arr, return_counts=True)[0], np.unique(new_arr, return_counts=True)[1])}"
   ]
  },
  {
   "cell_type": "markdown",
   "id": "engaging-geneva",
   "metadata": {},
   "source": [
    "### Pipeline Function"
   ]
  },
  {
   "cell_type": "code",
   "execution_count": 16,
   "id": "systematic-wildlife",
   "metadata": {},
   "outputs": [],
   "source": [
    "def pipeline_1d(img, convert_func, h = 64, w = 64):\n",
    "    img_resize = img.resize((h,w))\n",
    "    img_arr = np.array(img_resize)\n",
    "    img_flatten = img_arr.reshape(1, -1).T\n",
    "    img_squeeze = np.squeeze(img_flatten)\n",
    "    img_convert = np.vectorize(convert_func)(img_squeeze)\n",
    "    return img_convert"
   ]
  },
  {
   "cell_type": "markdown",
   "id": "elegant-terminal",
   "metadata": {},
   "source": [
    "### Color Features Pipeline"
   ]
  },
  {
   "cell_type": "code",
   "execution_count": 17,
   "id": "honey-doubt",
   "metadata": {},
   "outputs": [],
   "source": [
    "def pipeline_color(img_arr):\n",
    "    img_2d_arr = img_arr.reshape(-1, 3)\n",
    "    img_list_arr = img_2d_arr.tolist()\n",
    "    convert_to_str = lambda x:\"#\"+\"\".join(list(map(str, x)))\n",
    "    img_str_arr = [convert_to_str(x) for x in img_list_arr]\n",
    "    new_arr = np.array(img_str_arr)\n",
    "    tmp_dict = {a:b for (a,b) in zip(np.unique(new_arr, return_counts=True)[0], np.unique(new_arr, return_counts=True)[1])}\n",
    "    return tmp_dict"
   ]
  },
  {
   "cell_type": "markdown",
   "id": "tropical-watch",
   "metadata": {},
   "source": [
    "### Use OpenCV To Read Image"
   ]
  },
  {
   "cell_type": "code",
   "execution_count": 18,
   "id": "inappropriate-marathon",
   "metadata": {},
   "outputs": [],
   "source": [
    "img = cv2.imread(img_path, -1)\n",
    "color = ('b','g','r')"
   ]
  },
  {
   "cell_type": "markdown",
   "id": "hazardous-occasion",
   "metadata": {},
   "source": [
    "### Use OpenCV To Show Histogram"
   ]
  },
  {
   "cell_type": "code",
   "execution_count": 19,
   "id": "south-person",
   "metadata": {},
   "outputs": [
    {
     "data": {
      "image/png": "[encoded data removed]",
      "text/plain": [
       "<Figure size 432x288 with 1 Axes>"
      ]
     },
     "metadata": {
      "needs_background": "light"
     },
     "output_type": "display_data"
    }
   ],
   "source": [
    "for channel,col in enumerate(color):\n",
    "    histr = cv2.calcHist([img],[channel],None,[256],[0,256])\n",
    "    plt.plot(histr,color = col)\n",
    "    plt.xlim([0,256])"
   ]
  },
  {
   "cell_type": "markdown",
   "id": "straight-guide",
   "metadata": {},
   "source": [
    "### Original Image"
   ]
  },
  {
   "cell_type": "code",
   "execution_count": 83,
   "id": "cardiovascular-manchester",
   "metadata": {},
   "outputs": [
    {
     "data": {
      "image/png": "[encoded data removed]",
      "text/plain": [
       "<Figure size 432x288 with 1 Axes>"
      ]
     },
     "metadata": {
      "needs_background": "light"
     },
     "output_type": "display_data"
    }
   ],
   "source": [
    "img = Image.open(img_path)\n",
    "img = np.array(img)\n",
    "display(img)\n",
    "img = img.reshape(-1, 3)\n",
    "tmp_df = pd.DataFrame(img, columns = [\"r\", \"g\", \"b\"])"
   ]
  },
  {
   "cell_type": "markdown",
   "id": "thousand-trout",
   "metadata": {},
   "source": [
    "### Original Image Color Histogram"
   ]
  },
  {
   "cell_type": "code",
   "execution_count": 21,
   "id": "random-restaurant",
   "metadata": {},
   "outputs": [
    {
     "data": {
      "image/png": "[encoded data removed]",
      "text/plain": [
       "<Figure size 432x288 with 1 Axes>"
      ]
     },
     "metadata": {
      "needs_background": "light"
     },
     "output_type": "display_data"
    }
   ],
   "source": [
    "plt.hist(tmp_df[\"b\"],256,[0,256], color=\"blue\")\n",
    "plt.hist(tmp_df[\"g\"],256,[0,256], color=\"green\")\n",
    "plt.hist(tmp_df[\"r\"],256,[0,256], color=\"red\")\n",
    "plt.show()"
   ]
  },
  {
   "cell_type": "markdown",
   "id": "mental-folder",
   "metadata": {},
   "source": [
    "### New Image"
   ]
  },
  {
   "cell_type": "code",
   "execution_count": 22,
   "id": "interim-sucking",
   "metadata": {},
   "outputs": [
    {
     "data": {
      "image/png": "[encoded data removed]",
      "text/plain": [
       "<Figure size 432x288 with 1 Axes>"
      ]
     },
     "metadata": {
      "needs_background": "light"
     },
     "output_type": "display_data"
    }
   ],
   "source": [
    "img = Image.open(img_path)\n",
    "h = w = 100\n",
    "new_img = pipeline_1d(img, convert_val_to_bin, h, w)\n",
    "new_img = new_img.astype(np.float32)\n",
    "new_img = new_img / 255.0\n",
    "new_img = new_img.reshape(h, w, 3)\n",
    "display(new_img)"
   ]
  },
  {
   "cell_type": "markdown",
   "id": "public-loading",
   "metadata": {},
   "source": [
    "### New Image Color Histogram"
   ]
  },
  {
   "cell_type": "code",
   "execution_count": 23,
   "id": "comparative-testament",
   "metadata": {
    "scrolled": true
   },
   "outputs": [
    {
     "data": {
      "image/png": "[encoded data removed]",
      "text/plain": [
       "<Figure size 432x288 with 1 Axes>"
      ]
     },
     "metadata": {
      "needs_background": "light"
     },
     "output_type": "display_data"
    }
   ],
   "source": [
    "new_img = new_img.reshape(-1, 3)\n",
    "tmp_df = pd.DataFrame(new_img, columns = [\"b\", \"g\", \"r\"])\n",
    "plt.hist(tmp_df[\"b\"],256,[0,1], color=\"blue\")\n",
    "plt.hist(tmp_df[\"g\"],256,[0,1], color=\"green\")\n",
    "plt.hist(tmp_df[\"r\"],256,[0,1], color=\"red\")\n",
    "plt.show()"
   ]
  },
  {
   "cell_type": "markdown",
   "id": "existing-fairy",
   "metadata": {},
   "source": [
    "## Texture Features"
   ]
  },
  {
   "cell_type": "markdown",
   "id": "declared-blanket",
   "metadata": {},
   "source": [
    "### Convert New Image to OpenCV Image"
   ]
  },
  {
   "cell_type": "code",
   "execution_count": 66,
   "id": "particular-plane",
   "metadata": {},
   "outputs": [],
   "source": [
    "cv_img = cv2.imread(img_path)"
   ]
  },
  {
   "cell_type": "markdown",
   "id": "contained-quarter",
   "metadata": {},
   "source": [
    "### Convert Image to GrayScale Image"
   ]
  },
  {
   "cell_type": "code",
   "execution_count": 106,
   "id": "centered-reverse",
   "metadata": {},
   "outputs": [],
   "source": [
    "img_gray = cv2.cvtColor(cv_img, cv2.COLOR_BGR2GRAY)"
   ]
  },
  {
   "cell_type": "markdown",
   "id": "acquired-interface",
   "metadata": {},
   "source": [
    "### Get Mean of Image"
   ]
  },
  {
   "cell_type": "code",
   "execution_count": 107,
   "id": "periodic-stopping",
   "metadata": {},
   "outputs": [
    {
     "data": {
      "text/plain": [
       "141.454"
      ]
     },
     "execution_count": 107,
     "metadata": {},
     "output_type": "execute_result"
    }
   ],
   "source": [
    "mean = np.mean(img_gray)\n",
    "mean"
   ]
  },
  {
   "cell_type": "markdown",
   "id": "suspended-determination",
   "metadata": {},
   "source": [
    "### Get Variance of Image"
   ]
  },
  {
   "cell_type": "code",
   "execution_count": 108,
   "id": "suspended-second",
   "metadata": {},
   "outputs": [
    {
     "data": {
      "text/plain": [
       "5469.470684"
      ]
     },
     "execution_count": 108,
     "metadata": {},
     "output_type": "execute_result"
    }
   ],
   "source": [
    "variance = np.var(img_gray)\n",
    "variance"
   ]
  },
  {
   "cell_type": "markdown",
   "id": "iraqi-small",
   "metadata": {},
   "source": [
    "### Get Entropy of Image"
   ]
  },
  {
   "cell_type": "code",
   "execution_count": 109,
   "id": "military-overall",
   "metadata": {},
   "outputs": [
    {
     "data": {
      "text/plain": [
       "6.533803496258811"
      ]
     },
     "execution_count": 109,
     "metadata": {},
     "output_type": "execute_result"
    }
   ],
   "source": [
    "entropy = skimage.measure.shannon_entropy(img_gray)\n",
    "entropy"
   ]
  },
  {
   "cell_type": "markdown",
   "id": "electrical-reservation",
   "metadata": {},
   "source": [
    "### Get Gray Level Occurrence of Image"
   ]
  },
  {
   "cell_type": "code",
   "execution_count": 110,
   "id": "cellular-battery",
   "metadata": {},
   "outputs": [],
   "source": [
    "glcm = greycomatrix(img_gray, [2], [0], 256, symmetric = True, normed = True)"
   ]
  },
  {
   "cell_type": "markdown",
   "id": "virgin-maine",
   "metadata": {},
   "source": [
    "### Get Contrast of Image"
   ]
  },
  {
   "cell_type": "code",
   "execution_count": 111,
   "id": "spread-explanation",
   "metadata": {},
   "outputs": [
    {
     "data": {
      "text/plain": [
       "937.4746938775509"
      ]
     },
     "execution_count": 111,
     "metadata": {},
     "output_type": "execute_result"
    }
   ],
   "source": [
    "contrast = greycoprops(glcm, prop=\"contrast\").item()\n",
    "contrast"
   ]
  },
  {
   "cell_type": "markdown",
   "id": "sapphire-privilege",
   "metadata": {},
   "source": [
    "### Get Homogeneity of Image"
   ]
  },
  {
   "cell_type": "code",
   "execution_count": 112,
   "id": "minus-hacker",
   "metadata": {},
   "outputs": [
    {
     "data": {
      "text/plain": [
       "0.24094403325547592"
      ]
     },
     "execution_count": 112,
     "metadata": {},
     "output_type": "execute_result"
    }
   ],
   "source": [
    "homogeneity = greycoprops(glcm, prop=\"homogeneity\").item()\n",
    "homogeneity"
   ]
  },
  {
   "cell_type": "markdown",
   "id": "alike-mercy",
   "metadata": {},
   "source": [
    "### Get Correlation of Image"
   ]
  },
  {
   "cell_type": "code",
   "execution_count": 113,
   "id": "amazing-wallpaper",
   "metadata": {},
   "outputs": [
    {
     "data": {
      "text/plain": [
       "0.9118038523408442"
      ]
     },
     "execution_count": 113,
     "metadata": {},
     "output_type": "execute_result"
    }
   ],
   "source": [
    "correlation = greycoprops(glcm, prop=\"correlation\").item()\n",
    "correlation"
   ]
  },
  {
   "cell_type": "markdown",
   "id": "public-monte",
   "metadata": {},
   "source": [
    "### Get Energy of Image"
   ]
  },
  {
   "cell_type": "code",
   "execution_count": 114,
   "id": "textile-japan",
   "metadata": {},
   "outputs": [
    {
     "data": {
      "text/plain": [
       "0.10123768120925332"
      ]
     },
     "execution_count": 114,
     "metadata": {},
     "output_type": "execute_result"
    }
   ],
   "source": [
    "energy = greycoprops(glcm, prop=\"energy\").item()\n",
    "energy"
   ]
  },
  {
   "cell_type": "markdown",
   "id": "modular-insurance",
   "metadata": {},
   "source": [
    "### Texture Feature Pipeline"
   ]
  },
  {
   "cell_type": "code",
   "execution_count": 115,
   "id": "ranging-clark",
   "metadata": {},
   "outputs": [],
   "source": [
    "def pipeline_texture(img_gray):\n",
    "    tmp_dict = {}\n",
    "    tmp_dict[\"Mean\"] = np.mean(img_gray)\n",
    "    tmp_dict[\"Variance\"] = np.var(img_gray)\n",
    "    tmp_dict[\"Entropy\"] = skimage.measure.shannon_entropy(img_gray)\n",
    "    glcm = greycomatrix(img_gray, [2], [0], 256, symmetric = True, normed = True)\n",
    "    tmp_dict[\"Contrast\"] = greycoprops(glcm, prop=\"contrast\").item()\n",
    "    tmp_dict[\"Homogeneity\"] = greycoprops(glcm, prop=\"homogeneity\").item()\n",
    "    tmp_dict[\"Correlation\"] = greycoprops(glcm, prop=\"correlation\").item()\n",
    "    tmp_dict[\"Energy\"] = greycoprops(glcm, prop=\"energy\").item()\n",
    "    return tmp_dict"
   ]
  },
  {
   "cell_type": "markdown",
   "id": "gentle-console",
   "metadata": {},
   "source": [
    "## Shape Features"
   ]
  },
  {
   "cell_type": "code",
   "execution_count": 116,
   "id": "champion-julian",
   "metadata": {},
   "outputs": [],
   "source": [
    "def pipeline_shape(img_gray):\n",
    "    # Apply Gaussian Blur to Image\n",
    "    img_blur = cv2.GaussianBlur(img_gray, (7,7), 1)\n",
    "\n",
    "    # Canny Edge Detection\n",
    "    img_canny = cv2.Canny(img_blur, 50, 150)\n",
    "\n",
    "    # Edge Detector\n",
    "    kernel = np.ones((5, 5), dtype = np.uint8)\n",
    "    img_dilate = cv2.dilate(img_canny, kernel, iterations = 1)\n",
    "\n",
    "    contours, hier = cv2.findContours(img_dilate, cv2.RETR_EXTERNAL, cv2.CHAIN_APPROX_SIMPLE)\n",
    "    area, peri = 0, 0\n",
    "    for cnt in contours:\n",
    "        area = cv2.contourArea(cnt)\n",
    "        peri = cv2.arcLength(cnt, True)\n",
    "    tmp_dict = {}\n",
    "    tmp_dict[\"Area\"] = area\n",
    "    tmp_dict[\"Perimeter\"] = peri\n",
    "    return tmp_dict"
   ]
  },
  {
   "cell_type": "markdown",
   "id": "sized-carol",
   "metadata": {},
   "source": [
    "### Gray Image"
   ]
  },
  {
   "cell_type": "code",
   "execution_count": 118,
   "id": "billion-chase",
   "metadata": {},
   "outputs": [],
   "source": [
    "cv_img = cv2.imread(img_path)\n",
    "\n",
    "# Convert Image to Gray Image\n",
    "img_gray = cv2.cvtColor(cv_img, cv2.COLOR_BGR2GRAY)"
   ]
  },
  {
   "cell_type": "markdown",
   "id": "alpine-shakespeare",
   "metadata": {},
   "source": [
    "### Get Area of Image"
   ]
  },
  {
   "cell_type": "code",
   "execution_count": 119,
   "id": "standard-replication",
   "metadata": {},
   "outputs": [
    {
     "data": {
      "text/plain": [
       "1613.5"
      ]
     },
     "execution_count": 119,
     "metadata": {},
     "output_type": "execute_result"
    }
   ],
   "source": [
    "area = pipeline_shape(img_gray)[\"Area\"]\n",
    "area"
   ]
  },
  {
   "cell_type": "markdown",
   "id": "virgin-cooking",
   "metadata": {},
   "source": [
    "### Get Perimeter of Image"
   ]
  },
  {
   "cell_type": "code",
   "execution_count": 120,
   "id": "blank-network",
   "metadata": {},
   "outputs": [
    {
     "data": {
      "text/plain": [
       "637.7716394662857"
      ]
     },
     "execution_count": 120,
     "metadata": {},
     "output_type": "execute_result"
    }
   ],
   "source": [
    "peri = pipeline_shape(img_gray)[\"Perimeter\"]\n",
    "peri"
   ]
  },
  {
   "cell_type": "markdown",
   "id": "white-muslim",
   "metadata": {},
   "source": [
    "### Update Final Dictionary"
   ]
  },
  {
   "cell_type": "code",
   "execution_count": 126,
   "id": "treated-plain",
   "metadata": {},
   "outputs": [],
   "source": [
    "def pipeline_final(img_path, h = 100, w = 100):\n",
    "    final_dict = {}\n",
    "    \n",
    "    # Get Color Features\n",
    "    img = Image.open(img_path)\n",
    "    new_img = pipeline_1d(img, convert_val_to_rgb, h, w)\n",
    "    color_feature_dict = pipeline_color(new_img)\n",
    "    final_dict.update(color_feature_dict)\n",
    "    \n",
    "    cv_img = cv2.imread(img_path)\n",
    "\n",
    "    # Convert Image to Gray Image\n",
    "    img_gray = cv2.cvtColor(cv_img, cv2.COLOR_BGR2GRAY)\n",
    "\n",
    "    # Get Texture Features\n",
    "    texture_feature_dict = pipeline_texture(img_gray)\n",
    "    final_dict.update(texture_feature_dict)\n",
    "\n",
    "    # Get Shape Features\n",
    "    shape_feature_dict = pipeline_shape(img_gray)\n",
    "    final_dict.update(shape_feature_dict)\n",
    "    \n",
    "    return final_dict"
   ]
  },
  {
   "cell_type": "markdown",
   "id": "systematic-cross",
   "metadata": {},
   "source": [
    "### Get minimum number of images"
   ]
  },
  {
   "cell_type": "code",
   "execution_count": 140,
   "id": "geographic-toyota",
   "metadata": {},
   "outputs": [],
   "source": [
    "num_image_arr = []\n",
    "for folder_path in glob('Dataset/*/'):\n",
    "    folder_name = folder_path.split(\"\\\\\")[1]\n",
    "    all_images = glob(folder_path + \"*.jpg\")\n",
    "    num_image_arr.append(len(all_images))\n",
    "min_num_of_img = min(num_image_arr)"
   ]
  },
  {
   "cell_type": "markdown",
   "id": "initial-palestinian",
   "metadata": {},
   "source": [
    "### Append To Dataframe"
   ]
  },
  {
   "cell_type": "code",
   "execution_count": 141,
   "id": "polyphonic-privilege",
   "metadata": {},
   "outputs": [],
   "source": [
    "feature_arr = []\n",
    "\n",
    "color_feature_arr = []\n",
    "cc = [\"00\", \"55\", \"AA\", \"FF\"]\n",
    "for i in range(4):\n",
    "    for j in range(4):\n",
    "        for k in range(4):\n",
    "            color_feature_arr.append(f\"#{cc[i]}{cc[j]}{cc[k]}\")\n",
    "feature_arr += color_feature_arr\n",
    "\n",
    "texture_feature_arr = [\"Mean\", \"Variance\", \"Entropy\", \"Contrast\", \"Homogeneity\", \"Correlation\", \"Energy\"]\n",
    "feature_arr += texture_feature_arr\n",
    "\n",
    "shape_feature_arr = [\"Area\", \"Perimeter\"]\n",
    "feature_arr += shape_feature_arr"
   ]
  },
  {
   "cell_type": "code",
   "execution_count": 142,
   "id": "unable-union",
   "metadata": {},
   "outputs": [
    {
     "data": {
      "text/html": [
       "<div>\n",
       "<style scoped>\n",
       "    .dataframe tbody tr th:only-of-type {\n",
       "        vertical-align: middle;\n",
       "    }\n",
       "\n",
       "    .dataframe tbody tr th {\n",
       "        vertical-align: top;\n",
       "    }\n",
       "\n",
       "    .dataframe thead th {\n",
       "        text-align: right;\n",
       "    }\n",
       "</style>\n",
       "<table border=\"1\" class=\"dataframe\">\n",
       "  <thead>\n",
       "    <tr style=\"text-align: right;\">\n",
       "      <th></th>\n",
       "      <th>#000000</th>\n",
       "      <th>#000055</th>\n",
       "      <th>#0000AA</th>\n",
       "      <th>#0000FF</th>\n",
       "      <th>#005500</th>\n",
       "      <th>#005555</th>\n",
       "      <th>#0055AA</th>\n",
       "      <th>#0055FF</th>\n",
       "      <th>#00AA00</th>\n",
       "      <th>#00AA55</th>\n",
       "      <th>...</th>\n",
       "      <th>#FFFFFF</th>\n",
       "      <th>Mean</th>\n",
       "      <th>Variance</th>\n",
       "      <th>Entropy</th>\n",
       "      <th>Contrast</th>\n",
       "      <th>Homogeneity</th>\n",
       "      <th>Correlation</th>\n",
       "      <th>Energy</th>\n",
       "      <th>Area</th>\n",
       "      <th>Perimeter</th>\n",
       "    </tr>\n",
       "  </thead>\n",
       "  <tbody>\n",
       "  </tbody>\n",
       "</table>\n",
       "<p>0 rows × 73 columns</p>\n",
       "</div>"
      ],
      "text/plain": [
       "Empty DataFrame\n",
       "Columns: [#000000, #000055, #0000AA, #0000FF, #005500, #005555, #0055AA, #0055FF, #00AA00, #00AA55, #00AAAA, #00AAFF, #00FF00, #00FF55, #00FFAA, #00FFFF, #550000, #550055, #5500AA, #5500FF, #555500, #555555, #5555AA, #5555FF, #55AA00, #55AA55, #55AAAA, #55AAFF, #55FF00, #55FF55, #55FFAA, #55FFFF, #AA0000, #AA0055, #AA00AA, #AA00FF, #AA5500, #AA5555, #AA55AA, #AA55FF, #AAAA00, #AAAA55, #AAAAAA, #AAAAFF, #AAFF00, #AAFF55, #AAFFAA, #AAFFFF, #FF0000, #FF0055, #FF00AA, #FF00FF, #FF5500, #FF5555, #FF55AA, #FF55FF, #FFAA00, #FFAA55, #FFAAAA, #FFAAFF, #FFFF00, #FFFF55, #FFFFAA, #FFFFFF, Mean, Variance, Entropy, Contrast, Homogeneity, Correlation, Energy, Area, Perimeter]\n",
       "Index: []\n",
       "\n",
       "[0 rows x 73 columns]"
      ]
     },
     "execution_count": 142,
     "metadata": {},
     "output_type": "execute_result"
    }
   ],
   "source": [
    "final_df = pd.DataFrame(columns = feature_arr)\n",
    "final_df"
   ]
  },
  {
   "cell_type": "markdown",
   "id": "dimensional-wildlife",
   "metadata": {},
   "source": [
    "### Generate CSV (Only Color Features)"
   ]
  },
  {
   "cell_type": "code",
   "execution_count": 143,
   "id": "nominated-abortion",
   "metadata": {},
   "outputs": [],
   "source": [
    "h = w = 100\n",
    "for folder_path in glob('Dataset/*/'):\n",
    "    folder_name = folder_path.split(\"\\\\\")[1]\n",
    "    all_images = glob(folder_path + \"*.jpg\")\n",
    "    all_images = all_images[0:min_num_of_img]\n",
    "    for img_path in all_images:\n",
    "        feature_dict = pipeline_final(img_path, h, w)\n",
    "        final_df = final_df.append(feature_dict, ignore_index=True)"
   ]
  },
  {
   "cell_type": "markdown",
   "id": "common-forwarding",
   "metadata": {},
   "source": [
    "### Fill in Nan Values"
   ]
  },
  {
   "cell_type": "code",
   "execution_count": 144,
   "id": "protecting-garbage",
   "metadata": {},
   "outputs": [],
   "source": [
    "final_df.fillna(0, inplace=True)"
   ]
  },
  {
   "cell_type": "markdown",
   "id": "alleged-relaxation",
   "metadata": {},
   "source": [
    "### Add Label"
   ]
  },
  {
   "cell_type": "code",
   "execution_count": 146,
   "id": "broken-level",
   "metadata": {},
   "outputs": [],
   "source": [
    "folder_name_arr = [folder_path.split(\"\\\\\")[1] for folder_path in glob('Dataset/*/')]\n",
    "label_arr = list(itertools.chain.from_iterable(itertools.repeat(x, min_num_of_img) for x in folder_name_arr))"
   ]
  },
  {
   "cell_type": "code",
   "execution_count": 147,
   "id": "unlikely-three",
   "metadata": {},
   "outputs": [],
   "source": [
    "final_df[\"Label\"] = label_arr"
   ]
  },
  {
   "cell_type": "markdown",
   "id": "statewide-moses",
   "metadata": {},
   "source": [
    "### Shuffle Dataset"
   ]
  },
  {
   "cell_type": "code",
   "execution_count": 148,
   "id": "retained-excess",
   "metadata": {},
   "outputs": [],
   "source": [
    "df = final_df"
   ]
  },
  {
   "cell_type": "code",
   "execution_count": 149,
   "id": "fifty-history",
   "metadata": {},
   "outputs": [],
   "source": [
    "df = df.sample(frac=1).reset_index(drop=True)"
   ]
  },
  {
   "cell_type": "markdown",
   "id": "verbal-punch",
   "metadata": {},
   "source": [
    "### Output CSV"
   ]
  },
  {
   "cell_type": "code",
   "execution_count": 150,
   "id": "direct-campaign",
   "metadata": {},
   "outputs": [],
   "source": [
    "df.to_csv(\"Image_Dataset_Color_Texture_Shape_Features.csv\", index = False)"
   ]
  },
  {
   "cell_type": "markdown",
   "id": "animated-ukraine",
   "metadata": {},
   "source": [
    "### Generate CSV (After Color Discretization)"
   ]
  },
  {
   "cell_type": "code",
   "execution_count": 44,
   "id": "excited-duration",
   "metadata": {},
   "outputs": [],
   "source": [
    "# all_img_arr = []\n",
    "# h = w = 100\n",
    "# for folder_path in glob('Dataset/*/'):\n",
    "#     folder_name = folder_path.split(\"\\\\\")[1]\n",
    "#     all_images = glob(folder_path + \"*.jpg\")\n",
    "#     all_images = all_images[0:min_num_of_img]\n",
    "#     for img_path in all_images:\n",
    "#         img = Image.open(img_path)\n",
    "#         # Get Hex Value Only\n",
    "#         new_img = pipeline_1d(img, convert_val_to_bin, h, w)\n",
    "#         all_img_arr.append(new_img)"
   ]
  },
  {
   "cell_type": "code",
   "execution_count": 45,
   "id": "employed-cleanup",
   "metadata": {},
   "outputs": [],
   "source": [
    "# df = pd.DataFrame(all_img_arr)\n",
    "# df.rename(columns={i:f'Pixel {i}' for i in range(h * w *3)}, inplace = True)\n",
    "# folder_name_arr = [folder_path.split(\"\\\\\")[1] for folder_path in glob('Dataset/*/')]\n",
    "# label_arr = list(itertools.chain.from_iterable(itertools.repeat(x, min_num_of_img) for x in folder_name_arr))\n",
    "# df[\"Label\"] = label_arr"
   ]
  },
  {
   "cell_type": "code",
   "execution_count": 46,
   "id": "pressed-question",
   "metadata": {},
   "outputs": [],
   "source": [
    "# # Shuffle Dataset\n",
    "# df = df.sample(frac=1).reset_index(drop=True)"
   ]
  },
  {
   "cell_type": "code",
   "execution_count": 47,
   "id": "continental-hardwood",
   "metadata": {},
   "outputs": [],
   "source": [
    "# df.to_csv(\"Image_Dataset_Color_Features_Float.csv\")"
   ]
  }
 ],
 "metadata": {
  "kernelspec": {
   "display_name": "Python 3",
   "language": "python",
   "name": "python3"
  },
  "language_info": {
   "codemirror_mode": {
    "name": "ipython",
    "version": 3
   },
   "file_extension": ".py",
   "mimetype": "text/x-python",
   "name": "python",
   "nbconvert_exporter": "python",
   "pygments_lexer": "ipython3",
   "version": "3.9.1"
  }
 },
 "nbformat": 4,
 "nbformat_minor": 5
}
