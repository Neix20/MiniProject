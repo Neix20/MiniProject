{
 "cells": [
  {
   "cell_type": "code",
   "execution_count": 1,
   "id": "middle-blond",
   "metadata": {},
   "outputs": [],
   "source": [
    "import cv2\n",
    "import matplotlib\n",
    "import numpy as np\n",
    "import pandas as pd\n",
    "import skimage.measure\n",
    "import matplotlib.pyplot as plt\n",
    "from glob import glob\n",
    "from skimage.feature import greycomatrix, greycoprops\n",
    "%matplotlib inline "
   ]
  },
  {
   "cell_type": "markdown",
   "id": "victorian-director",
   "metadata": {},
   "source": [
    "## Image Path"
   ]
  },
  {
   "cell_type": "code",
   "execution_count": 2,
   "id": "shaped-syndication",
   "metadata": {},
   "outputs": [],
   "source": [
    "img_path = \"Dataset\\\\Orange\\\\0_100.jpg\""
   ]
  },
  {
   "cell_type": "markdown",
   "id": "northern-glass",
   "metadata": {},
   "source": [
    "## Display Image"
   ]
  },
  {
   "cell_type": "code",
   "execution_count": 3,
   "id": "neural-vacuum",
   "metadata": {},
   "outputs": [],
   "source": [
    "def display(img):\n",
    "    plt.imshow (img, interpolation = 'nearest')\n",
    "    _ = plt.axis(False)"
   ]
  },
  {
   "cell_type": "markdown",
   "id": "suited-sympathy",
   "metadata": {},
   "source": [
    "## Remove Background"
   ]
  },
  {
   "cell_type": "code",
   "execution_count": 4,
   "id": "integrated-garage",
   "metadata": {},
   "outputs": [],
   "source": [
    "def remove_background(img, threshold):\n",
    "    \"\"\"\n",
    "    This method removes background from your image\n",
    "    \n",
    "    :param img: cv2 image\n",
    "    :type img: np.array\n",
    "    :param threshold: threshold value for cv2.threshold\n",
    "    :type threshold: float\n",
    "    :return: RGBA image\n",
    "    :rtype: np.ndarray\n",
    "    \"\"\"\n",
    "    \n",
    "    gray = cv2.cvtColor(img, cv2.COLOR_BGR2GRAY)\n",
    "    _, threshed = cv2.threshold(gray, threshold, 255, cv2.THRESH_BINARY_INV)\n",
    "    \n",
    "    kernel = cv2.getStructuringElement(cv2.MORPH_ELLIPSE, (11, 11))\n",
    "    morphed = cv2.morphologyEx(threshed, cv2.MORPH_CLOSE, kernel)\n",
    "    \n",
    "    cnts = cv2.findContours(morphed, cv2.RETR_EXTERNAL, cv2.CHAIN_APPROX_SIMPLE)[0]\n",
    "    cnt = sorted(cnts, key=cv2.contourArea)[-1]\n",
    "\n",
    "    mask = cv2.drawContours(threshed, cnt, 0, (0, 255, 0), 0)\n",
    "    masked_data = cv2.bitwise_and(img, img, mask=mask)\n",
    "\n",
    "    x, y, w, h = cv2.boundingRect(cnt)\n",
    "    dst = masked_data[y: y + h, x: x + w]\n",
    "\n",
    "    dst_gray = cv2.cvtColor(dst, cv2.COLOR_BGR2GRAY)\n",
    "    _, alpha = cv2.threshold(dst_gray, 0, 255, cv2.THRESH_BINARY)\n",
    "    b, g, r = cv2.split(dst)\n",
    "\n",
    "    rgba = [r, g, b, alpha]\n",
    "    dst = cv2.merge(rgba, 4)\n",
    "    \n",
    "    dst = cv2.cvtColor(dst, cv2.COLOR_BGRA2RGB)\n",
    "\n",
    "    return dst"
   ]
  },
  {
   "cell_type": "markdown",
   "id": "varied-trance",
   "metadata": {},
   "source": [
    "## Increase Contrast"
   ]
  },
  {
   "cell_type": "code",
   "execution_count": 5,
   "id": "included-receptor",
   "metadata": {},
   "outputs": [],
   "source": [
    "def add_contrast(img, alpha, beta):\n",
    "    return cv2.convertScaleAbs(img, alpha=alpha, beta=beta)"
   ]
  },
  {
   "cell_type": "markdown",
   "id": "private-growth",
   "metadata": {},
   "source": [
    "## Normal Image"
   ]
  },
  {
   "cell_type": "code",
   "execution_count": 11,
   "id": "under-honey",
   "metadata": {},
   "outputs": [
    {
     "ename": "error",
     "evalue": "OpenCV(4.5.2) C:\\Users\\runneradmin\\AppData\\Local\\Temp\\pip-req-build-ttbyx0jz\\opencv\\modules\\imgproc\\src\\color.cpp:182: error: (-215:Assertion failed) !_src.empty() in function 'cv::cvtColor'\n",
     "output_type": "error",
     "traceback": [
      "\u001b[1;31m---------------------------------------------------------------------------\u001b[0m",
      "\u001b[1;31merror\u001b[0m                                     Traceback (most recent call last)",
      "\u001b[1;32m<ipython-input-11-89f008c69462>\u001b[0m in \u001b[0;36m<module>\u001b[1;34m\u001b[0m\n\u001b[0;32m      1\u001b[0m \u001b[0mimg\u001b[0m \u001b[1;33m=\u001b[0m \u001b[0mcv2\u001b[0m\u001b[1;33m.\u001b[0m\u001b[0mimread\u001b[0m\u001b[1;33m(\u001b[0m\u001b[0mimg_path\u001b[0m\u001b[1;33m)\u001b[0m\u001b[1;33m\u001b[0m\u001b[1;33m\u001b[0m\u001b[0m\n\u001b[1;32m----> 2\u001b[1;33m \u001b[0mimg\u001b[0m \u001b[1;33m=\u001b[0m \u001b[0mremove_background\u001b[0m\u001b[1;33m(\u001b[0m\u001b[0mimg\u001b[0m\u001b[1;33m,\u001b[0m \u001b[1;36m225\u001b[0m\u001b[1;33m)\u001b[0m\u001b[1;33m\u001b[0m\u001b[1;33m\u001b[0m\u001b[0m\n\u001b[0m\u001b[0;32m      3\u001b[0m \u001b[0mimg\u001b[0m \u001b[1;33m=\u001b[0m \u001b[0mcv2\u001b[0m\u001b[1;33m.\u001b[0m\u001b[0mcvtColor\u001b[0m\u001b[1;33m(\u001b[0m\u001b[0mimg\u001b[0m\u001b[1;33m,\u001b[0m \u001b[0mcv2\u001b[0m\u001b[1;33m.\u001b[0m\u001b[0mCOLOR_BGR2RGB\u001b[0m\u001b[1;33m)\u001b[0m\u001b[1;33m\u001b[0m\u001b[1;33m\u001b[0m\u001b[0m\n\u001b[0;32m      4\u001b[0m \u001b[0mdisplay\u001b[0m\u001b[1;33m(\u001b[0m\u001b[0mimg\u001b[0m\u001b[1;33m)\u001b[0m\u001b[1;33m\u001b[0m\u001b[1;33m\u001b[0m\u001b[0m\n",
      "\u001b[1;32m<ipython-input-4-21b9ce933103>\u001b[0m in \u001b[0;36mremove_background\u001b[1;34m(img, threshold)\u001b[0m\n\u001b[0;32m     11\u001b[0m     \"\"\"\n\u001b[0;32m     12\u001b[0m \u001b[1;33m\u001b[0m\u001b[0m\n\u001b[1;32m---> 13\u001b[1;33m     \u001b[0mgray\u001b[0m \u001b[1;33m=\u001b[0m \u001b[0mcv2\u001b[0m\u001b[1;33m.\u001b[0m\u001b[0mcvtColor\u001b[0m\u001b[1;33m(\u001b[0m\u001b[0mimg\u001b[0m\u001b[1;33m,\u001b[0m \u001b[0mcv2\u001b[0m\u001b[1;33m.\u001b[0m\u001b[0mCOLOR_BGR2GRAY\u001b[0m\u001b[1;33m)\u001b[0m\u001b[1;33m\u001b[0m\u001b[1;33m\u001b[0m\u001b[0m\n\u001b[0m\u001b[0;32m     14\u001b[0m     \u001b[0m_\u001b[0m\u001b[1;33m,\u001b[0m \u001b[0mthreshed\u001b[0m \u001b[1;33m=\u001b[0m \u001b[0mcv2\u001b[0m\u001b[1;33m.\u001b[0m\u001b[0mthreshold\u001b[0m\u001b[1;33m(\u001b[0m\u001b[0mgray\u001b[0m\u001b[1;33m,\u001b[0m \u001b[0mthreshold\u001b[0m\u001b[1;33m,\u001b[0m \u001b[1;36m255\u001b[0m\u001b[1;33m,\u001b[0m \u001b[0mcv2\u001b[0m\u001b[1;33m.\u001b[0m\u001b[0mTHRESH_BINARY_INV\u001b[0m\u001b[1;33m)\u001b[0m\u001b[1;33m\u001b[0m\u001b[1;33m\u001b[0m\u001b[0m\n\u001b[0;32m     15\u001b[0m \u001b[1;33m\u001b[0m\u001b[0m\n",
      "\u001b[1;31merror\u001b[0m: OpenCV(4.5.2) C:\\Users\\runneradmin\\AppData\\Local\\Temp\\pip-req-build-ttbyx0jz\\opencv\\modules\\imgproc\\src\\color.cpp:182: error: (-215:Assertion failed) !_src.empty() in function 'cv::cvtColor'\n"
     ]
    }
   ],
   "source": [
    "img = cv2.imread(img_path)\n",
    "img = remove_background(img, 225)\n",
    "img = cv2.cvtColor(img, cv2.COLOR_BGR2RGB)\n",
    "display(img)"
   ]
  },
  {
   "cell_type": "markdown",
   "id": "greenhouse-relations",
   "metadata": {},
   "source": [
    "## Color Enhancement"
   ]
  },
  {
   "cell_type": "code",
   "execution_count": 101,
   "id": "waiting-lawrence",
   "metadata": {},
   "outputs": [],
   "source": [
    "img_path = \"Dataset\\\\Lychee\\\\0_100.jpg\"\n",
    "img_path = \"Test_Images\\\\Lychee\\\\lychee1.jpg\""
   ]
  },
  {
   "cell_type": "code",
   "execution_count": 102,
   "id": "palestinian-revision",
   "metadata": {},
   "outputs": [
    {
     "data": {
      "text/plain": [
       "(94, 87, 3)"
      ]
     },
     "execution_count": 102,
     "metadata": {},
     "output_type": "execute_result"
    },
    {
     "data": {
      "image/png": "[encoded data removed]",
      "text/plain": [
       "<Figure size 432x288 with 1 Axes>"
      ]
     },
     "metadata": {
      "needs_background": "light"
     },
     "output_type": "display_data"
    }
   ],
   "source": [
    "img = cv2.imread(img_path)\n",
    "img = cv2.resize(img, (100, 100),interpolation = cv2.INTER_AREA)\n",
    "img = remove_background(img, 225)\n",
    "img = cv2.cvtColor(img, cv2.COLOR_BGR2RGB)\n",
    "img = img / 255.0\n",
    "display(img)\n",
    "img.shape"
   ]
  },
  {
   "cell_type": "code",
   "execution_count": 103,
   "id": "located-leone",
   "metadata": {},
   "outputs": [],
   "source": [
    "r, g, b = cv2.split(img)\n",
    "img_sum = r + g + b\n",
    "CR, CG, CB = cv2.divide(r, img_sum), cv2.divide(g, img_sum), cv2.divide(b, img_sum)"
   ]
  },
  {
   "cell_type": "code",
   "execution_count": 104,
   "id": "interim-crisis",
   "metadata": {},
   "outputs": [
    {
     "data": {
      "image/png": "[encoded data removed]",
      "text/plain": [
       "<Figure size 432x288 with 1 Axes>"
      ]
     },
     "metadata": {
      "needs_background": "light"
     },
     "output_type": "display_data"
    }
   ],
   "source": [
    "img = cv2.merge((CR, CG, CB))\n",
    "display(img)"
   ]
  },
  {
   "cell_type": "code",
   "execution_count": 105,
   "id": "adjacent-prevention",
   "metadata": {},
   "outputs": [
    {
     "data": {
      "image/png": "[encoded data removed]",
      "text/plain": [
       "<Figure size 432x288 with 1 Axes>"
      ]
     },
     "metadata": {
      "needs_background": "light"
     },
     "output_type": "display_data"
    }
   ],
   "source": [
    "img = np.uint8(img * 255)\n",
    "\n",
    "img_gray = cv2.cvtColor(img, cv2.COLOR_BGR2GRAY)\n",
    "\n",
    "# Apply Gaussian Blur to Image\n",
    "img_blur = cv2.GaussianBlur(img_gray, (7,7), 1)\n",
    "\n",
    "# Canny Edge Detection\n",
    "img_canny = cv2.Canny(img_blur, 50, 150)\n",
    "\n",
    "# Edge Detector\n",
    "kernel = np.ones((5, 5), dtype = np.uint8)\n",
    "img_dilate = cv2.dilate(img_canny, kernel, iterations = 1)\n",
    "\n",
    "contours, hier = cv2.findContours(img_dilate, cv2.RETR_EXTERNAL, cv2.CHAIN_APPROX_SIMPLE)\n",
    "\n",
    "roi = []\n",
    "\n",
    "for cnt in contours:\n",
    "    x, y, w, h = cv2.boundingRect(cnt)\n",
    "    roi = img[y: y + h, x: x + w]\n",
    "    \n",
    "display(roi)"
   ]
  },
  {
   "cell_type": "code",
   "execution_count": 100,
   "id": "moderate-center",
   "metadata": {},
   "outputs": [
    {
     "data": {
      "text/plain": [
       "(100, 86, 3)"
      ]
     },
     "execution_count": 100,
     "metadata": {},
     "output_type": "execute_result"
    }
   ],
   "source": [
    "img = np.nan_to_num(img)\n",
    "img.shape"
   ]
  },
  {
   "cell_type": "code",
   "execution_count": null,
   "id": "universal-stomach",
   "metadata": {},
   "outputs": [],
   "source": [
    "sdf"
   ]
  },
  {
   "cell_type": "markdown",
   "id": "breeding-electric",
   "metadata": {},
   "source": [
    "## Pipeline 1D"
   ]
  },
  {
   "cell_type": "code",
   "execution_count": null,
   "id": "ongoing-dragon",
   "metadata": {},
   "outputs": [],
   "source": [
    "def pipeline_1d(cv_img, convert_func):\n",
    "    img_arr = np.array(cv_img)\n",
    "    img_flatten = img_arr.reshape(1, -1).T\n",
    "    img_squeeze = np.squeeze(img_flatten)\n",
    "    img_convert = np.vectorize(convert_func)(img_squeeze)\n",
    "    return img_convert"
   ]
  },
  {
   "cell_type": "code",
   "execution_count": null,
   "id": "controlling-rabbit",
   "metadata": {},
   "outputs": [],
   "source": [
    "np.linspace(0, 255, 8)"
   ]
  },
  {
   "cell_type": "markdown",
   "id": "enabling-doctrine",
   "metadata": {},
   "source": [
    "## Convert to Val"
   ]
  },
  {
   "cell_type": "code",
   "execution_count": null,
   "id": "endless-ecuador",
   "metadata": {},
   "outputs": [],
   "source": [
    "def convert_val_to_bin(x):\n",
    "    if x >= 0 and x < 0.25:\n",
    "        return 32\n",
    "    elif x >= 0.25 and x < 0.5:\n",
    "        return 96\n",
    "    elif x >= 0.5 and x < 0.75:\n",
    "        return 160\n",
    "    elif x >= 0.75 and x < 0.667:\n",
    "        return 224"
   ]
  },
  {
   "cell_type": "code",
   "execution_count": null,
   "id": "banner-responsibility",
   "metadata": {},
   "outputs": [],
   "source": [
    "# def convert_val_to_bin(x):\n",
    "#     if x >= 0 and x < 0.167:\n",
    "#         return 0\n",
    "#     elif x >= 1.67 and x < 0.33:\n",
    "#         return 51\n",
    "#     elif x >= 0.33 and x < 0.5:\n",
    "#         return 102\n",
    "#     elif x >= 0.5 and x < 0.667:\n",
    "#         return 153\n",
    "#     elif x >= 0.667 and x < 0.83:\n",
    "#         return 204\n",
    "#     else:\n",
    "#         return 255"
   ]
  },
  {
   "cell_type": "code",
   "execution_count": null,
   "id": "mounted-attempt",
   "metadata": {},
   "outputs": [],
   "source": [
    "def convert_val_to_bin(x):\n",
    "    if x >= 0 and x < 0.125:\n",
    "        return 0\n",
    "    elif x >= 0.125 and x < 0.25:\n",
    "        return 32\n",
    "    elif x >= 0.25 and x < 0.375:\n",
    "        return 64\n",
    "    elif x >= 0.375 and x < 0.5:\n",
    "        return 96\n",
    "    elif x >= 0.5 and x < 0.625:\n",
    "        return 128\n",
    "    elif x >= 0.625 and x < 0.75:\n",
    "        return 160\n",
    "    elif x >= 0.75 and x < 0.875:\n",
    "        return 192\n",
    "    else:\n",
    "        return 255"
   ]
  },
  {
   "cell_type": "code",
   "execution_count": null,
   "id": "scenic-judges",
   "metadata": {},
   "outputs": [],
   "source": [
    "# def convert_val_to_bin(x):\n",
    "#     if x >= 0 and x < 64:\n",
    "#         return 32\n",
    "#     elif x >= 64 and x < 128:\n",
    "#         return 96\n",
    "#     elif x >= 128 and x < 192:\n",
    "#         return 160\n",
    "#     else:\n",
    "#         return 224"
   ]
  },
  {
   "cell_type": "code",
   "execution_count": null,
   "id": "unexpected-debate",
   "metadata": {},
   "outputs": [],
   "source": [
    "h = w = 100\n",
    "# img = cv2.imread(img_path)\n",
    "# img = cv2.resize(img, (100, 100),interpolation = cv2.INTER_AREA)\n",
    "# img = remove_background(img, 225)\n",
    "# img = cv2.cvtColor(img, cv2.COLOR_BGR2RGB)\n",
    "new_img = pipeline_1d(img, convert_val_to_bin)\n",
    "new_img = new_img.reshape(88, 75, 3)\n",
    "display(new_img)"
   ]
  },
  {
   "cell_type": "code",
   "execution_count": null,
   "id": "heated-detective",
   "metadata": {},
   "outputs": [],
   "source": []
  },
  {
   "cell_type": "code",
   "execution_count": null,
   "id": "assumed-activity",
   "metadata": {},
   "outputs": [],
   "source": [
    "np.log10(0.0001)"
   ]
  },
  {
   "cell_type": "code",
   "execution_count": null,
   "id": "phantom-catholic",
   "metadata": {},
   "outputs": [],
   "source": [
    "np.log10(10)"
   ]
  },
  {
   "cell_type": "code",
   "execution_count": null,
   "id": "authorized-branch",
   "metadata": {},
   "outputs": [],
   "source": [
    "np.random.uniform(-4, 1, 10)"
   ]
  },
  {
   "cell_type": "code",
   "execution_count": null,
   "id": "comparative-immigration",
   "metadata": {},
   "outputs": [],
   "source": []
  }
 ],
 "metadata": {
  "kernelspec": {
   "display_name": "Python 3",
   "language": "python",
   "name": "python3"
  },
  "language_info": {
   "codemirror_mode": {
    "name": "ipython",
    "version": 3
   },
   "file_extension": ".py",
   "mimetype": "text/x-python",
   "name": "python",
   "nbconvert_exporter": "python",
   "pygments_lexer": "ipython3",
   "version": "3.9.1"
  }
 },
 "nbformat": 4,
 "nbformat_minor": 5
}
