{
 "cells": [
  {
   "cell_type": "markdown",
   "id": "identical-electric",
   "metadata": {},
   "source": [
    "## Load Libraries"
   ]
  },
  {
   "cell_type": "code",
   "execution_count": 1,
   "id": "flush-killer",
   "metadata": {},
   "outputs": [],
   "source": [
    "import cv2\n",
    "import matplotlib\n",
    "import numpy as np\n",
    "import pandas as pd\n",
    "import skimage.measure\n",
    "import matplotlib.pyplot as plt\n",
    "from glob import glob\n",
    "from skimage.feature import greycomatrix, greycoprops\n",
    "%matplotlib inline "
   ]
  },
  {
   "cell_type": "markdown",
   "id": "healthy-belief",
   "metadata": {},
   "source": [
    "## Remove White Background (Threshold)"
   ]
  },
  {
   "cell_type": "code",
   "execution_count": 2,
   "id": "three-landing",
   "metadata": {},
   "outputs": [],
   "source": [
    "def remove_background(img, threshold):\n",
    "    \"\"\"\n",
    "    This method removes background from your image\n",
    "    \n",
    "    :param img: cv2 image\n",
    "    :type img: np.array\n",
    "    :param threshold: threshold value for cv2.threshold\n",
    "    :type threshold: float\n",
    "    :return: RGBA image\n",
    "    :rtype: np.ndarray\n",
    "    \"\"\"\n",
    "    \n",
    "    gray = cv2.cvtColor(img, cv2.COLOR_BGR2GRAY)\n",
    "    _, threshed = cv2.threshold(gray, threshold, 255, cv2.THRESH_BINARY_INV)\n",
    "    \n",
    "    kernel = cv2.getStructuringElement(cv2.MORPH_ELLIPSE, (11, 11))\n",
    "    morphed = cv2.morphologyEx(threshed, cv2.MORPH_CLOSE, kernel)\n",
    "    \n",
    "    cnts = cv2.findContours(morphed, cv2.RETR_EXTERNAL, cv2.CHAIN_APPROX_SIMPLE)[0]\n",
    "    cnt = sorted(cnts, key=cv2.contourArea)[-1]\n",
    "\n",
    "    mask = cv2.drawContours(threshed, cnt, 0, (0, 255, 0), 0)\n",
    "    masked_data = cv2.bitwise_and(img, img, mask=mask)\n",
    "\n",
    "    x, y, w, h = cv2.boundingRect(cnt)\n",
    "    dst = masked_data[y: y + h, x: x + w]\n",
    "\n",
    "    dst_gray = cv2.cvtColor(dst, cv2.COLOR_BGR2GRAY)\n",
    "    _, alpha = cv2.threshold(dst_gray, 0, 255, cv2.THRESH_BINARY)\n",
    "    b, g, r = cv2.split(dst)\n",
    "\n",
    "    rgba = [r, g, b, alpha]\n",
    "    dst = cv2.merge(rgba, 4)\n",
    "    \n",
    "    dst = cv2.cvtColor(dst, cv2.COLOR_BGRA2RGB)\n",
    "\n",
    "    return dst"
   ]
  },
  {
   "cell_type": "markdown",
   "id": "spectacular-davis",
   "metadata": {},
   "source": [
    "## Display Image"
   ]
  },
  {
   "cell_type": "code",
   "execution_count": 3,
   "id": "nearby-driver",
   "metadata": {},
   "outputs": [],
   "source": [
    "def display(img):\n",
    "    plt.imshow (img, interpolation = 'nearest')\n",
    "    _ = plt.axis(False)"
   ]
  },
  {
   "cell_type": "markdown",
   "id": "horizontal-international",
   "metadata": {},
   "source": [
    "## Plot Image Grid"
   ]
  },
  {
   "cell_type": "code",
   "execution_count": 4,
   "id": "knowing-engineer",
   "metadata": {},
   "outputs": [],
   "source": [
    "def plot_img_grid(images, nb_rows, nb_cols, figsize=(5, 5)):\n",
    "    fig, axs = plt.subplots(nb_rows, nb_cols, figsize=figsize)\n",
    "    \n",
    "    n = 0\n",
    "    for i in range(0, nb_rows):\n",
    "        for j in range(0, nb_cols):\n",
    "            axs[i, j].imshow(images[n], interpolation = 'nearest')\n",
    "            axs[i, j].axis('off')\n",
    "            n += 1       "
   ]
  },
  {
   "cell_type": "markdown",
   "id": "handy-slide",
   "metadata": {},
   "source": [
    "## Convert Image Path to OpenCV Image (24-bit Color Palette)"
   ]
  },
  {
   "cell_type": "code",
   "execution_count": 5,
   "id": "thick-plymouth",
   "metadata": {},
   "outputs": [],
   "source": [
    "def convert_img_path_to_cv_img(img_path_arr, threshold = 225, h = 100, w = 100):\n",
    "    img_arr = []\n",
    "    for img_path in img_path_arr:\n",
    "        img = cv2.imread(img_path)\n",
    "        img = cv2.resize(img, (w,h),interpolation = cv2.INTER_AREA)\n",
    "        img = remove_background(img, threshold)\n",
    "        img = cv2.cvtColor(img, cv2.COLOR_BGR2RGB)\n",
    "        img_arr.append(img)\n",
    "    return img_arr"
   ]
  },
  {
   "cell_type": "markdown",
   "id": "focused-diabetes",
   "metadata": {},
   "source": [
    "## Display First 300 Images (24-bit Color Palette)"
   ]
  },
  {
   "cell_type": "code",
   "execution_count": 6,
   "id": "changed-vulnerability",
   "metadata": {},
   "outputs": [],
   "source": [
    "def show_300(folder_path, threshold = 225, h = 100, w = 100):\n",
    "    folder_name = folder_path.split(\"\\\\\")[1]\n",
    "    all_images = glob(folder_path + \"*.jpg\")\n",
    "    all_images = all_images[0:300]\n",
    "    img_arr = convert_img_path_to_cv_img(all_images, threshold, h, w)\n",
    "    plot_img_grid(img_arr, 15, 15, (10,10))"
   ]
  },
  {
   "cell_type": "code",
   "execution_count": 7,
   "id": "powered-polymer",
   "metadata": {
    "scrolled": false
   },
   "outputs": [],
   "source": [
    "# for folder_path in glob('Dataset/*/'):\n",
    "#     show_300(folder_path, 225, 100, 100)"
   ]
  },
  {
   "cell_type": "code",
   "execution_count": 96,
   "id": "governmental-wings",
   "metadata": {},
   "outputs": [
    {
     "data": {
      "text/plain": [
       "array([  0.,  32.,  64.,  96., 128., 160., 192., 224., 256.])"
      ]
     },
     "execution_count": 96,
     "metadata": {},
     "output_type": "execute_result"
    }
   ],
   "source": [
    "np.linspace(0, 256, 9)"
   ]
  },
  {
   "cell_type": "markdown",
   "id": "alien-tennis",
   "metadata": {},
   "source": [
    "## Convert Val To RGB"
   ]
  },
  {
   "cell_type": "code",
   "execution_count": 9,
   "id": "essential-contribution",
   "metadata": {},
   "outputs": [],
   "source": [
    "# def convert_val_to_rgb(x):\n",
    "#     if x >= 0 and x < 64:\n",
    "#         return \"00\"\n",
    "#     elif x >= 64 and x < 128:\n",
    "#         return \"55\"\n",
    "#     elif x >= 128 and x < 192:\n",
    "#         return \"AA\"\n",
    "#     else:\n",
    "#         return \"FF\""
   ]
  },
  {
   "cell_type": "code",
   "execution_count": 33,
   "id": "based-lightweight",
   "metadata": {},
   "outputs": [],
   "source": [
    "# def convert_val_to_rgb(x):\n",
    "#     if x >= 0 and x < 42.5:\n",
    "#         return \"00\"\n",
    "#     elif x >= 42.5 and x < 85:\n",
    "#         return \"33\"\n",
    "#     elif x >= 85 and x < 127.5:\n",
    "#         return \"66\"\n",
    "#     elif x >= 127.5 and x < 170:\n",
    "#         return \"99\"\n",
    "#     elif x >= 170 and x < 212.5:\n",
    "#         return \"CC\"\n",
    "#     else:\n",
    "#         return \"FF\" "
   ]
  },
  {
   "cell_type": "code",
   "execution_count": 97,
   "id": "settled-stand",
   "metadata": {},
   "outputs": [],
   "source": [
    "def convert_val_to_rgb(x):\n",
    "    if x >= 0 and x < 32:\n",
    "        return \"00\"\n",
    "    elif x >= 32 and x < 64:\n",
    "        return \"24\"\n",
    "    elif x >= 64 and x < 96:\n",
    "        return \"40\"\n",
    "    elif x >= 96 and x < 128:\n",
    "        return \"60\"\n",
    "    elif x >= 128 and x < 160:\n",
    "        return \"80\"\n",
    "    elif x >= 160 and x < 192:\n",
    "        return \"A0\"\n",
    "    elif x >= 192 and x < 224:\n",
    "        return \"C0\"\n",
    "    else:\n",
    "        return \"FF\" "
   ]
  },
  {
   "cell_type": "markdown",
   "id": "stupid-notification",
   "metadata": {},
   "source": [
    "## Convert Val To Bin"
   ]
  },
  {
   "cell_type": "code",
   "execution_count": 98,
   "id": "silver-model",
   "metadata": {},
   "outputs": [],
   "source": [
    "# def convert_val_to_bin(x):\n",
    "#     if x >= 0 and x < 64:\n",
    "#         return 0\n",
    "#     elif x >= 64 and x < 128:\n",
    "#         return 64\n",
    "#     elif x >= 128 and x < 192:\n",
    "#         return 128\n",
    "#     else:\n",
    "#         return 255"
   ]
  },
  {
   "cell_type": "code",
   "execution_count": 99,
   "id": "premium-girlfriend",
   "metadata": {},
   "outputs": [],
   "source": [
    "# def convert_val_to_bin(x):\n",
    "#     if x >= 0 and x < 42.5:\n",
    "#         return 42\n",
    "#     elif x >= 42.5 and x < 85:\n",
    "#         return 84\n",
    "#     elif x >= 85 and x < 127.5:\n",
    "#         return 127\n",
    "#     elif x >= 127.5 and x < 170:\n",
    "#         return 169\n",
    "#     elif x >= 170 and x < 212.5:\n",
    "#         return 212\n",
    "#     else:\n",
    "#         return 255"
   ]
  },
  {
   "cell_type": "code",
   "execution_count": 101,
   "id": "assumed-objective",
   "metadata": {},
   "outputs": [],
   "source": [
    "def convert_val_to_bin(x):\n",
    "    if x >= 0 and x < 32:\n",
    "        return 31\n",
    "    elif x >= 32 and x < 64:\n",
    "        return 63\n",
    "    elif x >= 64 and x < 96:\n",
    "        return 95\n",
    "    elif x >= 96 and x < 128:\n",
    "        return 127\n",
    "    elif x >= 128 and x < 160:\n",
    "        return 159\n",
    "    elif x >= 160 and x < 192:\n",
    "        return 191\n",
    "    elif x >= 192 and x < 224:\n",
    "        return 223\n",
    "    else:\n",
    "        return 255"
   ]
  },
  {
   "cell_type": "markdown",
   "id": "logical-coupon",
   "metadata": {},
   "source": [
    "## Pipeline 1-D"
   ]
  },
  {
   "cell_type": "code",
   "execution_count": 2,
   "id": "incomplete-reporter",
   "metadata": {},
   "outputs": [],
   "source": [
    "def pipeline_1d(img_path, convert_func, alpha = 1.5, beta = 0, threshold = 225, h = 100, w = 100):\n",
    "    cv_img = cv2.imread(img_path)\n",
    "    cv_img = cv2.resize(cv_img, (w,h),interpolation = cv2.INTER_AREA)\n",
    "    cv_img = remove_background(cv_img, threshold)\n",
    "    cv_img = cv2.cvtColor(cv_img, cv2.COLOR_BGR2RGB)\n",
    "    img_arr = np.array(cv_img)\n",
    "    img_flatten = img_arr.reshape(1, -1).T\n",
    "    img_squeeze = np.squeeze(img_flatten)\n",
    "    img_convert = np.vectorize(convert_func)(img_squeeze)\n",
    "    return img_convert"
   ]
  },
  {
   "cell_type": "markdown",
   "id": "driving-medication",
   "metadata": {},
   "source": [
    "## Convert Image Path to OpenCV Image (6-bit Color Palette)"
   ]
  },
  {
   "cell_type": "code",
   "execution_count": 71,
   "id": "considered-steps",
   "metadata": {},
   "outputs": [],
   "source": [
    "def convert_img_path_to_new_cv_img(img_path_arr, threshold = 225, h = 100, w = 100):\n",
    "    img_arr = []\n",
    "    for img_path in img_path_arr:\n",
    "        new_img = pipeline_1d(img_path, convert_val_to_bin,threshold, h, w)\n",
    "        new_img = new_img.reshape(h, w, 3)\n",
    "        img_arr.append(new_img)\n",
    "    return img_arr"
   ]
  },
  {
   "cell_type": "markdown",
   "id": "joint-average",
   "metadata": {},
   "source": [
    "## Display First 300 Images (6-bit Color Palette)"
   ]
  },
  {
   "cell_type": "code",
   "execution_count": 72,
   "id": "involved-consistency",
   "metadata": {},
   "outputs": [],
   "source": [
    "def show_300_new(folder_path, threshold = 225, h = 100, w = 100):\n",
    "    folder_name = folder_path.split(\"\\\\\")[1]\n",
    "    all_images = glob(folder_path + \"*.jpg\")\n",
    "    all_images = all_images[0:300]\n",
    "    img_arr = convert_img_path_to_new_cv_img(all_images, threshold, h, w)\n",
    "    plot_img_grid(img_arr, 15, 15, (10, 10))"
   ]
  },
  {
   "cell_type": "code",
   "execution_count": 73,
   "id": "characteristic-august",
   "metadata": {
    "scrolled": false
   },
   "outputs": [],
   "source": [
    "# for folder_path in glob('Dataset/*/'):\n",
    "#     show_300_new(folder_path, 225, 32, 32)"
   ]
  },
  {
   "cell_type": "markdown",
   "id": "legal-alexandria",
   "metadata": {},
   "source": [
    "## Pipeline Color"
   ]
  },
  {
   "cell_type": "code",
   "execution_count": 74,
   "id": "twelve-mason",
   "metadata": {},
   "outputs": [],
   "source": [
    "def pipeline_color(cv_img):\n",
    "    img_arr = np.array(cv_img)\n",
    "    img_flatten = img_arr.reshape(1, -1).T\n",
    "    img_squeeze = np.squeeze(img_flatten)\n",
    "    img_convert = np.vectorize(convert_val_to_rgb)(img_squeeze)\n",
    "    img_2d_arr = img_convert.reshape(-1, 3)\n",
    "    img_list_arr = img_2d_arr.tolist()\n",
    "    convert_to_str = lambda x:\"#\"+\"\".join(list(map(str, x)))\n",
    "    img_str_arr = [convert_to_str(x) for x in img_list_arr]\n",
    "    new_arr = np.array(img_str_arr)\n",
    "    tmp_dict = {a:b for (a,b) in zip(np.unique(new_arr, return_counts=True)[0], np.unique(new_arr, return_counts=True)[1])}\n",
    "    return tmp_dict"
   ]
  },
  {
   "cell_type": "markdown",
   "id": "educational-custody",
   "metadata": {},
   "source": [
    "## Pipeline Texture"
   ]
  },
  {
   "cell_type": "code",
   "execution_count": 75,
   "id": "extended-fever",
   "metadata": {},
   "outputs": [],
   "source": [
    "def pipeline_texture(img_gray):\n",
    "    tmp_dict = {}\n",
    "    tmp_dict[\"Mean\"] = np.mean(img_gray)\n",
    "    tmp_dict[\"Variance\"] = np.var(img_gray)\n",
    "    tmp_dict[\"Entropy\"] = skimage.measure.shannon_entropy(img_gray)\n",
    "    glcm = greycomatrix(img_gray, [2], [0], 256, symmetric = True, normed = True)\n",
    "    tmp_dict[\"Contrast\"] = greycoprops(glcm, prop=\"contrast\").item()\n",
    "    tmp_dict[\"Homogeneity\"] = greycoprops(glcm, prop=\"homogeneity\").item()\n",
    "    tmp_dict[\"Correlation\"] = greycoprops(glcm, prop=\"correlation\").item()\n",
    "    tmp_dict[\"Energy\"] = greycoprops(glcm, prop=\"energy\").item()\n",
    "    return tmp_dict"
   ]
  },
  {
   "cell_type": "markdown",
   "id": "exceptional-auction",
   "metadata": {},
   "source": [
    "## Pipeline Shape"
   ]
  },
  {
   "cell_type": "code",
   "execution_count": 76,
   "id": "piano-watch",
   "metadata": {},
   "outputs": [],
   "source": [
    "def pipeline_shape(img_gray):\n",
    "    # Apply Gaussian Blur to Image\n",
    "    img_blur = cv2.GaussianBlur(img_gray, (7,7), 1)\n",
    "\n",
    "    # Canny Edge Detection\n",
    "    img_canny = cv2.Canny(img_blur, 50, 150)\n",
    "\n",
    "    # Edge Detector\n",
    "    kernel = np.ones((5, 5), dtype = np.uint8)\n",
    "    img_dilate = cv2.dilate(img_canny, kernel, iterations = 2)\n",
    "\n",
    "    contours, hier = cv2.findContours(img_dilate, cv2.RETR_EXTERNAL, cv2.CHAIN_APPROX_SIMPLE)\n",
    "    area, peri = 0, 0\n",
    "    for cnt in contours:\n",
    "        area = cv2.contourArea(cnt)\n",
    "        peri = cv2.arcLength(cnt, True)\n",
    "    tmp_dict = {}\n",
    "    tmp_dict[\"Area\"] = area\n",
    "    tmp_dict[\"Perimeter\"] = peri\n",
    "    return tmp_dict"
   ]
  },
  {
   "cell_type": "markdown",
   "id": "embedded-tunnel",
   "metadata": {},
   "source": [
    "## Pipeline Final"
   ]
  },
  {
   "cell_type": "code",
   "execution_count": 77,
   "id": "essential-revelation",
   "metadata": {},
   "outputs": [],
   "source": [
    "def pipeline_final(img_path,threshold = 225, w = 100, h = 100):\n",
    "    final_dict = {}\n",
    "    \n",
    "    cv_img = cv2.imread(img_path)\n",
    "    \n",
    "    # Resize Image\n",
    "    cv_img = cv2.resize(cv_img, (w,h),interpolation = cv2.INTER_AREA)\n",
    "    \n",
    "    # Remove White Background\n",
    "    cv_img = remove_background(cv_img, threshold)\n",
    "    \n",
    "    # Convert Image from RGB to BGR\n",
    "    cv_img = cv2.cvtColor(cv_img, cv2.COLOR_BGR2RGB)\n",
    "    \n",
    "    # Get Color Features\n",
    "    color_feature_dict = pipeline_color(cv_img)\n",
    "    final_dict.update(color_feature_dict)\n",
    "    \n",
    "    # Convert Image to Gray Image\n",
    "    img_gray = cv2.cvtColor(cv_img, cv2.COLOR_RGB2GRAY)\n",
    "\n",
    "    # Get Texture Features\n",
    "    texture_feature_dict = pipeline_texture(img_gray)\n",
    "    final_dict.update(texture_feature_dict)\n",
    "\n",
    "    # Get Shape Features\n",
    "    shape_feature_dict = pipeline_shape(img_gray)\n",
    "    final_dict.update(shape_feature_dict)\n",
    "    \n",
    "    return final_dict"
   ]
  },
  {
   "cell_type": "code",
   "execution_count": 105,
   "id": "blessed-westminster",
   "metadata": {},
   "outputs": [],
   "source": [
    "img_path = \"Dataset\\\\Orange\\\\0_100.jpg\""
   ]
  },
  {
   "cell_type": "markdown",
   "id": "indonesian-ordinance",
   "metadata": {},
   "source": [
    "## Individual Normal Image"
   ]
  },
  {
   "cell_type": "code",
   "execution_count": 106,
   "id": "first-breakdown",
   "metadata": {},
   "outputs": [
    {
     "name": "stdout",
     "output_type": "stream",
     "text": [
      "16777216\n"
     ]
    }
   ],
   "source": [
    "print(256 ** 3)"
   ]
  },
  {
   "cell_type": "code",
   "execution_count": 107,
   "id": "aggregate-tyler",
   "metadata": {},
   "outputs": [
    {
     "data": {
      "image/png": "[encoded data removed]",
      "text/plain": [
       "<Figure size 432x288 with 1 Axes>"
      ]
     },
     "metadata": {
      "needs_background": "light"
     },
     "output_type": "display_data"
    }
   ],
   "source": [
    "img = cv2.imread(img_path)\n",
    "img = remove_background(img, 225)\n",
    "img = cv2.cvtColor(img, cv2.COLOR_BGR2RGB)\n",
    "display(img)"
   ]
  },
  {
   "cell_type": "markdown",
   "id": "behind-shopping",
   "metadata": {},
   "source": [
    "## Preprocessed Image"
   ]
  },
  {
   "cell_type": "code",
   "execution_count": 108,
   "id": "recent-headline",
   "metadata": {},
   "outputs": [
    {
     "name": "stdout",
     "output_type": "stream",
     "text": [
      "64\n"
     ]
    }
   ],
   "source": [
    "print(4**3)"
   ]
  },
  {
   "cell_type": "code",
   "execution_count": 109,
   "id": "logical-circular",
   "metadata": {},
   "outputs": [
    {
     "data": {
      "image/png": "[encoded data removed]",
      "text/plain": [
       "<Figure size 432x288 with 1 Axes>"
      ]
     },
     "metadata": {
      "needs_background": "light"
     },
     "output_type": "display_data"
    }
   ],
   "source": [
    "img = pipeline_1d(img_path, convert_val_to_bin, alpha = 1.0, beta = 40)\n",
    "img = img.reshape((100, 100, 3))\n",
    "display(img)"
   ]
  },
  {
   "cell_type": "code",
   "execution_count": 39,
   "id": "stylish-consequence",
   "metadata": {},
   "outputs": [
    {
     "data": {
      "text/plain": [
       "{'#000000': 2336,\n",
       " '#330000': 768,\n",
       " '#333300': 16,\n",
       " '#333333': 41,\n",
       " '#660000': 799,\n",
       " '#663300': 189,\n",
       " '#663333': 23,\n",
       " '#666633': 12,\n",
       " '#666666': 28,\n",
       " '#990000': 8,\n",
       " '#993300': 1723,\n",
       " '#993333': 2,\n",
       " '#996600': 77,\n",
       " '#996633': 91,\n",
       " '#996666': 24,\n",
       " '#999966': 25,\n",
       " '#999999': 35,\n",
       " '#CC3300': 304,\n",
       " '#CC6600': 2799,\n",
       " '#CC6633': 93,\n",
       " '#CC9900': 9,\n",
       " '#CC9933': 32,\n",
       " '#CC9966': 36,\n",
       " '#CC9999': 31,\n",
       " '#CCCC99': 20,\n",
       " '#CCCCCC': 27,\n",
       " '#FF6600': 98,\n",
       " '#FF6633': 15,\n",
       " '#FF9900': 55,\n",
       " '#FF9933': 222,\n",
       " '#FF9966': 25,\n",
       " '#FFCC99': 5,\n",
       " '#FFCCCC': 17,\n",
       " '#FFFFCC': 9,\n",
       " '#FFFFFF': 6,\n",
       " 'Mean': 73.7538,\n",
       " 'Variance': 2682.4851855600004,\n",
       " 'Entropy': 6.229054497496583,\n",
       " 'Contrast': 858.0138775510201,\n",
       " 'Homogeneity': 0.34757277758614313,\n",
       " 'Correlation': 0.8371938415296345,\n",
       " 'Energy': 0.20225702202173604,\n",
       " 'Area': 756.5,\n",
       " 'Perimeter': 311.8650048971176}"
      ]
     },
     "execution_count": 39,
     "metadata": {},
     "output_type": "execute_result"
    }
   ],
   "source": [
    "pipeline_final(img_path)"
   ]
  },
  {
   "cell_type": "code",
   "execution_count": null,
   "id": "buried-description",
   "metadata": {},
   "outputs": [],
   "source": []
  }
 ],
 "metadata": {
  "kernelspec": {
   "display_name": "Python 3",
   "language": "python",
   "name": "python3"
  },
  "language_info": {
   "codemirror_mode": {
    "name": "ipython",
    "version": 3
   },
   "file_extension": ".py",
   "mimetype": "text/x-python",
   "name": "python",
   "nbconvert_exporter": "python",
   "pygments_lexer": "ipython3",
   "version": "3.9.1"
  }
 },
 "nbformat": 4,
 "nbformat_minor": 5
}
