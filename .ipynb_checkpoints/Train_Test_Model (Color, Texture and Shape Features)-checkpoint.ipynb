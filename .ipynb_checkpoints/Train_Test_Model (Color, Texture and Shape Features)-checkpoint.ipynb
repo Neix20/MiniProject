{
 "cells": [
  {
   "cell_type": "markdown",
   "id": "valued-hughes",
   "metadata": {},
   "source": [
    "## Load Libraries"
   ]
  },
  {
   "cell_type": "code",
   "execution_count": 1,
   "id": "comic-guinea",
   "metadata": {},
   "outputs": [],
   "source": [
    "import cv2\n",
    "import math\n",
    "import pickle\n",
    "import numpy as np\n",
    "import pandas as pd\n",
    "import seaborn as sns\n",
    "import skimage.measure\n",
    "import matplotlib.pyplot as plt\n",
    "\n",
    "from glob import glob\n",
    "from sklearn import svm\n",
    "from sklearn.multiclass import OneVsRestClassifier\n",
    "from sklearn.neighbors import KNeighborsClassifier\n",
    "from sklearn.ensemble import RandomForestClassifier\n",
    "from skimage.feature import greycomatrix, greycoprops\n",
    "from sklearn.preprocessing import StandardScaler, label_binarize\n",
    "from sklearn.model_selection import train_test_split, cross_val_score, KFold\n",
    "from sklearn.metrics import classification_report, confusion_matrix, precision_recall_curve, roc_curve\n",
    "%matplotlib inline"
   ]
  },
  {
   "cell_type": "markdown",
   "id": "mysterious-secretary",
   "metadata": {},
   "source": [
    "## Load Dataset"
   ]
  },
  {
   "cell_type": "code",
   "execution_count": 2,
   "id": "rental-balance",
   "metadata": {},
   "outputs": [],
   "source": [
    "df = pd.read_csv(\"Image_Dataset_Color_Texture_Shape_Features.csv\")"
   ]
  },
  {
   "cell_type": "markdown",
   "id": "instructional-castle",
   "metadata": {},
   "source": [
    "## Display Image"
   ]
  },
  {
   "cell_type": "code",
   "execution_count": 3,
   "id": "capital-phoenix",
   "metadata": {},
   "outputs": [],
   "source": [
    "def display(img):\n",
    "    plt.imshow (img, interpolation = 'nearest')\n",
    "    _ = plt.axis(False)\n",
    "    print(\"Image Shape: \", img.shape)"
   ]
  },
  {
   "cell_type": "markdown",
   "id": "close-sunglasses",
   "metadata": {},
   "source": [
    "## Seperate the target and independant variables"
   ]
  },
  {
   "cell_type": "code",
   "execution_count": 4,
   "id": "impressive-psychiatry",
   "metadata": {},
   "outputs": [],
   "source": [
    "df_X = df.iloc[:, 0:-1]\n",
    "df_Y = df.iloc[:, -1]"
   ]
  },
  {
   "cell_type": "markdown",
   "id": "liquid-frederick",
   "metadata": {},
   "source": [
    "## Train Color Features"
   ]
  },
  {
   "cell_type": "code",
   "execution_count": 5,
   "id": "lasting-tamil",
   "metadata": {},
   "outputs": [
    {
     "data": {
      "text/html": [
       "<div>\n",
       "<style scoped>\n",
       "    .dataframe tbody tr th:only-of-type {\n",
       "        vertical-align: middle;\n",
       "    }\n",
       "\n",
       "    .dataframe tbody tr th {\n",
       "        vertical-align: top;\n",
       "    }\n",
       "\n",
       "    .dataframe thead th {\n",
       "        text-align: right;\n",
       "    }\n",
       "</style>\n",
       "<table border=\"1\" class=\"dataframe\">\n",
       "  <thead>\n",
       "    <tr style=\"text-align: right;\">\n",
       "      <th></th>\n",
       "      <th>#000000</th>\n",
       "      <th>#000055</th>\n",
       "      <th>#0000AA</th>\n",
       "      <th>#0000FF</th>\n",
       "      <th>#005500</th>\n",
       "      <th>#005555</th>\n",
       "      <th>#0055AA</th>\n",
       "      <th>#0055FF</th>\n",
       "      <th>#00AA00</th>\n",
       "      <th>#00AA55</th>\n",
       "      <th>...</th>\n",
       "      <th>#FF55AA</th>\n",
       "      <th>#FF55FF</th>\n",
       "      <th>#FFAA00</th>\n",
       "      <th>#FFAA55</th>\n",
       "      <th>#FFAAAA</th>\n",
       "      <th>#FFAAFF</th>\n",
       "      <th>#FFFF00</th>\n",
       "      <th>#FFFF55</th>\n",
       "      <th>#FFFFAA</th>\n",
       "      <th>#FFFFFF</th>\n",
       "    </tr>\n",
       "  </thead>\n",
       "  <tbody>\n",
       "    <tr>\n",
       "      <th>0</th>\n",
       "      <td>1243.0</td>\n",
       "      <td>0.0</td>\n",
       "      <td>0.0</td>\n",
       "      <td>0.0</td>\n",
       "      <td>0.0</td>\n",
       "      <td>0.0</td>\n",
       "      <td>0.0</td>\n",
       "      <td>0.0</td>\n",
       "      <td>0.0</td>\n",
       "      <td>0.0</td>\n",
       "      <td>...</td>\n",
       "      <td>0.0</td>\n",
       "      <td>0.0</td>\n",
       "      <td>0.0</td>\n",
       "      <td>0.0</td>\n",
       "      <td>5.0</td>\n",
       "      <td>0.0</td>\n",
       "      <td>0.0</td>\n",
       "      <td>0.0</td>\n",
       "      <td>0.0</td>\n",
       "      <td>0.0</td>\n",
       "    </tr>\n",
       "    <tr>\n",
       "      <th>1</th>\n",
       "      <td>1766.0</td>\n",
       "      <td>0.0</td>\n",
       "      <td>0.0</td>\n",
       "      <td>0.0</td>\n",
       "      <td>0.0</td>\n",
       "      <td>0.0</td>\n",
       "      <td>0.0</td>\n",
       "      <td>0.0</td>\n",
       "      <td>0.0</td>\n",
       "      <td>0.0</td>\n",
       "      <td>...</td>\n",
       "      <td>0.0</td>\n",
       "      <td>0.0</td>\n",
       "      <td>0.0</td>\n",
       "      <td>0.0</td>\n",
       "      <td>51.0</td>\n",
       "      <td>0.0</td>\n",
       "      <td>0.0</td>\n",
       "      <td>0.0</td>\n",
       "      <td>0.0</td>\n",
       "      <td>0.0</td>\n",
       "    </tr>\n",
       "    <tr>\n",
       "      <th>2</th>\n",
       "      <td>1207.0</td>\n",
       "      <td>0.0</td>\n",
       "      <td>0.0</td>\n",
       "      <td>0.0</td>\n",
       "      <td>0.0</td>\n",
       "      <td>0.0</td>\n",
       "      <td>0.0</td>\n",
       "      <td>0.0</td>\n",
       "      <td>0.0</td>\n",
       "      <td>0.0</td>\n",
       "      <td>...</td>\n",
       "      <td>0.0</td>\n",
       "      <td>0.0</td>\n",
       "      <td>0.0</td>\n",
       "      <td>0.0</td>\n",
       "      <td>0.0</td>\n",
       "      <td>0.0</td>\n",
       "      <td>0.0</td>\n",
       "      <td>0.0</td>\n",
       "      <td>0.0</td>\n",
       "      <td>0.0</td>\n",
       "    </tr>\n",
       "    <tr>\n",
       "      <th>3</th>\n",
       "      <td>2899.0</td>\n",
       "      <td>1.0</td>\n",
       "      <td>0.0</td>\n",
       "      <td>0.0</td>\n",
       "      <td>0.0</td>\n",
       "      <td>0.0</td>\n",
       "      <td>0.0</td>\n",
       "      <td>0.0</td>\n",
       "      <td>0.0</td>\n",
       "      <td>0.0</td>\n",
       "      <td>...</td>\n",
       "      <td>20.0</td>\n",
       "      <td>0.0</td>\n",
       "      <td>0.0</td>\n",
       "      <td>2.0</td>\n",
       "      <td>157.0</td>\n",
       "      <td>0.0</td>\n",
       "      <td>0.0</td>\n",
       "      <td>0.0</td>\n",
       "      <td>0.0</td>\n",
       "      <td>0.0</td>\n",
       "    </tr>\n",
       "    <tr>\n",
       "      <th>4</th>\n",
       "      <td>1247.0</td>\n",
       "      <td>0.0</td>\n",
       "      <td>0.0</td>\n",
       "      <td>0.0</td>\n",
       "      <td>49.0</td>\n",
       "      <td>0.0</td>\n",
       "      <td>0.0</td>\n",
       "      <td>0.0</td>\n",
       "      <td>0.0</td>\n",
       "      <td>0.0</td>\n",
       "      <td>...</td>\n",
       "      <td>0.0</td>\n",
       "      <td>0.0</td>\n",
       "      <td>0.0</td>\n",
       "      <td>0.0</td>\n",
       "      <td>0.0</td>\n",
       "      <td>0.0</td>\n",
       "      <td>0.0</td>\n",
       "      <td>0.0</td>\n",
       "      <td>0.0</td>\n",
       "      <td>0.0</td>\n",
       "    </tr>\n",
       "    <tr>\n",
       "      <th>...</th>\n",
       "      <td>...</td>\n",
       "      <td>...</td>\n",
       "      <td>...</td>\n",
       "      <td>...</td>\n",
       "      <td>...</td>\n",
       "      <td>...</td>\n",
       "      <td>...</td>\n",
       "      <td>...</td>\n",
       "      <td>...</td>\n",
       "      <td>...</td>\n",
       "      <td>...</td>\n",
       "      <td>...</td>\n",
       "      <td>...</td>\n",
       "      <td>...</td>\n",
       "      <td>...</td>\n",
       "      <td>...</td>\n",
       "      <td>...</td>\n",
       "      <td>...</td>\n",
       "      <td>...</td>\n",
       "      <td>...</td>\n",
       "      <td>...</td>\n",
       "    </tr>\n",
       "    <tr>\n",
       "      <th>2935</th>\n",
       "      <td>2099.0</td>\n",
       "      <td>0.0</td>\n",
       "      <td>0.0</td>\n",
       "      <td>0.0</td>\n",
       "      <td>0.0</td>\n",
       "      <td>0.0</td>\n",
       "      <td>0.0</td>\n",
       "      <td>0.0</td>\n",
       "      <td>0.0</td>\n",
       "      <td>0.0</td>\n",
       "      <td>...</td>\n",
       "      <td>0.0</td>\n",
       "      <td>0.0</td>\n",
       "      <td>0.0</td>\n",
       "      <td>0.0</td>\n",
       "      <td>3.0</td>\n",
       "      <td>0.0</td>\n",
       "      <td>0.0</td>\n",
       "      <td>0.0</td>\n",
       "      <td>0.0</td>\n",
       "      <td>0.0</td>\n",
       "    </tr>\n",
       "    <tr>\n",
       "      <th>2936</th>\n",
       "      <td>3541.0</td>\n",
       "      <td>0.0</td>\n",
       "      <td>0.0</td>\n",
       "      <td>0.0</td>\n",
       "      <td>0.0</td>\n",
       "      <td>0.0</td>\n",
       "      <td>0.0</td>\n",
       "      <td>0.0</td>\n",
       "      <td>0.0</td>\n",
       "      <td>0.0</td>\n",
       "      <td>...</td>\n",
       "      <td>0.0</td>\n",
       "      <td>0.0</td>\n",
       "      <td>0.0</td>\n",
       "      <td>0.0</td>\n",
       "      <td>53.0</td>\n",
       "      <td>0.0</td>\n",
       "      <td>0.0</td>\n",
       "      <td>0.0</td>\n",
       "      <td>0.0</td>\n",
       "      <td>0.0</td>\n",
       "    </tr>\n",
       "    <tr>\n",
       "      <th>2937</th>\n",
       "      <td>1221.0</td>\n",
       "      <td>1.0</td>\n",
       "      <td>0.0</td>\n",
       "      <td>0.0</td>\n",
       "      <td>0.0</td>\n",
       "      <td>0.0</td>\n",
       "      <td>0.0</td>\n",
       "      <td>0.0</td>\n",
       "      <td>0.0</td>\n",
       "      <td>0.0</td>\n",
       "      <td>...</td>\n",
       "      <td>7.0</td>\n",
       "      <td>0.0</td>\n",
       "      <td>0.0</td>\n",
       "      <td>9.0</td>\n",
       "      <td>254.0</td>\n",
       "      <td>0.0</td>\n",
       "      <td>0.0</td>\n",
       "      <td>0.0</td>\n",
       "      <td>0.0</td>\n",
       "      <td>0.0</td>\n",
       "    </tr>\n",
       "    <tr>\n",
       "      <th>2938</th>\n",
       "      <td>1258.0</td>\n",
       "      <td>0.0</td>\n",
       "      <td>0.0</td>\n",
       "      <td>0.0</td>\n",
       "      <td>0.0</td>\n",
       "      <td>0.0</td>\n",
       "      <td>0.0</td>\n",
       "      <td>0.0</td>\n",
       "      <td>0.0</td>\n",
       "      <td>0.0</td>\n",
       "      <td>...</td>\n",
       "      <td>0.0</td>\n",
       "      <td>0.0</td>\n",
       "      <td>0.0</td>\n",
       "      <td>0.0</td>\n",
       "      <td>1.0</td>\n",
       "      <td>0.0</td>\n",
       "      <td>0.0</td>\n",
       "      <td>0.0</td>\n",
       "      <td>0.0</td>\n",
       "      <td>0.0</td>\n",
       "    </tr>\n",
       "    <tr>\n",
       "      <th>2939</th>\n",
       "      <td>2860.0</td>\n",
       "      <td>0.0</td>\n",
       "      <td>0.0</td>\n",
       "      <td>0.0</td>\n",
       "      <td>0.0</td>\n",
       "      <td>0.0</td>\n",
       "      <td>0.0</td>\n",
       "      <td>0.0</td>\n",
       "      <td>0.0</td>\n",
       "      <td>0.0</td>\n",
       "      <td>...</td>\n",
       "      <td>2.0</td>\n",
       "      <td>0.0</td>\n",
       "      <td>0.0</td>\n",
       "      <td>0.0</td>\n",
       "      <td>46.0</td>\n",
       "      <td>0.0</td>\n",
       "      <td>0.0</td>\n",
       "      <td>0.0</td>\n",
       "      <td>0.0</td>\n",
       "      <td>0.0</td>\n",
       "    </tr>\n",
       "  </tbody>\n",
       "</table>\n",
       "<p>2940 rows × 64 columns</p>\n",
       "</div>"
      ],
      "text/plain": [
       "      #000000  #000055  #0000AA  #0000FF  #005500  #005555  #0055AA  #0055FF  \\\n",
       "0      1243.0      0.0      0.0      0.0      0.0      0.0      0.0      0.0   \n",
       "1      1766.0      0.0      0.0      0.0      0.0      0.0      0.0      0.0   \n",
       "2      1207.0      0.0      0.0      0.0      0.0      0.0      0.0      0.0   \n",
       "3      2899.0      1.0      0.0      0.0      0.0      0.0      0.0      0.0   \n",
       "4      1247.0      0.0      0.0      0.0     49.0      0.0      0.0      0.0   \n",
       "...       ...      ...      ...      ...      ...      ...      ...      ...   \n",
       "2935   2099.0      0.0      0.0      0.0      0.0      0.0      0.0      0.0   \n",
       "2936   3541.0      0.0      0.0      0.0      0.0      0.0      0.0      0.0   \n",
       "2937   1221.0      1.0      0.0      0.0      0.0      0.0      0.0      0.0   \n",
       "2938   1258.0      0.0      0.0      0.0      0.0      0.0      0.0      0.0   \n",
       "2939   2860.0      0.0      0.0      0.0      0.0      0.0      0.0      0.0   \n",
       "\n",
       "      #00AA00  #00AA55  ...  #FF55AA  #FF55FF  #FFAA00  #FFAA55  #FFAAAA  \\\n",
       "0         0.0      0.0  ...      0.0      0.0      0.0      0.0      5.0   \n",
       "1         0.0      0.0  ...      0.0      0.0      0.0      0.0     51.0   \n",
       "2         0.0      0.0  ...      0.0      0.0      0.0      0.0      0.0   \n",
       "3         0.0      0.0  ...     20.0      0.0      0.0      2.0    157.0   \n",
       "4         0.0      0.0  ...      0.0      0.0      0.0      0.0      0.0   \n",
       "...       ...      ...  ...      ...      ...      ...      ...      ...   \n",
       "2935      0.0      0.0  ...      0.0      0.0      0.0      0.0      3.0   \n",
       "2936      0.0      0.0  ...      0.0      0.0      0.0      0.0     53.0   \n",
       "2937      0.0      0.0  ...      7.0      0.0      0.0      9.0    254.0   \n",
       "2938      0.0      0.0  ...      0.0      0.0      0.0      0.0      1.0   \n",
       "2939      0.0      0.0  ...      2.0      0.0      0.0      0.0     46.0   \n",
       "\n",
       "      #FFAAFF  #FFFF00  #FFFF55  #FFFFAA  #FFFFFF  \n",
       "0         0.0      0.0      0.0      0.0      0.0  \n",
       "1         0.0      0.0      0.0      0.0      0.0  \n",
       "2         0.0      0.0      0.0      0.0      0.0  \n",
       "3         0.0      0.0      0.0      0.0      0.0  \n",
       "4         0.0      0.0      0.0      0.0      0.0  \n",
       "...       ...      ...      ...      ...      ...  \n",
       "2935      0.0      0.0      0.0      0.0      0.0  \n",
       "2936      0.0      0.0      0.0      0.0      0.0  \n",
       "2937      0.0      0.0      0.0      0.0      0.0  \n",
       "2938      0.0      0.0      0.0      0.0      0.0  \n",
       "2939      0.0      0.0      0.0      0.0      0.0  \n",
       "\n",
       "[2940 rows x 64 columns]"
      ]
     },
     "execution_count": 5,
     "metadata": {},
     "output_type": "execute_result"
    }
   ],
   "source": [
    "df_X = df.iloc[:, :64]\n",
    "df_X"
   ]
  },
  {
   "cell_type": "markdown",
   "id": "insured-albuquerque",
   "metadata": {},
   "source": [
    "## Train Texture Feature"
   ]
  },
  {
   "cell_type": "code",
   "execution_count": 6,
   "id": "cubic-orleans",
   "metadata": {},
   "outputs": [],
   "source": [
    "# df_X = df.iloc[:, 64:-10]\n",
    "# df_X"
   ]
  },
  {
   "cell_type": "markdown",
   "id": "useful-polish",
   "metadata": {},
   "source": [
    "## Train Shape Feature"
   ]
  },
  {
   "cell_type": "code",
   "execution_count": 7,
   "id": "utility-giving",
   "metadata": {
    "scrolled": true
   },
   "outputs": [],
   "source": [
    "# df_X = df.iloc[:, -10:-1]\n",
    "# df_X"
   ]
  },
  {
   "cell_type": "code",
   "execution_count": 8,
   "id": "stock-papua",
   "metadata": {},
   "outputs": [
    {
     "data": {
      "text/plain": [
       "(2940, 64)"
      ]
     },
     "execution_count": 8,
     "metadata": {},
     "output_type": "execute_result"
    }
   ],
   "source": [
    "df_X.shape"
   ]
  },
  {
   "cell_type": "markdown",
   "id": "rocky-substitute",
   "metadata": {},
   "source": [
    "## Stratified K-Fold Validation"
   ]
  },
  {
   "cell_type": "code",
   "execution_count": 9,
   "id": "handled-ethics",
   "metadata": {},
   "outputs": [],
   "source": [
    "# kf = KFold(n_splits=4)\n",
    "# kf.get_n_splits(df_X)\n",
    "\n",
    "# for train_index, test_index in kf.split(df_X):\n",
    "#     X_train, X_test = df_X.iloc[train_index], df_X.iloc[test_index]\n",
    "#     y_train, y_test = df_Y.iloc[train_index], df_Y.iloc[test_index]\n",
    "# print(len(X_train), len(X_test))"
   ]
  },
  {
   "cell_type": "markdown",
   "id": "dangerous-consolidation",
   "metadata": {},
   "source": [
    "## Train Test Split Model"
   ]
  },
  {
   "cell_type": "code",
   "execution_count": 10,
   "id": "complimentary-frame",
   "metadata": {},
   "outputs": [],
   "source": [
    "#Split the dataset\n",
    "X_train, X_test, y_train, y_test = train_test_split(df_X, df_Y, test_size=0.2, random_state=0)"
   ]
  },
  {
   "cell_type": "markdown",
   "id": "lined-auditor",
   "metadata": {},
   "source": [
    "## Train Random Forest Model"
   ]
  },
  {
   "cell_type": "code",
   "execution_count": 11,
   "id": "bigger-plaintiff",
   "metadata": {},
   "outputs": [
    {
     "data": {
      "text/plain": [
       "RandomForestClassifier()"
      ]
     },
     "execution_count": 11,
     "metadata": {},
     "output_type": "execute_result"
    }
   ],
   "source": [
    "rf_model = RandomForestClassifier(n_estimators=100)\n",
    "rf_model.fit(X_train,y_train)"
   ]
  },
  {
   "cell_type": "code",
   "execution_count": 12,
   "id": "arranged-overhead",
   "metadata": {},
   "outputs": [],
   "source": [
    "y_pred = rf_model.predict(X_test)"
   ]
  },
  {
   "cell_type": "markdown",
   "id": "pursuant-requirement",
   "metadata": {},
   "source": [
    "## Cross Validation Score"
   ]
  },
  {
   "cell_type": "code",
   "execution_count": 13,
   "id": "steady-narrow",
   "metadata": {},
   "outputs": [
    {
     "name": "stdout",
     "output_type": "stream",
     "text": [
      "[1.         1.         1.         0.99829932 1.        ]\n"
     ]
    }
   ],
   "source": [
    "from sklearn.model_selection import cross_val_score\n",
    "score = cross_val_score(rf_model, df_X, df_Y, cv=5)\n",
    "print(score)"
   ]
  },
  {
   "cell_type": "markdown",
   "id": "eight-meditation",
   "metadata": {},
   "source": [
    "## Accuracy of Model"
   ]
  },
  {
   "cell_type": "code",
   "execution_count": 14,
   "id": "separate-globe",
   "metadata": {},
   "outputs": [
    {
     "name": "stdout",
     "output_type": "stream",
     "text": [
      "588\n",
      "1.0\n"
     ]
    }
   ],
   "source": [
    "from sklearn.metrics import accuracy_score\n",
    "print(accuracy_score(y_test, y_pred, normalize=False))\n",
    "print(accuracy_score(y_test, y_pred))"
   ]
  },
  {
   "cell_type": "code",
   "execution_count": 15,
   "id": "polished-identification",
   "metadata": {},
   "outputs": [],
   "source": [
    "# count=0 \n",
    "# total = df_X.shape[0]\n",
    "# for i in range(total):\n",
    "#     check = model.predict([df_X.iloc[i]])\n",
    "#     if check[0] == df_Y.iloc[i] :\n",
    "#         count += 1\n",
    "# print(count)\n",
    "# print(\"Accuracy is \", count/total)"
   ]
  },
  {
   "cell_type": "markdown",
   "id": "checked-relevance",
   "metadata": {},
   "source": [
    "## Classification Report"
   ]
  },
  {
   "cell_type": "code",
   "execution_count": 16,
   "id": "mexican-prison",
   "metadata": {},
   "outputs": [
    {
     "data": {
      "text/html": [
       "<div>\n",
       "<style scoped>\n",
       "    .dataframe tbody tr th:only-of-type {\n",
       "        vertical-align: middle;\n",
       "    }\n",
       "\n",
       "    .dataframe tbody tr th {\n",
       "        vertical-align: top;\n",
       "    }\n",
       "\n",
       "    .dataframe thead th {\n",
       "        text-align: right;\n",
       "    }\n",
       "</style>\n",
       "<table border=\"1\" class=\"dataframe\">\n",
       "  <thead>\n",
       "    <tr style=\"text-align: right;\">\n",
       "      <th></th>\n",
       "      <th>precision</th>\n",
       "      <th>recall</th>\n",
       "      <th>f1-score</th>\n",
       "      <th>support</th>\n",
       "    </tr>\n",
       "  </thead>\n",
       "  <tbody>\n",
       "    <tr>\n",
       "      <th>Apple</th>\n",
       "      <td>1.0</td>\n",
       "      <td>1.0</td>\n",
       "      <td>1.0</td>\n",
       "      <td>86.0</td>\n",
       "    </tr>\n",
       "    <tr>\n",
       "      <th>Grape</th>\n",
       "      <td>1.0</td>\n",
       "      <td>1.0</td>\n",
       "      <td>1.0</td>\n",
       "      <td>104.0</td>\n",
       "    </tr>\n",
       "    <tr>\n",
       "      <th>Lemon</th>\n",
       "      <td>1.0</td>\n",
       "      <td>1.0</td>\n",
       "      <td>1.0</td>\n",
       "      <td>102.0</td>\n",
       "    </tr>\n",
       "    <tr>\n",
       "      <th>Limes</th>\n",
       "      <td>1.0</td>\n",
       "      <td>1.0</td>\n",
       "      <td>1.0</td>\n",
       "      <td>89.0</td>\n",
       "    </tr>\n",
       "    <tr>\n",
       "      <th>Lychee</th>\n",
       "      <td>1.0</td>\n",
       "      <td>1.0</td>\n",
       "      <td>1.0</td>\n",
       "      <td>107.0</td>\n",
       "    </tr>\n",
       "    <tr>\n",
       "      <th>Pear</th>\n",
       "      <td>1.0</td>\n",
       "      <td>1.0</td>\n",
       "      <td>1.0</td>\n",
       "      <td>100.0</td>\n",
       "    </tr>\n",
       "    <tr>\n",
       "      <th>accuracy</th>\n",
       "      <td>1.0</td>\n",
       "      <td>1.0</td>\n",
       "      <td>1.0</td>\n",
       "      <td>1.0</td>\n",
       "    </tr>\n",
       "    <tr>\n",
       "      <th>macro avg</th>\n",
       "      <td>1.0</td>\n",
       "      <td>1.0</td>\n",
       "      <td>1.0</td>\n",
       "      <td>588.0</td>\n",
       "    </tr>\n",
       "    <tr>\n",
       "      <th>weighted avg</th>\n",
       "      <td>1.0</td>\n",
       "      <td>1.0</td>\n",
       "      <td>1.0</td>\n",
       "      <td>588.0</td>\n",
       "    </tr>\n",
       "  </tbody>\n",
       "</table>\n",
       "</div>"
      ],
      "text/plain": [
       "              precision  recall  f1-score  support\n",
       "Apple               1.0     1.0       1.0     86.0\n",
       "Grape               1.0     1.0       1.0    104.0\n",
       "Lemon               1.0     1.0       1.0    102.0\n",
       "Limes               1.0     1.0       1.0     89.0\n",
       "Lychee              1.0     1.0       1.0    107.0\n",
       "Pear                1.0     1.0       1.0    100.0\n",
       "accuracy            1.0     1.0       1.0      1.0\n",
       "macro avg           1.0     1.0       1.0    588.0\n",
       "weighted avg        1.0     1.0       1.0    588.0"
      ]
     },
     "execution_count": 16,
     "metadata": {},
     "output_type": "execute_result"
    }
   ],
   "source": [
    "clf_report_1 = pd.DataFrame(classification_report(y_test, y_pred, output_dict = True)).T\n",
    "clf_report_1"
   ]
  },
  {
   "cell_type": "markdown",
   "id": "stock-carrier",
   "metadata": {},
   "source": [
    "## Confusion matrix"
   ]
  },
  {
   "cell_type": "code",
   "execution_count": 17,
   "id": "nuclear-efficiency",
   "metadata": {},
   "outputs": [
    {
     "data": {
      "image/png": "[encoded data removed]",
      "text/plain": [
       "<Figure size 864x864 with 2 Axes>"
      ]
     },
     "metadata": {
      "needs_background": "light"
     },
     "output_type": "display_data"
    }
   ],
   "source": [
    "from sklearn.metrics import confusion_matrix\n",
    "confusion_matrix_df = pd.DataFrame(confusion_matrix(y_test, y_pred), index = sorted(df_Y.unique()), columns = sorted(df_Y.unique()))\n",
    "fig = plt.figure(figsize=(12,12))\n",
    "\n",
    "sns.heatmap(confusion_matrix_df,annot=True, fmt='g',  cmap=\"YlGnBu_r\")\n",
    "plt.show()"
   ]
  },
  {
   "cell_type": "markdown",
   "id": "foster-thumb",
   "metadata": {},
   "source": [
    "## Feature Importance"
   ]
  },
  {
   "cell_type": "code",
   "execution_count": 18,
   "id": "uniform-nevada",
   "metadata": {},
   "outputs": [],
   "source": [
    "feats = {key:val for (key,val) in zip(df_X.columns, rf_model.feature_importances_)}"
   ]
  },
  {
   "cell_type": "code",
   "execution_count": 19,
   "id": "ambient-possibility",
   "metadata": {},
   "outputs": [],
   "source": [
    "importances = pd.DataFrame.from_dict(feats, orient='index').rename(columns={0: 'Gini-importance'})\n",
    "importances.sort_values(by='Gini-importance', inplace = True, ascending = False)\n",
    "importances = importances.iloc[:10]"
   ]
  },
  {
   "cell_type": "code",
   "execution_count": 20,
   "id": "german-lloyd",
   "metadata": {},
   "outputs": [
    {
     "data": {
      "text/plain": [
       "<AxesSubplot:>"
      ]
     },
     "execution_count": 20,
     "metadata": {},
     "output_type": "execute_result"
    },
    {
     "data": {
      "image/png": "[encoded data removed]",
      "text/plain": [
       "<Figure size 432x288 with 1 Axes>"
      ]
     },
     "metadata": {
      "needs_background": "light"
     },
     "output_type": "display_data"
    }
   ],
   "source": [
    "importances.plot(kind='barh')"
   ]
  },
  {
   "cell_type": "markdown",
   "id": "municipal-hindu",
   "metadata": {},
   "source": [
    "## Train Support Vector Machine"
   ]
  },
  {
   "cell_type": "code",
   "execution_count": 21,
   "id": "charming-angle",
   "metadata": {},
   "outputs": [
    {
     "data": {
      "text/plain": [
       "SVC(decision_function_shape='ovo')"
      ]
     },
     "execution_count": 21,
     "metadata": {},
     "output_type": "execute_result"
    }
   ],
   "source": [
    "svm_model = svm.SVC(decision_function_shape='ovo')\n",
    "svm_model.fit(X_train,y_train)"
   ]
  },
  {
   "cell_type": "code",
   "execution_count": 22,
   "id": "korean-coordinate",
   "metadata": {},
   "outputs": [],
   "source": [
    "y_pred = svm_model.predict(X_test)"
   ]
  },
  {
   "cell_type": "code",
   "execution_count": 23,
   "id": "practical-spine",
   "metadata": {},
   "outputs": [],
   "source": [
    "# count=0 \n",
    "# total = df_X.shape[0]\n",
    "# for i in range(total):\n",
    "#     check=svm_model.predict([df_X.iloc[i]])\n",
    "#     if check[0] == df_Y.iloc[i] :\n",
    "#         count += 1\n",
    "# print(count)\n",
    "# print(\"Accuracy is \", count/total)"
   ]
  },
  {
   "cell_type": "code",
   "execution_count": 24,
   "id": "induced-playback",
   "metadata": {},
   "outputs": [
    {
     "data": {
      "text/html": [
       "<div>\n",
       "<style scoped>\n",
       "    .dataframe tbody tr th:only-of-type {\n",
       "        vertical-align: middle;\n",
       "    }\n",
       "\n",
       "    .dataframe tbody tr th {\n",
       "        vertical-align: top;\n",
       "    }\n",
       "\n",
       "    .dataframe thead th {\n",
       "        text-align: right;\n",
       "    }\n",
       "</style>\n",
       "<table border=\"1\" class=\"dataframe\">\n",
       "  <thead>\n",
       "    <tr style=\"text-align: right;\">\n",
       "      <th></th>\n",
       "      <th>precision</th>\n",
       "      <th>recall</th>\n",
       "      <th>f1-score</th>\n",
       "      <th>support</th>\n",
       "    </tr>\n",
       "  </thead>\n",
       "  <tbody>\n",
       "    <tr>\n",
       "      <th>Apple</th>\n",
       "      <td>1.000000</td>\n",
       "      <td>0.941860</td>\n",
       "      <td>0.970060</td>\n",
       "      <td>86.000000</td>\n",
       "    </tr>\n",
       "    <tr>\n",
       "      <th>Grape</th>\n",
       "      <td>1.000000</td>\n",
       "      <td>1.000000</td>\n",
       "      <td>1.000000</td>\n",
       "      <td>104.000000</td>\n",
       "    </tr>\n",
       "    <tr>\n",
       "      <th>Lemon</th>\n",
       "      <td>1.000000</td>\n",
       "      <td>0.892157</td>\n",
       "      <td>0.943005</td>\n",
       "      <td>102.000000</td>\n",
       "    </tr>\n",
       "    <tr>\n",
       "      <th>Limes</th>\n",
       "      <td>1.000000</td>\n",
       "      <td>0.943820</td>\n",
       "      <td>0.971098</td>\n",
       "      <td>89.000000</td>\n",
       "    </tr>\n",
       "    <tr>\n",
       "      <th>Lychee</th>\n",
       "      <td>0.955357</td>\n",
       "      <td>1.000000</td>\n",
       "      <td>0.977169</td>\n",
       "      <td>107.000000</td>\n",
       "    </tr>\n",
       "    <tr>\n",
       "      <th>Pear</th>\n",
       "      <td>0.862069</td>\n",
       "      <td>1.000000</td>\n",
       "      <td>0.925926</td>\n",
       "      <td>100.000000</td>\n",
       "    </tr>\n",
       "    <tr>\n",
       "      <th>accuracy</th>\n",
       "      <td>0.964286</td>\n",
       "      <td>0.964286</td>\n",
       "      <td>0.964286</td>\n",
       "      <td>0.964286</td>\n",
       "    </tr>\n",
       "    <tr>\n",
       "      <th>macro avg</th>\n",
       "      <td>0.969571</td>\n",
       "      <td>0.962973</td>\n",
       "      <td>0.964543</td>\n",
       "      <td>588.000000</td>\n",
       "    </tr>\n",
       "    <tr>\n",
       "      <th>weighted avg</th>\n",
       "      <td>0.968419</td>\n",
       "      <td>0.964286</td>\n",
       "      <td>0.964607</td>\n",
       "      <td>588.000000</td>\n",
       "    </tr>\n",
       "  </tbody>\n",
       "</table>\n",
       "</div>"
      ],
      "text/plain": [
       "              precision    recall  f1-score     support\n",
       "Apple          1.000000  0.941860  0.970060   86.000000\n",
       "Grape          1.000000  1.000000  1.000000  104.000000\n",
       "Lemon          1.000000  0.892157  0.943005  102.000000\n",
       "Limes          1.000000  0.943820  0.971098   89.000000\n",
       "Lychee         0.955357  1.000000  0.977169  107.000000\n",
       "Pear           0.862069  1.000000  0.925926  100.000000\n",
       "accuracy       0.964286  0.964286  0.964286    0.964286\n",
       "macro avg      0.969571  0.962973  0.964543  588.000000\n",
       "weighted avg   0.968419  0.964286  0.964607  588.000000"
      ]
     },
     "execution_count": 24,
     "metadata": {},
     "output_type": "execute_result"
    }
   ],
   "source": [
    "clf_report_2 = pd.DataFrame(classification_report(y_test, y_pred, output_dict = True)).T\n",
    "clf_report_2"
   ]
  },
  {
   "cell_type": "code",
   "execution_count": 25,
   "id": "enabling-mitchell",
   "metadata": {},
   "outputs": [
    {
     "data": {
      "image/png": "[encoded data removed]",
      "text/plain": [
       "<Figure size 864x864 with 2 Axes>"
      ]
     },
     "metadata": {
      "needs_background": "light"
     },
     "output_type": "display_data"
    }
   ],
   "source": [
    "from sklearn.metrics import confusion_matrix\n",
    "confusion_matrix_df = pd.DataFrame(confusion_matrix(y_test, y_pred), index = sorted(df_Y.unique()), columns = sorted(df_Y.unique()))\n",
    "fig = plt.figure(figsize=(12,12))\n",
    "\n",
    "sns.heatmap(confusion_matrix_df,annot=True, fmt='g',  cmap=\"YlGnBu_r\")\n",
    "plt.show()"
   ]
  },
  {
   "cell_type": "code",
   "execution_count": 26,
   "id": "medical-psychology",
   "metadata": {},
   "outputs": [
    {
     "name": "stdout",
     "output_type": "stream",
     "text": [
      "Lychee Lychee\n"
     ]
    }
   ],
   "source": [
    "print(svm_model.predict([df_X.iloc[6]])[0], df_Y.iloc[6])"
   ]
  },
  {
   "cell_type": "markdown",
   "id": "solved-cutting",
   "metadata": {},
   "source": [
    "## Train K Nearest neighbor"
   ]
  },
  {
   "cell_type": "code",
   "execution_count": 27,
   "id": "handmade-vegetarian",
   "metadata": {},
   "outputs": [
    {
     "data": {
      "text/plain": [
       "KNeighborsClassifier(n_neighbors=3)"
      ]
     },
     "execution_count": 27,
     "metadata": {},
     "output_type": "execute_result"
    }
   ],
   "source": [
    "knn_model = KNeighborsClassifier(n_neighbors=3)\n",
    "knn_model.fit(X_train,y_train)"
   ]
  },
  {
   "cell_type": "code",
   "execution_count": 28,
   "id": "continental-circle",
   "metadata": {},
   "outputs": [],
   "source": [
    "y_pred = knn_model.predict(X_test)"
   ]
  },
  {
   "cell_type": "code",
   "execution_count": 29,
   "id": "caring-bandwidth",
   "metadata": {},
   "outputs": [],
   "source": [
    "# count=0 \n",
    "# total = df_X.shape[0]\n",
    "# for i in range(total):\n",
    "#     check=knn_model.predict([df_X.iloc[i]])\n",
    "#     if check[0] == df_Y.iloc[i] :\n",
    "#         count += 1\n",
    "# print(count)\n",
    "# print(\"Accuracy is \", count/total)"
   ]
  },
  {
   "cell_type": "code",
   "execution_count": 30,
   "id": "conditional-lighter",
   "metadata": {},
   "outputs": [
    {
     "data": {
      "text/html": [
       "<div>\n",
       "<style scoped>\n",
       "    .dataframe tbody tr th:only-of-type {\n",
       "        vertical-align: middle;\n",
       "    }\n",
       "\n",
       "    .dataframe tbody tr th {\n",
       "        vertical-align: top;\n",
       "    }\n",
       "\n",
       "    .dataframe thead th {\n",
       "        text-align: right;\n",
       "    }\n",
       "</style>\n",
       "<table border=\"1\" class=\"dataframe\">\n",
       "  <thead>\n",
       "    <tr style=\"text-align: right;\">\n",
       "      <th></th>\n",
       "      <th>precision</th>\n",
       "      <th>recall</th>\n",
       "      <th>f1-score</th>\n",
       "      <th>support</th>\n",
       "    </tr>\n",
       "  </thead>\n",
       "  <tbody>\n",
       "    <tr>\n",
       "      <th>Apple</th>\n",
       "      <td>1.000000</td>\n",
       "      <td>1.000000</td>\n",
       "      <td>1.000000</td>\n",
       "      <td>86.000000</td>\n",
       "    </tr>\n",
       "    <tr>\n",
       "      <th>Grape</th>\n",
       "      <td>1.000000</td>\n",
       "      <td>1.000000</td>\n",
       "      <td>1.000000</td>\n",
       "      <td>104.000000</td>\n",
       "    </tr>\n",
       "    <tr>\n",
       "      <th>Lemon</th>\n",
       "      <td>1.000000</td>\n",
       "      <td>1.000000</td>\n",
       "      <td>1.000000</td>\n",
       "      <td>102.000000</td>\n",
       "    </tr>\n",
       "    <tr>\n",
       "      <th>Limes</th>\n",
       "      <td>1.000000</td>\n",
       "      <td>0.988764</td>\n",
       "      <td>0.994350</td>\n",
       "      <td>89.000000</td>\n",
       "    </tr>\n",
       "    <tr>\n",
       "      <th>Lychee</th>\n",
       "      <td>1.000000</td>\n",
       "      <td>1.000000</td>\n",
       "      <td>1.000000</td>\n",
       "      <td>107.000000</td>\n",
       "    </tr>\n",
       "    <tr>\n",
       "      <th>Pear</th>\n",
       "      <td>0.990099</td>\n",
       "      <td>1.000000</td>\n",
       "      <td>0.995025</td>\n",
       "      <td>100.000000</td>\n",
       "    </tr>\n",
       "    <tr>\n",
       "      <th>accuracy</th>\n",
       "      <td>0.998299</td>\n",
       "      <td>0.998299</td>\n",
       "      <td>0.998299</td>\n",
       "      <td>0.998299</td>\n",
       "    </tr>\n",
       "    <tr>\n",
       "      <th>macro avg</th>\n",
       "      <td>0.998350</td>\n",
       "      <td>0.998127</td>\n",
       "      <td>0.998229</td>\n",
       "      <td>588.000000</td>\n",
       "    </tr>\n",
       "    <tr>\n",
       "      <th>weighted avg</th>\n",
       "      <td>0.998316</td>\n",
       "      <td>0.998299</td>\n",
       "      <td>0.998299</td>\n",
       "      <td>588.000000</td>\n",
       "    </tr>\n",
       "  </tbody>\n",
       "</table>\n",
       "</div>"
      ],
      "text/plain": [
       "              precision    recall  f1-score     support\n",
       "Apple          1.000000  1.000000  1.000000   86.000000\n",
       "Grape          1.000000  1.000000  1.000000  104.000000\n",
       "Lemon          1.000000  1.000000  1.000000  102.000000\n",
       "Limes          1.000000  0.988764  0.994350   89.000000\n",
       "Lychee         1.000000  1.000000  1.000000  107.000000\n",
       "Pear           0.990099  1.000000  0.995025  100.000000\n",
       "accuracy       0.998299  0.998299  0.998299    0.998299\n",
       "macro avg      0.998350  0.998127  0.998229  588.000000\n",
       "weighted avg   0.998316  0.998299  0.998299  588.000000"
      ]
     },
     "execution_count": 30,
     "metadata": {},
     "output_type": "execute_result"
    }
   ],
   "source": [
    "clf_report_3 = pd.DataFrame(classification_report(y_test, y_pred, output_dict = True)).T\n",
    "clf_report_3"
   ]
  },
  {
   "cell_type": "code",
   "execution_count": 31,
   "id": "unknown-hughes",
   "metadata": {
    "scrolled": false
   },
   "outputs": [
    {
     "data": {
      "image/png": "[encoded data removed]",
      "text/plain": [
       "<Figure size 864x864 with 2 Axes>"
      ]
     },
     "metadata": {
      "needs_background": "light"
     },
     "output_type": "display_data"
    }
   ],
   "source": [
    "from sklearn.metrics import confusion_matrix\n",
    "confusion_matrix_df = pd.DataFrame(confusion_matrix(y_test, y_pred), index = sorted(df_Y.unique()), columns = sorted(df_Y.unique()))\n",
    "fig = plt.figure(figsize=(12,12))\n",
    "\n",
    "sns.heatmap(confusion_matrix_df,annot=True, fmt='g',  cmap=\"YlGnBu_r\")\n",
    "plt.show()"
   ]
  },
  {
   "cell_type": "markdown",
   "id": "ceramic-television",
   "metadata": {},
   "source": [
    "## Precision, Recall, F1-Score"
   ]
  },
  {
   "cell_type": "code",
   "execution_count": 32,
   "id": "million-calibration",
   "metadata": {},
   "outputs": [],
   "source": [
    "def pfr_graph(df, x_label, y_label, title):\n",
    "    df.plot.bar()\n",
    "    plt.legend(bbox_to_anchor=(1, 1.05))\n",
    "    plt.xlabel(x_label)\n",
    "    plt.ylabel(y_label)\n",
    "    plt.title(title)\n",
    "    plt.show()"
   ]
  },
  {
   "cell_type": "code",
   "execution_count": 33,
   "id": "emerging-above",
   "metadata": {},
   "outputs": [],
   "source": [
    "def get_df_type(model_name, clf_report1, clf_report2, clf_report3, col_name):\n",
    "    df = pd.DataFrame()\n",
    "    df[model_name[0]] = clf_report1[col_name][:-3]\n",
    "    df[model_name[1]] = clf_report2[col_name][:-3]\n",
    "    df[model_name[2]] = clf_report3[col_name][:-3]\n",
    "    \n",
    "    # Replace NA value with 0\n",
    "    df.fillna(0, inplace=True)\n",
    "    return df"
   ]
  },
  {
   "cell_type": "markdown",
   "id": "solid-gibraltar",
   "metadata": {},
   "source": [
    "### Precision Graph"
   ]
  },
  {
   "cell_type": "code",
   "execution_count": 34,
   "id": "electrical-distributor",
   "metadata": {},
   "outputs": [
    {
     "data": {
      "image/png": "[encoded data removed]",
      "text/plain": [
       "<Figure size 432x288 with 1 Axes>"
      ]
     },
     "metadata": {
      "needs_background": "light"
     },
     "output_type": "display_data"
    }
   ],
   "source": [
    "model_name = [\"Random Forest\", \"K-Nearest Neighbor\", \"Support Vector Machine\"]\n",
    "df = get_df_type(model_name, clf_report_1, clf_report_3, clf_report_2, \"precision\")\n",
    "pfr_graph(df, \"Types of Fruit\", \"Score\", \"Precision Comparison\")"
   ]
  },
  {
   "cell_type": "markdown",
   "id": "legendary-experiment",
   "metadata": {},
   "source": [
    "### Recall Graph"
   ]
  },
  {
   "cell_type": "code",
   "execution_count": 35,
   "id": "second-delta",
   "metadata": {},
   "outputs": [
    {
     "data": {
      "image/png": "[encoded data removed]",
      "text/plain": [
       "<Figure size 432x288 with 1 Axes>"
      ]
     },
     "metadata": {
      "needs_background": "light"
     },
     "output_type": "display_data"
    }
   ],
   "source": [
    "model_name = [\"Random Forest\", \"K-Nearest Neighbor\", \"Support Vector Machine\"]\n",
    "df = get_df_type(model_name, clf_report_1, clf_report_3, clf_report_2, \"recall\")\n",
    "pfr_graph(df, \"Types of Fruit\", \"Score\", \"Recall Comparison\")"
   ]
  },
  {
   "cell_type": "markdown",
   "id": "electronic-burden",
   "metadata": {},
   "source": [
    "### F1-Score Graph"
   ]
  },
  {
   "cell_type": "code",
   "execution_count": 36,
   "id": "related-brass",
   "metadata": {},
   "outputs": [
    {
     "data": {
      "image/png": "[encoded data removed]",
      "text/plain": [
       "<Figure size 432x288 with 1 Axes>"
      ]
     },
     "metadata": {
      "needs_background": "light"
     },
     "output_type": "display_data"
    }
   ],
   "source": [
    "model_name = [\"Random Forest\", \"K-Nearest Neighbor\", \"Support Vector Machine\"]\n",
    "df = get_df_type(model_name, clf_report_1, clf_report_3, clf_report_2, \"f1-score\")\n",
    "pfr_graph(df, \"Types of Fruit\", \"Score\", \"F1-Score Comparison\")"
   ]
  },
  {
   "cell_type": "markdown",
   "id": "forward-excess",
   "metadata": {},
   "source": [
    "## Precision Recall Curve"
   ]
  },
  {
   "cell_type": "code",
   "execution_count": 37,
   "id": "moderate-commodity",
   "metadata": {},
   "outputs": [],
   "source": [
    "map_fruit_val_dict = {key:val for val, key in enumerate(sorted(df_Y.unique()))}\n",
    "def map_fruit_val(x):\n",
    "    arr = [0 for i in range(6)]\n",
    "    arr[map_fruit_val_dict[x]] = 1\n",
    "    return arr"
   ]
  },
  {
   "cell_type": "markdown",
   "id": "artificial-feedback",
   "metadata": {},
   "source": [
    "#### Make Y_test into 2d Array"
   ]
  },
  {
   "cell_type": "code",
   "execution_count": 38,
   "id": "competitive-briefs",
   "metadata": {},
   "outputs": [],
   "source": [
    "y_test_arr = [map_fruit_val(key) for key in y_test.to_list()]\n",
    "y_test_arr = np.array(y_test_arr)"
   ]
  },
  {
   "cell_type": "markdown",
   "id": "fatty-franklin",
   "metadata": {},
   "source": [
    "#### Make Y_Preds into 2d Array"
   ]
  },
  {
   "cell_type": "code",
   "execution_count": 39,
   "id": "known-glory",
   "metadata": {},
   "outputs": [],
   "source": [
    "y_pred = rf_model.predict(X_test)\n",
    "y_pred_arr = [map_fruit_val(key) for key in y_pred]\n",
    "y_pred_arr = np.array(y_pred_arr)"
   ]
  },
  {
   "cell_type": "markdown",
   "id": "white-paris",
   "metadata": {},
   "source": [
    "#### Plot Precision Recall Curve"
   ]
  },
  {
   "cell_type": "code",
   "execution_count": 40,
   "id": "german-artwork",
   "metadata": {},
   "outputs": [
    {
     "data": {
      "image/png": "[encoded data removed]",
      "text/plain": [
       "<Figure size 432x288 with 1 Axes>"
      ]
     },
     "metadata": {
      "needs_background": "light"
     },
     "output_type": "display_data"
    }
   ],
   "source": [
    "precision, recall = {}, {}\n",
    "for ind, val in enumerate(sorted(df_Y.unique())):\n",
    "    precision[ind], recall[ind], _ = precision_recall_curve(y_test_arr[:, ind], y_pred_arr[:, ind])\n",
    "    plt.plot(recall[ind], precision[ind], lw=2, label=f\"Random Forest - {val}\")\n",
    "    plt.plot(np.linspace(0, 1, 20), np.linspace(1, 0, 20), 'k--')\n",
    "    \n",
    "plt.xlabel(\"Recall\")\n",
    "plt.ylabel(\"Precision\")\n",
    "plt.legend(loc = \"best\")\n",
    "plt.title(\"Precision vs. Recall curve\")\n",
    "plt.show()"
   ]
  },
  {
   "cell_type": "markdown",
   "id": "damaged-brisbane",
   "metadata": {},
   "source": [
    "## ROC Curve"
   ]
  },
  {
   "cell_type": "code",
   "execution_count": 41,
   "id": "attempted-force",
   "metadata": {},
   "outputs": [
    {
     "data": {
      "image/png": "[encoded data removed]",
      "text/plain": [
       "<Figure size 432x288 with 1 Axes>"
      ]
     },
     "metadata": {
      "needs_background": "light"
     },
     "output_type": "display_data"
    }
   ],
   "source": [
    "fpr, tpr = {}, {}\n",
    "for ind, val in enumerate(sorted(df_Y.unique())):\n",
    "    fpr[ind], tpr[ind], _ = roc_curve(y_test_arr[:, ind],y_pred_arr[:, ind])\n",
    "    plt.plot(fpr[ind], tpr[ind], lw=2, label=f\"Random Forest - {val}\")\n",
    "    plt.plot([0,1], [0, 1], 'k--')\n",
    "    plt.axis([0, 1, 0, 1])\n",
    "    \n",
    "plt.xlabel(\"False positive rate\")\n",
    "plt.ylabel(\"True positive rate\")\n",
    "plt.legend(loc=\"best\")\n",
    "plt.title(\"ROC curve\")\n",
    "plt.show()"
   ]
  },
  {
   "cell_type": "markdown",
   "id": "military-ground",
   "metadata": {},
   "source": [
    "## Accuracy among the three model"
   ]
  },
  {
   "cell_type": "code",
   "execution_count": 42,
   "id": "devoted-rental",
   "metadata": {},
   "outputs": [],
   "source": [
    "def acc_graph(model_name_arr ,acc_score_arr, x_label, y_label, title):\n",
    "    acc_dict = {\n",
    "        model_name: acc_score for model_name, acc_score in zip(model_name_arr, acc_score_arr)\n",
    "    }\n",
    "    df = pd.Series(acc_dict)\n",
    "    fig, ax = plt.subplots(figsize=(12, 2))\n",
    "    for ind, val in enumerate(df):\n",
    "        ax.barh(ind, val, 0.5, label=df.index[ind])\n",
    "        ax.text(val,ind,f\"{val:.3f}%\")\n",
    "    plt.yticks(np.arange(len(df)),df.index)\n",
    "    plt.legend(bbox_to_anchor=(1, 1.05))\n",
    "    plt.xlabel(x_label)\n",
    "    plt.ylabel(y_label)\n",
    "    plt.title(title)\n",
    "    plt.show()"
   ]
  },
  {
   "cell_type": "code",
   "execution_count": 43,
   "id": "analyzed-northern",
   "metadata": {},
   "outputs": [
    {
     "data": {
      "image/png": "[encoded data removed]",
      "text/plain": [
       "<Figure size 864x144 with 1 Axes>"
      ]
     },
     "metadata": {
      "needs_background": "light"
     },
     "output_type": "display_data"
    }
   ],
   "source": [
    "acc_score_arr = [accuracy_score(y_test, model.predict(X_test)) * 100.0 for model in [rf_model, knn_model, svm_model]]\n",
    "model_name = [\"Random Forest\", \"K-Nearest Neighbor\", \"Support Vector Machine\"]\n",
    "acc_graph(model_name, acc_score_arr, \"Accuracy Score\", \"Types of Model\", \"Accuracy Score Comparison\")"
   ]
  },
  {
   "cell_type": "markdown",
   "id": "swiss-encoding",
   "metadata": {},
   "source": [
    "## Save Model"
   ]
  },
  {
   "cell_type": "code",
   "execution_count": 44,
   "id": "cardiovascular-platform",
   "metadata": {},
   "outputs": [],
   "source": [
    "model_path = \"Models\\\\\\\\\"\n",
    "model_arr = [rf_model, svm_model, knn_model]\n",
    "filename_arr = [\"random_forest\", \"svm\",\"knn\"]"
   ]
  },
  {
   "cell_type": "code",
   "execution_count": 45,
   "id": "piano-promotion",
   "metadata": {},
   "outputs": [],
   "source": [
    "for (model, filename) in zip(model_arr, filename_arr):\n",
    "    pickle.dump(model, open(f\"{model_path}{filename}_model.sav\", 'wb'))"
   ]
  }
 ],
 "metadata": {
  "kernelspec": {
   "display_name": "Python 3",
   "language": "python",
   "name": "python3"
  },
  "language_info": {
   "codemirror_mode": {
    "name": "ipython",
    "version": 3
   },
   "file_extension": ".py",
   "mimetype": "text/x-python",
   "name": "python",
   "nbconvert_exporter": "python",
   "pygments_lexer": "ipython3",
   "version": "3.9.1"
  }
 },
 "nbformat": 4,
 "nbformat_minor": 5
}
