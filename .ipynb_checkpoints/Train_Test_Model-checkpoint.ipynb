{
 "cells": [
  {
   "cell_type": "markdown",
   "id": "valued-hughes",
   "metadata": {},
   "source": [
    "## Load Libraries"
   ]
  },
  {
   "cell_type": "code",
   "execution_count": null,
   "id": "comic-guinea",
   "metadata": {},
   "outputs": [],
   "source": [
    "import numpy as np\n",
    "import pandas as pd\n",
    "import seaborn as sns\n",
    "import matplotlib.pyplot as plt\n",
    "from sklearn.preprocessing import StandardScaler\n",
    "from sklearn.ensemble import RandomForestClassifier  #Random Forest algorithm\n",
    "from sklearn.model_selection import train_test_split\n",
    "from sklearn.metrics import classification_report, confusion_matrix\n",
    "from sklearn.model_selection import cross_val_score\n",
    "import cv2\n",
    "from PIL import Image\n",
    "from skimage.feature import greycomatrix, greycoprops\n",
    "import skimage.measure\n",
    "%matplotlib inline"
   ]
  },
  {
   "cell_type": "markdown",
   "id": "mysterious-secretary",
   "metadata": {},
   "source": [
    "## Load Dataset"
   ]
  },
  {
   "cell_type": "code",
   "execution_count": 2,
   "id": "rental-balance",
   "metadata": {},
   "outputs": [],
   "source": [
    "df = pd.read_csv(\"Image_Dataset_Color_Texture_Shape_Features.csv\")"
   ]
  },
  {
   "cell_type": "code",
   "execution_count": 3,
   "id": "handy-singles",
   "metadata": {},
   "outputs": [
    {
     "data": {
      "text/html": [
       "<div>\n",
       "<style scoped>\n",
       "    .dataframe tbody tr th:only-of-type {\n",
       "        vertical-align: middle;\n",
       "    }\n",
       "\n",
       "    .dataframe tbody tr th {\n",
       "        vertical-align: top;\n",
       "    }\n",
       "\n",
       "    .dataframe thead th {\n",
       "        text-align: right;\n",
       "    }\n",
       "</style>\n",
       "<table border=\"1\" class=\"dataframe\">\n",
       "  <thead>\n",
       "    <tr style=\"text-align: right;\">\n",
       "      <th></th>\n",
       "      <th>#000000</th>\n",
       "      <th>#000055</th>\n",
       "      <th>#0000AA</th>\n",
       "      <th>#0000FF</th>\n",
       "      <th>#005500</th>\n",
       "      <th>#005555</th>\n",
       "      <th>#0055AA</th>\n",
       "      <th>#0055FF</th>\n",
       "      <th>#00AA00</th>\n",
       "      <th>#00AA55</th>\n",
       "      <th>...</th>\n",
       "      <th>Mean</th>\n",
       "      <th>Variance</th>\n",
       "      <th>Entropy</th>\n",
       "      <th>Contrast</th>\n",
       "      <th>Homogeneity</th>\n",
       "      <th>Correlation</th>\n",
       "      <th>Energy</th>\n",
       "      <th>Area</th>\n",
       "      <th>Perimeter</th>\n",
       "      <th>Label</th>\n",
       "    </tr>\n",
       "  </thead>\n",
       "  <tbody>\n",
       "    <tr>\n",
       "      <th>0</th>\n",
       "      <td>337.0</td>\n",
       "      <td>0.0</td>\n",
       "      <td>0.0</td>\n",
       "      <td>0.0</td>\n",
       "      <td>0.0</td>\n",
       "      <td>0.0</td>\n",
       "      <td>0.0</td>\n",
       "      <td>0.0</td>\n",
       "      <td>0.0</td>\n",
       "      <td>0.0</td>\n",
       "      <td>...</td>\n",
       "      <td>135.8482</td>\n",
       "      <td>6883.801757</td>\n",
       "      <td>5.966652</td>\n",
       "      <td>1037.911020</td>\n",
       "      <td>0.280843</td>\n",
       "      <td>0.922896</td>\n",
       "      <td>0.135988</td>\n",
       "      <td>1535.0</td>\n",
       "      <td>609.955406</td>\n",
       "      <td>Peach</td>\n",
       "    </tr>\n",
       "    <tr>\n",
       "      <th>1</th>\n",
       "      <td>991.0</td>\n",
       "      <td>0.0</td>\n",
       "      <td>0.0</td>\n",
       "      <td>0.0</td>\n",
       "      <td>0.0</td>\n",
       "      <td>0.0</td>\n",
       "      <td>0.0</td>\n",
       "      <td>0.0</td>\n",
       "      <td>0.0</td>\n",
       "      <td>0.0</td>\n",
       "      <td>...</td>\n",
       "      <td>121.6614</td>\n",
       "      <td>7254.226150</td>\n",
       "      <td>6.607241</td>\n",
       "      <td>778.040510</td>\n",
       "      <td>0.283018</td>\n",
       "      <td>0.945203</td>\n",
       "      <td>0.103034</td>\n",
       "      <td>1527.0</td>\n",
       "      <td>628.073156</td>\n",
       "      <td>Peach</td>\n",
       "    </tr>\n",
       "    <tr>\n",
       "      <th>2</th>\n",
       "      <td>34.0</td>\n",
       "      <td>0.0</td>\n",
       "      <td>0.0</td>\n",
       "      <td>0.0</td>\n",
       "      <td>0.0</td>\n",
       "      <td>0.0</td>\n",
       "      <td>0.0</td>\n",
       "      <td>0.0</td>\n",
       "      <td>0.0</td>\n",
       "      <td>0.0</td>\n",
       "      <td>...</td>\n",
       "      <td>225.7302</td>\n",
       "      <td>3252.917208</td>\n",
       "      <td>2.626399</td>\n",
       "      <td>171.812245</td>\n",
       "      <td>0.806640</td>\n",
       "      <td>0.973835</td>\n",
       "      <td>0.690993</td>\n",
       "      <td>2410.0</td>\n",
       "      <td>296.509666</td>\n",
       "      <td>Banana</td>\n",
       "    </tr>\n",
       "    <tr>\n",
       "      <th>3</th>\n",
       "      <td>395.0</td>\n",
       "      <td>0.0</td>\n",
       "      <td>0.0</td>\n",
       "      <td>0.0</td>\n",
       "      <td>1.0</td>\n",
       "      <td>18.0</td>\n",
       "      <td>0.0</td>\n",
       "      <td>0.0</td>\n",
       "      <td>0.0</td>\n",
       "      <td>0.0</td>\n",
       "      <td>...</td>\n",
       "      <td>133.8418</td>\n",
       "      <td>6448.376773</td>\n",
       "      <td>6.621332</td>\n",
       "      <td>1083.164184</td>\n",
       "      <td>0.243162</td>\n",
       "      <td>0.913719</td>\n",
       "      <td>0.096688</td>\n",
       "      <td>1407.0</td>\n",
       "      <td>578.558437</td>\n",
       "      <td>Apple</td>\n",
       "    </tr>\n",
       "    <tr>\n",
       "      <th>4</th>\n",
       "      <td>0.0</td>\n",
       "      <td>0.0</td>\n",
       "      <td>0.0</td>\n",
       "      <td>0.0</td>\n",
       "      <td>0.0</td>\n",
       "      <td>0.0</td>\n",
       "      <td>0.0</td>\n",
       "      <td>0.0</td>\n",
       "      <td>0.0</td>\n",
       "      <td>0.0</td>\n",
       "      <td>...</td>\n",
       "      <td>168.3473</td>\n",
       "      <td>2390.783083</td>\n",
       "      <td>5.962791</td>\n",
       "      <td>180.545000</td>\n",
       "      <td>0.409413</td>\n",
       "      <td>0.961159</td>\n",
       "      <td>0.101967</td>\n",
       "      <td>740.0</td>\n",
       "      <td>307.421355</td>\n",
       "      <td>Grape</td>\n",
       "    </tr>\n",
       "  </tbody>\n",
       "</table>\n",
       "<p>5 rows × 74 columns</p>\n",
       "</div>"
      ],
      "text/plain": [
       "   #000000  #000055  #0000AA  #0000FF  #005500  #005555  #0055AA  #0055FF  \\\n",
       "0    337.0      0.0      0.0      0.0      0.0      0.0      0.0      0.0   \n",
       "1    991.0      0.0      0.0      0.0      0.0      0.0      0.0      0.0   \n",
       "2     34.0      0.0      0.0      0.0      0.0      0.0      0.0      0.0   \n",
       "3    395.0      0.0      0.0      0.0      1.0     18.0      0.0      0.0   \n",
       "4      0.0      0.0      0.0      0.0      0.0      0.0      0.0      0.0   \n",
       "\n",
       "   #00AA00  #00AA55  ...      Mean     Variance   Entropy     Contrast  \\\n",
       "0      0.0      0.0  ...  135.8482  6883.801757  5.966652  1037.911020   \n",
       "1      0.0      0.0  ...  121.6614  7254.226150  6.607241   778.040510   \n",
       "2      0.0      0.0  ...  225.7302  3252.917208  2.626399   171.812245   \n",
       "3      0.0      0.0  ...  133.8418  6448.376773  6.621332  1083.164184   \n",
       "4      0.0      0.0  ...  168.3473  2390.783083  5.962791   180.545000   \n",
       "\n",
       "   Homogeneity  Correlation    Energy    Area   Perimeter   Label  \n",
       "0     0.280843     0.922896  0.135988  1535.0  609.955406   Peach  \n",
       "1     0.283018     0.945203  0.103034  1527.0  628.073156   Peach  \n",
       "2     0.806640     0.973835  0.690993  2410.0  296.509666  Banana  \n",
       "3     0.243162     0.913719  0.096688  1407.0  578.558437   Apple  \n",
       "4     0.409413     0.961159  0.101967   740.0  307.421355   Grape  \n",
       "\n",
       "[5 rows x 74 columns]"
      ]
     },
     "execution_count": 3,
     "metadata": {},
     "output_type": "execute_result"
    }
   ],
   "source": [
    "df.head()"
   ]
  },
  {
   "cell_type": "markdown",
   "id": "instructional-castle",
   "metadata": {},
   "source": [
    "## Display Image"
   ]
  },
  {
   "cell_type": "code",
   "execution_count": 4,
   "id": "capital-phoenix",
   "metadata": {},
   "outputs": [],
   "source": [
    "def display(img):\n",
    "    plt.imshow (img, interpolation = 'nearest')\n",
    "    _ = plt.axis(False)\n",
    "    print(\"Image Shape: \", img.shape)"
   ]
  },
  {
   "cell_type": "markdown",
   "id": "close-sunglasses",
   "metadata": {},
   "source": [
    "## Seperate the target and independant variables"
   ]
  },
  {
   "cell_type": "code",
   "execution_count": 5,
   "id": "impressive-psychiatry",
   "metadata": {},
   "outputs": [],
   "source": [
    "df_X = df.iloc[:, 0:-1]\n",
    "df_Y = df.iloc[:, -1]"
   ]
  },
  {
   "cell_type": "markdown",
   "id": "dangerous-consolidation",
   "metadata": {},
   "source": [
    "## Train Test Split Model"
   ]
  },
  {
   "cell_type": "code",
   "execution_count": 6,
   "id": "complimentary-frame",
   "metadata": {},
   "outputs": [],
   "source": [
    "#Split the dataset\n",
    "X_train, X_test, y_train, y_test = train_test_split(df_X, df_Y, test_size=0.2, random_state=0)"
   ]
  },
  {
   "cell_type": "markdown",
   "id": "lined-auditor",
   "metadata": {},
   "source": [
    "## Train Random Forest Model"
   ]
  },
  {
   "cell_type": "code",
   "execution_count": 34,
   "id": "bigger-plaintiff",
   "metadata": {},
   "outputs": [
    {
     "data": {
      "text/plain": [
       "RandomForestClassifier()"
      ]
     },
     "execution_count": 34,
     "metadata": {},
     "output_type": "execute_result"
    }
   ],
   "source": [
    "model = RandomForestClassifier(n_estimators=100)\n",
    "model.fit(X_train,y_train)"
   ]
  },
  {
   "cell_type": "code",
   "execution_count": 35,
   "id": "arranged-overhead",
   "metadata": {},
   "outputs": [],
   "source": [
    "y_pred = model.predict(X_train)"
   ]
  },
  {
   "cell_type": "markdown",
   "id": "pursuant-requirement",
   "metadata": {},
   "source": [
    "## Cross Validation Score"
   ]
  },
  {
   "cell_type": "code",
   "execution_count": 9,
   "id": "steady-narrow",
   "metadata": {},
   "outputs": [
    {
     "name": "stdout",
     "output_type": "stream",
     "text": [
      "[1. 1. 1. 1. 1.]\n"
     ]
    }
   ],
   "source": [
    "from sklearn.model_selection import cross_val_score\n",
    "score = cross_val_score(model, df_X, df_Y)\n",
    "print(score)"
   ]
  },
  {
   "cell_type": "markdown",
   "id": "eight-meditation",
   "metadata": {},
   "source": [
    "## Accuracy of Model"
   ]
  },
  {
   "cell_type": "code",
   "execution_count": 10,
   "id": "polished-identification",
   "metadata": {},
   "outputs": [
    {
     "name": "stdout",
     "output_type": "stream",
     "text": [
      "1.0\n"
     ]
    }
   ],
   "source": [
    "from sklearn.metrics import accuracy_score\n",
    "print(accuracy_score(y_train, y_pred))"
   ]
  },
  {
   "cell_type": "markdown",
   "id": "checked-relevance",
   "metadata": {},
   "source": [
    "## Classification Report"
   ]
  },
  {
   "cell_type": "code",
   "execution_count": 11,
   "id": "mexican-prison",
   "metadata": {},
   "outputs": [
    {
     "data": {
      "text/html": [
       "<div>\n",
       "<style scoped>\n",
       "    .dataframe tbody tr th:only-of-type {\n",
       "        vertical-align: middle;\n",
       "    }\n",
       "\n",
       "    .dataframe tbody tr th {\n",
       "        vertical-align: top;\n",
       "    }\n",
       "\n",
       "    .dataframe thead th {\n",
       "        text-align: right;\n",
       "    }\n",
       "</style>\n",
       "<table border=\"1\" class=\"dataframe\">\n",
       "  <thead>\n",
       "    <tr style=\"text-align: right;\">\n",
       "      <th></th>\n",
       "      <th>precision</th>\n",
       "      <th>recall</th>\n",
       "      <th>f1-score</th>\n",
       "      <th>support</th>\n",
       "    </tr>\n",
       "  </thead>\n",
       "  <tbody>\n",
       "    <tr>\n",
       "      <th>Apple</th>\n",
       "      <td>1.0</td>\n",
       "      <td>1.0</td>\n",
       "      <td>1.0</td>\n",
       "      <td>373.0</td>\n",
       "    </tr>\n",
       "    <tr>\n",
       "      <th>Banana</th>\n",
       "      <td>1.0</td>\n",
       "      <td>1.0</td>\n",
       "      <td>1.0</td>\n",
       "      <td>395.0</td>\n",
       "    </tr>\n",
       "    <tr>\n",
       "      <th>Grape</th>\n",
       "      <td>1.0</td>\n",
       "      <td>1.0</td>\n",
       "      <td>1.0</td>\n",
       "      <td>371.0</td>\n",
       "    </tr>\n",
       "    <tr>\n",
       "      <th>Limes</th>\n",
       "      <td>1.0</td>\n",
       "      <td>1.0</td>\n",
       "      <td>1.0</td>\n",
       "      <td>398.0</td>\n",
       "    </tr>\n",
       "    <tr>\n",
       "      <th>Mango</th>\n",
       "      <td>1.0</td>\n",
       "      <td>1.0</td>\n",
       "      <td>1.0</td>\n",
       "      <td>382.0</td>\n",
       "    </tr>\n",
       "    <tr>\n",
       "      <th>Orange</th>\n",
       "      <td>1.0</td>\n",
       "      <td>1.0</td>\n",
       "      <td>1.0</td>\n",
       "      <td>387.0</td>\n",
       "    </tr>\n",
       "    <tr>\n",
       "      <th>Peach</th>\n",
       "      <td>1.0</td>\n",
       "      <td>1.0</td>\n",
       "      <td>1.0</td>\n",
       "      <td>382.0</td>\n",
       "    </tr>\n",
       "    <tr>\n",
       "      <th>Pear</th>\n",
       "      <td>1.0</td>\n",
       "      <td>1.0</td>\n",
       "      <td>1.0</td>\n",
       "      <td>383.0</td>\n",
       "    </tr>\n",
       "    <tr>\n",
       "      <th>Strawberry</th>\n",
       "      <td>1.0</td>\n",
       "      <td>1.0</td>\n",
       "      <td>1.0</td>\n",
       "      <td>377.0</td>\n",
       "    </tr>\n",
       "    <tr>\n",
       "      <th>accuracy</th>\n",
       "      <td>1.0</td>\n",
       "      <td>1.0</td>\n",
       "      <td>1.0</td>\n",
       "      <td>1.0</td>\n",
       "    </tr>\n",
       "    <tr>\n",
       "      <th>macro avg</th>\n",
       "      <td>1.0</td>\n",
       "      <td>1.0</td>\n",
       "      <td>1.0</td>\n",
       "      <td>3448.0</td>\n",
       "    </tr>\n",
       "    <tr>\n",
       "      <th>weighted avg</th>\n",
       "      <td>1.0</td>\n",
       "      <td>1.0</td>\n",
       "      <td>1.0</td>\n",
       "      <td>3448.0</td>\n",
       "    </tr>\n",
       "  </tbody>\n",
       "</table>\n",
       "</div>"
      ],
      "text/plain": [
       "              precision  recall  f1-score  support\n",
       "Apple               1.0     1.0       1.0    373.0\n",
       "Banana              1.0     1.0       1.0    395.0\n",
       "Grape               1.0     1.0       1.0    371.0\n",
       "Limes               1.0     1.0       1.0    398.0\n",
       "Mango               1.0     1.0       1.0    382.0\n",
       "Orange              1.0     1.0       1.0    387.0\n",
       "Peach               1.0     1.0       1.0    382.0\n",
       "Pear                1.0     1.0       1.0    383.0\n",
       "Strawberry          1.0     1.0       1.0    377.0\n",
       "accuracy            1.0     1.0       1.0      1.0\n",
       "macro avg           1.0     1.0       1.0   3448.0\n",
       "weighted avg        1.0     1.0       1.0   3448.0"
      ]
     },
     "execution_count": 11,
     "metadata": {},
     "output_type": "execute_result"
    }
   ],
   "source": [
    "pd.DataFrame(classification_report(y_train, y_pred, output_dict = True)).T"
   ]
  },
  {
   "cell_type": "markdown",
   "id": "stock-carrier",
   "metadata": {},
   "source": [
    "## Confusion matrix"
   ]
  },
  {
   "cell_type": "code",
   "execution_count": 12,
   "id": "nuclear-efficiency",
   "metadata": {},
   "outputs": [
    {
     "data": {
      "image/png": "[encoded data removed]",
      "text/plain": [
       "<Figure size 864x864 with 2 Axes>"
      ]
     },
     "metadata": {
      "needs_background": "light"
     },
     "output_type": "display_data"
    }
   ],
   "source": [
    "from sklearn.metrics import confusion_matrix\n",
    "confusion_matrix_df = pd.DataFrame(confusion_matrix(y_train, y_pred), index = df_Y.unique(), columns = df_Y.unique())\n",
    "fig = plt.figure(figsize=(12,12))\n",
    "sns.heatmap(confusion_matrix_df,annot=True, fmt='g')\n",
    "plt.show()"
   ]
  },
  {
   "cell_type": "markdown",
   "id": "municipal-hindu",
   "metadata": {},
   "source": [
    "## Train Support Vector Machine"
   ]
  },
  {
   "cell_type": "code",
   "execution_count": 128,
   "id": "charming-angle",
   "metadata": {},
   "outputs": [
    {
     "data": {
      "text/plain": [
       "SVC(decision_function_shape='ovo')"
      ]
     },
     "execution_count": 128,
     "metadata": {},
     "output_type": "execute_result"
    }
   ],
   "source": [
    "from sklearn import svm\n",
    "model = svm.SVC(decision_function_shape='ovo')\n",
    "model.fit(X_train,y_train)"
   ]
  },
  {
   "cell_type": "code",
   "execution_count": 129,
   "id": "korean-coordinate",
   "metadata": {},
   "outputs": [],
   "source": [
    "y_pred = model.predict(X_test)"
   ]
  },
  {
   "cell_type": "code",
   "execution_count": 15,
   "id": "induced-playback",
   "metadata": {},
   "outputs": [
    {
     "data": {
      "text/html": [
       "<div>\n",
       "<style scoped>\n",
       "    .dataframe tbody tr th:only-of-type {\n",
       "        vertical-align: middle;\n",
       "    }\n",
       "\n",
       "    .dataframe tbody tr th {\n",
       "        vertical-align: top;\n",
       "    }\n",
       "\n",
       "    .dataframe thead th {\n",
       "        text-align: right;\n",
       "    }\n",
       "</style>\n",
       "<table border=\"1\" class=\"dataframe\">\n",
       "  <thead>\n",
       "    <tr style=\"text-align: right;\">\n",
       "      <th></th>\n",
       "      <th>precision</th>\n",
       "      <th>recall</th>\n",
       "      <th>f1-score</th>\n",
       "      <th>support</th>\n",
       "    </tr>\n",
       "  </thead>\n",
       "  <tbody>\n",
       "    <tr>\n",
       "      <th>Apple</th>\n",
       "      <td>0.963636</td>\n",
       "      <td>1.000000</td>\n",
       "      <td>0.981481</td>\n",
       "      <td>106.000000</td>\n",
       "    </tr>\n",
       "    <tr>\n",
       "      <th>Banana</th>\n",
       "      <td>1.000000</td>\n",
       "      <td>1.000000</td>\n",
       "      <td>1.000000</td>\n",
       "      <td>84.000000</td>\n",
       "    </tr>\n",
       "    <tr>\n",
       "      <th>Grape</th>\n",
       "      <td>1.000000</td>\n",
       "      <td>1.000000</td>\n",
       "      <td>1.000000</td>\n",
       "      <td>108.000000</td>\n",
       "    </tr>\n",
       "    <tr>\n",
       "      <th>Limes</th>\n",
       "      <td>1.000000</td>\n",
       "      <td>1.000000</td>\n",
       "      <td>1.000000</td>\n",
       "      <td>81.000000</td>\n",
       "    </tr>\n",
       "    <tr>\n",
       "      <th>Mango</th>\n",
       "      <td>1.000000</td>\n",
       "      <td>1.000000</td>\n",
       "      <td>1.000000</td>\n",
       "      <td>97.000000</td>\n",
       "    </tr>\n",
       "    <tr>\n",
       "      <th>Orange</th>\n",
       "      <td>0.978723</td>\n",
       "      <td>1.000000</td>\n",
       "      <td>0.989247</td>\n",
       "      <td>92.000000</td>\n",
       "    </tr>\n",
       "    <tr>\n",
       "      <th>Peach</th>\n",
       "      <td>1.000000</td>\n",
       "      <td>0.938144</td>\n",
       "      <td>0.968085</td>\n",
       "      <td>97.000000</td>\n",
       "    </tr>\n",
       "    <tr>\n",
       "      <th>Pear</th>\n",
       "      <td>1.000000</td>\n",
       "      <td>1.000000</td>\n",
       "      <td>1.000000</td>\n",
       "      <td>96.000000</td>\n",
       "    </tr>\n",
       "    <tr>\n",
       "      <th>Strawberry</th>\n",
       "      <td>1.000000</td>\n",
       "      <td>1.000000</td>\n",
       "      <td>1.000000</td>\n",
       "      <td>102.000000</td>\n",
       "    </tr>\n",
       "    <tr>\n",
       "      <th>accuracy</th>\n",
       "      <td>0.993048</td>\n",
       "      <td>0.993048</td>\n",
       "      <td>0.993048</td>\n",
       "      <td>0.993048</td>\n",
       "    </tr>\n",
       "    <tr>\n",
       "      <th>macro avg</th>\n",
       "      <td>0.993596</td>\n",
       "      <td>0.993127</td>\n",
       "      <td>0.993202</td>\n",
       "      <td>863.000000</td>\n",
       "    </tr>\n",
       "    <tr>\n",
       "      <th>weighted avg</th>\n",
       "      <td>0.993265</td>\n",
       "      <td>0.993048</td>\n",
       "      <td>0.992992</td>\n",
       "      <td>863.000000</td>\n",
       "    </tr>\n",
       "  </tbody>\n",
       "</table>\n",
       "</div>"
      ],
      "text/plain": [
       "              precision    recall  f1-score     support\n",
       "Apple          0.963636  1.000000  0.981481  106.000000\n",
       "Banana         1.000000  1.000000  1.000000   84.000000\n",
       "Grape          1.000000  1.000000  1.000000  108.000000\n",
       "Limes          1.000000  1.000000  1.000000   81.000000\n",
       "Mango          1.000000  1.000000  1.000000   97.000000\n",
       "Orange         0.978723  1.000000  0.989247   92.000000\n",
       "Peach          1.000000  0.938144  0.968085   97.000000\n",
       "Pear           1.000000  1.000000  1.000000   96.000000\n",
       "Strawberry     1.000000  1.000000  1.000000  102.000000\n",
       "accuracy       0.993048  0.993048  0.993048    0.993048\n",
       "macro avg      0.993596  0.993127  0.993202  863.000000\n",
       "weighted avg   0.993265  0.993048  0.992992  863.000000"
      ]
     },
     "execution_count": 15,
     "metadata": {},
     "output_type": "execute_result"
    }
   ],
   "source": [
    "pd.DataFrame(classification_report(y_test, y_pred, output_dict = True)).T"
   ]
  },
  {
   "cell_type": "code",
   "execution_count": 16,
   "id": "enabling-mitchell",
   "metadata": {},
   "outputs": [
    {
     "data": {
      "image/png": "[encoded data removed]",
      "text/plain": [
       "<Figure size 864x864 with 2 Axes>"
      ]
     },
     "metadata": {
      "needs_background": "light"
     },
     "output_type": "display_data"
    }
   ],
   "source": [
    "from sklearn.metrics import confusion_matrix\n",
    "confusion_matrix_df = pd.DataFrame(confusion_matrix(y_test, y_pred), index = df_Y.unique(), columns = df_Y.unique())\n",
    "fig = plt.figure(figsize=(12,12))\n",
    "sns.heatmap(confusion_matrix_df,annot=True, fmt='g')\n",
    "plt.show()"
   ]
  },
  {
   "cell_type": "code",
   "execution_count": 17,
   "id": "medical-psychology",
   "metadata": {},
   "outputs": [
    {
     "name": "stdout",
     "output_type": "stream",
     "text": [
      "Orange Orange\n"
     ]
    }
   ],
   "source": [
    "print(y_pred[6], y_train[6])"
   ]
  },
  {
   "cell_type": "markdown",
   "id": "hazardous-burlington",
   "metadata": {},
   "source": [
    "## Test Image"
   ]
  },
  {
   "cell_type": "code",
   "execution_count": 18,
   "id": "little-mainstream",
   "metadata": {},
   "outputs": [],
   "source": [
    "def convert_val_to_rgb(x):\n",
    "    if x >= 0 and x < 64:\n",
    "        return \"00\"\n",
    "    elif x >= 64 and x < 128:\n",
    "        return \"55\"\n",
    "    elif x >= 128 and x < 192:\n",
    "        return \"AA\"\n",
    "    else:\n",
    "        return \"FF\"\n",
    "    \n",
    "def convert_val_to_bin(x):\n",
    "    if x >= 0 and x < 64:\n",
    "        return 0\n",
    "    elif x >= 64 and x < 128:\n",
    "        return 85\n",
    "    elif x >= 128 and x < 192:\n",
    "        return 170\n",
    "    else:\n",
    "        return 255\n",
    "\n",
    "def pipeline_1d(img, convert_func, h = 64, w = 64):\n",
    "    img_resize = img.resize((h,w))\n",
    "    img_arr = np.array(img_resize)\n",
    "    img_flatten = img_arr.reshape(1, -1).T\n",
    "    img_squeeze = np.squeeze(img_flatten)\n",
    "    img_convert = np.vectorize(convert_func)(img_squeeze)\n",
    "    return img_convert\n",
    "\n",
    "def pipeline_color(img_arr):\n",
    "    img_2d_arr = img_arr.reshape(-1, 3)\n",
    "    img_list_arr = img_2d_arr.tolist()\n",
    "    convert_to_str = lambda x:\"#\"+\"\".join(list(map(str, x)))\n",
    "    img_str_arr = [convert_to_str(x) for x in img_list_arr]\n",
    "    new_arr = np.array(img_str_arr)\n",
    "    tmp_dict = {a:b for (a,b) in zip(np.unique(new_arr, return_counts=True)[0], np.unique(new_arr, return_counts=True)[1])}\n",
    "    return tmp_dict\n",
    "\n",
    "def pipeline_texture(img_gray):\n",
    "    tmp_dict = {}\n",
    "    tmp_dict[\"Mean\"] = np.mean(img_gray)\n",
    "    tmp_dict[\"Variance\"] = np.var(img_gray)\n",
    "    tmp_dict[\"Entropy\"] = skimage.measure.shannon_entropy(img_gray)\n",
    "    glcm = greycomatrix(img_gray, [2], [0], 256, symmetric = True, normed = True)\n",
    "    tmp_dict[\"Contrast\"] = greycoprops(glcm, prop=\"contrast\").item()\n",
    "    tmp_dict[\"Homogeneity\"] = greycoprops(glcm, prop=\"homogeneity\").item()\n",
    "    tmp_dict[\"Correlation\"] = greycoprops(glcm, prop=\"correlation\").item()\n",
    "    tmp_dict[\"Energy\"] = greycoprops(glcm, prop=\"energy\").item()\n",
    "    return tmp_dict\n",
    "\n",
    "def pipeline_shape(img_gray):\n",
    "    # Apply Gaussian Blur to Image\n",
    "    img_blur = cv2.GaussianBlur(img_gray, (7,7), 1)\n",
    "\n",
    "    # Canny Edge Detection\n",
    "    img_canny = cv2.Canny(img_blur, 50, 150)\n",
    "\n",
    "    # Edge Detector\n",
    "    kernel = np.ones((5, 5), dtype = np.uint8)\n",
    "    img_dilate = cv2.dilate(img_canny, kernel, iterations = 1)\n",
    "\n",
    "    contours, hier = cv2.findContours(img_dilate, cv2.RETR_EXTERNAL, cv2.CHAIN_APPROX_SIMPLE)\n",
    "    area, peri = 0, 0\n",
    "    for cnt in contours:\n",
    "        area = cv2.contourArea(cnt)\n",
    "        peri = cv2.arcLength(cnt, True)\n",
    "    tmp_dict = {}\n",
    "    tmp_dict[\"Area\"] = area\n",
    "    tmp_dict[\"Perimeter\"] = peri\n",
    "    return tmp_dict\n",
    "\n",
    "def pipeline_final(img_path, h = 100, w = 100):\n",
    "    final_dict = {}\n",
    "    \n",
    "    # Get Color Features\n",
    "    img = Image.open(img_path)\n",
    "    new_img = pipeline_1d(img, convert_val_to_rgb, h, w)\n",
    "    color_feature_dict = pipeline_color(new_img)\n",
    "    final_dict.update(color_feature_dict)\n",
    "    \n",
    "    cv_img = cv2.imread(img_path)\n",
    "\n",
    "    # Convert Image to Gray Image\n",
    "    img_gray = cv2.cvtColor(cv_img, cv2.COLOR_BGR2GRAY)\n",
    "\n",
    "    # Get Texture Features\n",
    "    texture_feature_dict = pipeline_texture(img_gray)\n",
    "    final_dict.update(texture_feature_dict)\n",
    "\n",
    "    # Get Shape Features\n",
    "    shape_feature_dict = pipeline_shape(img_gray)\n",
    "    final_dict.update(shape_feature_dict)\n",
    "    \n",
    "    return final_dict"
   ]
  },
  {
   "cell_type": "code",
   "execution_count": 142,
   "id": "former-spanish",
   "metadata": {},
   "outputs": [],
   "source": [
    "feature_arr = []\n",
    "\n",
    "color_feature_arr = []\n",
    "cc = [\"00\", \"55\", \"AA\", \"FF\"]\n",
    "for i in range(4):\n",
    "    for j in range(4):\n",
    "        for k in range(4):\n",
    "            color_feature_arr.append(f\"#{cc[i]}{cc[j]}{cc[k]}\")\n",
    "feature_arr += color_feature_arr\n",
    "\n",
    "texture_feature_arr = [\"Mean\", \"Variance\", \"Entropy\", \"Contrast\", \"Homogeneity\", \"Correlation\", \"Energy\"]\n",
    "feature_arr += texture_feature_arr\n",
    "\n",
    "shape_feature_arr = [\"Area\", \"Perimeter\"]\n",
    "feature_arr += shape_feature_arr\n",
    "\n",
    "final_df = pd.DataFrame(columns = feature_arr)"
   ]
  },
  {
   "cell_type": "code",
   "execution_count": 148,
   "id": "modular-scott",
   "metadata": {},
   "outputs": [
    {
     "data": {
      "text/plain": [
       "-1"
      ]
     },
     "execution_count": 148,
     "metadata": {},
     "output_type": "execute_result"
    }
   ],
   "source": [
    "img_path = \"Test_Images/mango.jpg\"\n",
    "img = cv2.imread(img_path)\n",
    "cv2.imshow(\"Images\", img)\n",
    "cv2.waitKey(0)"
   ]
  },
  {
   "cell_type": "code",
   "execution_count": 144,
   "id": "neither-victory",
   "metadata": {},
   "outputs": [],
   "source": [
    "final_dict = pipeline_final(img_path)\n",
    "final_df = final_df.append(final_dict, ignore_index = True)\n",
    "final_df.fillna(0, inplace=True)"
   ]
  },
  {
   "cell_type": "code",
   "execution_count": 145,
   "id": "honey-scientist",
   "metadata": {},
   "outputs": [
    {
     "data": {
      "text/html": [
       "<div>\n",
       "<style scoped>\n",
       "    .dataframe tbody tr th:only-of-type {\n",
       "        vertical-align: middle;\n",
       "    }\n",
       "\n",
       "    .dataframe tbody tr th {\n",
       "        vertical-align: top;\n",
       "    }\n",
       "\n",
       "    .dataframe thead th {\n",
       "        text-align: right;\n",
       "    }\n",
       "</style>\n",
       "<table border=\"1\" class=\"dataframe\">\n",
       "  <thead>\n",
       "    <tr style=\"text-align: right;\">\n",
       "      <th></th>\n",
       "      <th>#000000</th>\n",
       "      <th>#000055</th>\n",
       "      <th>#0000AA</th>\n",
       "      <th>#0000FF</th>\n",
       "      <th>#005500</th>\n",
       "      <th>#005555</th>\n",
       "      <th>#0055AA</th>\n",
       "      <th>#0055FF</th>\n",
       "      <th>#00AA00</th>\n",
       "      <th>#00AA55</th>\n",
       "      <th>...</th>\n",
       "      <th>#FFFFFF</th>\n",
       "      <th>Mean</th>\n",
       "      <th>Variance</th>\n",
       "      <th>Entropy</th>\n",
       "      <th>Contrast</th>\n",
       "      <th>Homogeneity</th>\n",
       "      <th>Correlation</th>\n",
       "      <th>Energy</th>\n",
       "      <th>Area</th>\n",
       "      <th>Perimeter</th>\n",
       "    </tr>\n",
       "  </thead>\n",
       "  <tbody>\n",
       "    <tr>\n",
       "      <th>0</th>\n",
       "      <td>10.0</td>\n",
       "      <td>0.0</td>\n",
       "      <td>0.0</td>\n",
       "      <td>0.0</td>\n",
       "      <td>0.0</td>\n",
       "      <td>0.0</td>\n",
       "      <td>0.0</td>\n",
       "      <td>0.0</td>\n",
       "      <td>0.0</td>\n",
       "      <td>0.0</td>\n",
       "      <td>...</td>\n",
       "      <td>3297.0</td>\n",
       "      <td>194.388918</td>\n",
       "      <td>1241.988654</td>\n",
       "      <td>6.160843</td>\n",
       "      <td>77.909771</td>\n",
       "      <td>0.611743</td>\n",
       "      <td>0.968712</td>\n",
       "      <td>0.118836</td>\n",
       "      <td>51970.5</td>\n",
       "      <td>2994.147521</td>\n",
       "    </tr>\n",
       "  </tbody>\n",
       "</table>\n",
       "<p>1 rows × 73 columns</p>\n",
       "</div>"
      ],
      "text/plain": [
       "   #000000  #000055  #0000AA  #0000FF  #005500  #005555  #0055AA  #0055FF  \\\n",
       "0     10.0      0.0      0.0      0.0      0.0      0.0      0.0      0.0   \n",
       "\n",
       "   #00AA00  #00AA55  ...  #FFFFFF        Mean     Variance   Entropy  \\\n",
       "0      0.0      0.0  ...   3297.0  194.388918  1241.988654  6.160843   \n",
       "\n",
       "    Contrast  Homogeneity  Correlation    Energy     Area    Perimeter  \n",
       "0  77.909771     0.611743     0.968712  0.118836  51970.5  2994.147521  \n",
       "\n",
       "[1 rows x 73 columns]"
      ]
     },
     "execution_count": 145,
     "metadata": {},
     "output_type": "execute_result"
    }
   ],
   "source": [
    "final_df"
   ]
  },
  {
   "cell_type": "code",
   "execution_count": 146,
   "id": "systematic-alpha",
   "metadata": {},
   "outputs": [],
   "source": [
    "pred_label = model.predict(final_df)"
   ]
  },
  {
   "cell_type": "code",
   "execution_count": 147,
   "id": "ancient-knife",
   "metadata": {},
   "outputs": [
    {
     "data": {
      "text/plain": [
       "array(['Peach'], dtype=object)"
      ]
     },
     "execution_count": 147,
     "metadata": {},
     "output_type": "execute_result"
    }
   ],
   "source": [
    "pred_label"
   ]
  },
  {
   "cell_type": "code",
   "execution_count": null,
   "id": "trying-melbourne",
   "metadata": {},
   "outputs": [],
   "source": []
  },
  {
   "cell_type": "code",
   "execution_count": null,
   "id": "macro-entertainment",
   "metadata": {},
   "outputs": [],
   "source": []
  }
 ],
 "metadata": {
  "kernelspec": {
   "display_name": "Python 3",
   "language": "python",
   "name": "python3"
  },
  "language_info": {
   "codemirror_mode": {
    "name": "ipython",
    "version": 3
   },
   "file_extension": ".py",
   "mimetype": "text/x-python",
   "name": "python",
   "nbconvert_exporter": "python",
   "pygments_lexer": "ipython3",
   "version": "3.9.1"
  }
 },
 "nbformat": 4,
 "nbformat_minor": 5
}
