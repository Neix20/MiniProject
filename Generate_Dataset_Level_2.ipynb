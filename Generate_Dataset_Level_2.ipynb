{
 "cells": [
  {
   "cell_type": "markdown",
   "id": "joined-hawaii",
   "metadata": {},
   "source": [
    "## Load Libraries"
   ]
  },
  {
   "cell_type": "code",
   "execution_count": 96,
   "id": "positive-stock",
   "metadata": {},
   "outputs": [],
   "source": [
    "import numpy as np\n",
    "import pandas as pd\n",
    "import cv2\n",
    "import matplotlib\n",
    "import matplotlib.pyplot as plt\n",
    "%matplotlib inline"
   ]
  },
  {
   "cell_type": "markdown",
   "id": "yellow-fleece",
   "metadata": {},
   "source": [
    "## Load Dataset"
   ]
  },
  {
   "cell_type": "code",
   "execution_count": 97,
   "id": "close-bundle",
   "metadata": {},
   "outputs": [],
   "source": [
    "df = pd.read_csv(\"Image_Dataset.csv\")"
   ]
  },
  {
   "cell_type": "markdown",
   "id": "irish-tourism",
   "metadata": {},
   "source": [
    "## Display Image"
   ]
  },
  {
   "cell_type": "code",
   "execution_count": 98,
   "id": "animal-organization",
   "metadata": {},
   "outputs": [],
   "source": [
    "def display(img):\n",
    "    plt.imshow (img, interpolation = 'nearest')\n",
    "    _ = plt.axis(False)\n",
    "    print(\"Image Shape: \", img.shape)"
   ]
  },
  {
   "cell_type": "markdown",
   "id": "actual-emission",
   "metadata": {},
   "source": [
    "## Shuffle Dataset"
   ]
  },
  {
   "cell_type": "code",
   "execution_count": 99,
   "id": "negative-winter",
   "metadata": {},
   "outputs": [],
   "source": [
    "df = df.sample(frac=1).reset_index(drop=True)"
   ]
  },
  {
   "cell_type": "markdown",
   "id": "descending-visit",
   "metadata": {},
   "source": [
    "## Seperate the target and independant variables"
   ]
  },
  {
   "cell_type": "code",
   "execution_count": 133,
   "id": "political-milan",
   "metadata": {},
   "outputs": [],
   "source": [
    "df_X = df.iloc[:, 0:-1]\n",
    "df_Y = df.iloc[:, -1]"
   ]
  },
  {
   "cell_type": "code",
   "execution_count": 134,
   "id": "bottom-shoulder",
   "metadata": {},
   "outputs": [
    {
     "data": {
      "text/html": [
       "<div>\n",
       "<style scoped>\n",
       "    .dataframe tbody tr th:only-of-type {\n",
       "        vertical-align: middle;\n",
       "    }\n",
       "\n",
       "    .dataframe tbody tr th {\n",
       "        vertical-align: top;\n",
       "    }\n",
       "\n",
       "    .dataframe thead th {\n",
       "        text-align: right;\n",
       "    }\n",
       "</style>\n",
       "<table border=\"1\" class=\"dataframe\">\n",
       "  <thead>\n",
       "    <tr style=\"text-align: right;\">\n",
       "      <th></th>\n",
       "      <th>Pixel 0</th>\n",
       "      <th>Pixel 1</th>\n",
       "      <th>Pixel 2</th>\n",
       "      <th>Pixel 3</th>\n",
       "      <th>Pixel 4</th>\n",
       "      <th>Pixel 5</th>\n",
       "      <th>Pixel 6</th>\n",
       "      <th>Pixel 7</th>\n",
       "      <th>Pixel 8</th>\n",
       "      <th>Pixel 9</th>\n",
       "      <th>...</th>\n",
       "      <th>Pixel 12278</th>\n",
       "      <th>Pixel 12279</th>\n",
       "      <th>Pixel 12280</th>\n",
       "      <th>Pixel 12281</th>\n",
       "      <th>Pixel 12282</th>\n",
       "      <th>Pixel 12283</th>\n",
       "      <th>Pixel 12284</th>\n",
       "      <th>Pixel 12285</th>\n",
       "      <th>Pixel 12286</th>\n",
       "      <th>Pixel 12287</th>\n",
       "    </tr>\n",
       "  </thead>\n",
       "  <tbody>\n",
       "    <tr>\n",
       "      <th>0</th>\n",
       "      <td>255</td>\n",
       "      <td>255</td>\n",
       "      <td>255</td>\n",
       "      <td>255</td>\n",
       "      <td>255</td>\n",
       "      <td>255</td>\n",
       "      <td>255</td>\n",
       "      <td>255</td>\n",
       "      <td>255</td>\n",
       "      <td>255</td>\n",
       "      <td>...</td>\n",
       "      <td>255</td>\n",
       "      <td>255</td>\n",
       "      <td>255</td>\n",
       "      <td>255</td>\n",
       "      <td>255</td>\n",
       "      <td>255</td>\n",
       "      <td>255</td>\n",
       "      <td>255</td>\n",
       "      <td>255</td>\n",
       "      <td>255</td>\n",
       "    </tr>\n",
       "    <tr>\n",
       "      <th>1</th>\n",
       "      <td>255</td>\n",
       "      <td>255</td>\n",
       "      <td>255</td>\n",
       "      <td>255</td>\n",
       "      <td>255</td>\n",
       "      <td>255</td>\n",
       "      <td>255</td>\n",
       "      <td>255</td>\n",
       "      <td>255</td>\n",
       "      <td>255</td>\n",
       "      <td>...</td>\n",
       "      <td>255</td>\n",
       "      <td>255</td>\n",
       "      <td>255</td>\n",
       "      <td>255</td>\n",
       "      <td>255</td>\n",
       "      <td>255</td>\n",
       "      <td>255</td>\n",
       "      <td>255</td>\n",
       "      <td>255</td>\n",
       "      <td>255</td>\n",
       "    </tr>\n",
       "    <tr>\n",
       "      <th>2</th>\n",
       "      <td>255</td>\n",
       "      <td>255</td>\n",
       "      <td>255</td>\n",
       "      <td>255</td>\n",
       "      <td>255</td>\n",
       "      <td>255</td>\n",
       "      <td>255</td>\n",
       "      <td>255</td>\n",
       "      <td>255</td>\n",
       "      <td>255</td>\n",
       "      <td>...</td>\n",
       "      <td>255</td>\n",
       "      <td>255</td>\n",
       "      <td>255</td>\n",
       "      <td>255</td>\n",
       "      <td>255</td>\n",
       "      <td>255</td>\n",
       "      <td>255</td>\n",
       "      <td>255</td>\n",
       "      <td>255</td>\n",
       "      <td>255</td>\n",
       "    </tr>\n",
       "    <tr>\n",
       "      <th>3</th>\n",
       "      <td>255</td>\n",
       "      <td>255</td>\n",
       "      <td>255</td>\n",
       "      <td>255</td>\n",
       "      <td>255</td>\n",
       "      <td>255</td>\n",
       "      <td>255</td>\n",
       "      <td>255</td>\n",
       "      <td>255</td>\n",
       "      <td>255</td>\n",
       "      <td>...</td>\n",
       "      <td>255</td>\n",
       "      <td>255</td>\n",
       "      <td>255</td>\n",
       "      <td>255</td>\n",
       "      <td>255</td>\n",
       "      <td>255</td>\n",
       "      <td>255</td>\n",
       "      <td>255</td>\n",
       "      <td>255</td>\n",
       "      <td>255</td>\n",
       "    </tr>\n",
       "    <tr>\n",
       "      <th>4</th>\n",
       "      <td>255</td>\n",
       "      <td>255</td>\n",
       "      <td>255</td>\n",
       "      <td>255</td>\n",
       "      <td>255</td>\n",
       "      <td>255</td>\n",
       "      <td>255</td>\n",
       "      <td>255</td>\n",
       "      <td>255</td>\n",
       "      <td>255</td>\n",
       "      <td>...</td>\n",
       "      <td>255</td>\n",
       "      <td>255</td>\n",
       "      <td>255</td>\n",
       "      <td>255</td>\n",
       "      <td>255</td>\n",
       "      <td>255</td>\n",
       "      <td>255</td>\n",
       "      <td>255</td>\n",
       "      <td>255</td>\n",
       "      <td>255</td>\n",
       "    </tr>\n",
       "  </tbody>\n",
       "</table>\n",
       "<p>5 rows × 12288 columns</p>\n",
       "</div>"
      ],
      "text/plain": [
       "   Pixel 0  Pixel 1  Pixel 2  Pixel 3  Pixel 4  Pixel 5  Pixel 6  Pixel 7  \\\n",
       "0      255      255      255      255      255      255      255      255   \n",
       "1      255      255      255      255      255      255      255      255   \n",
       "2      255      255      255      255      255      255      255      255   \n",
       "3      255      255      255      255      255      255      255      255   \n",
       "4      255      255      255      255      255      255      255      255   \n",
       "\n",
       "   Pixel 8  Pixel 9  ...  Pixel 12278  Pixel 12279  Pixel 12280  Pixel 12281  \\\n",
       "0      255      255  ...          255          255          255          255   \n",
       "1      255      255  ...          255          255          255          255   \n",
       "2      255      255  ...          255          255          255          255   \n",
       "3      255      255  ...          255          255          255          255   \n",
       "4      255      255  ...          255          255          255          255   \n",
       "\n",
       "   Pixel 12282  Pixel 12283  Pixel 12284  Pixel 12285  Pixel 12286  \\\n",
       "0          255          255          255          255          255   \n",
       "1          255          255          255          255          255   \n",
       "2          255          255          255          255          255   \n",
       "3          255          255          255          255          255   \n",
       "4          255          255          255          255          255   \n",
       "\n",
       "   Pixel 12287  \n",
       "0          255  \n",
       "1          255  \n",
       "2          255  \n",
       "3          255  \n",
       "4          255  \n",
       "\n",
       "[5 rows x 12288 columns]"
      ]
     },
     "execution_count": 134,
     "metadata": {},
     "output_type": "execute_result"
    }
   ],
   "source": [
    "df_X.head()"
   ]
  },
  {
   "cell_type": "markdown",
   "id": "verified-novelty",
   "metadata": {},
   "source": [
    "## Bin Dataset"
   ]
  },
  {
   "cell_type": "code",
   "execution_count": 118,
   "id": "automatic-mainland",
   "metadata": {},
   "outputs": [
    {
     "data": {
      "text/plain": [
       "array([  0.,  64., 128., 192., 256.])"
      ]
     },
     "execution_count": 118,
     "metadata": {},
     "output_type": "execute_result"
    }
   ],
   "source": [
    "# Get Range Values\n",
    "range_arr = np.linspace(0, 256, 5)\n",
    "range_arr"
   ]
  },
  {
   "cell_type": "code",
   "execution_count": 119,
   "id": "finished-biodiversity",
   "metadata": {},
   "outputs": [],
   "source": [
    "def convert_val(x):\n",
    "    if x >= 0 and x < 64:\n",
    "        return 0\n",
    "    elif x >= 64 and x < 128:\n",
    "        return 1\n",
    "    elif x >= 128 and x < 192:\n",
    "        return 2\n",
    "    else:\n",
    "        return 3"
   ]
  },
  {
   "cell_type": "code",
   "execution_count": 128,
   "id": "animated-burner",
   "metadata": {},
   "outputs": [],
   "source": [
    "new_df_X = df_X.applymap(convert_val)"
   ]
  },
  {
   "cell_type": "code",
   "execution_count": 131,
   "id": "aggregate-glucose",
   "metadata": {},
   "outputs": [],
   "source": [
    "new_df = new_df_X\n",
    "new_df[\"Label\"] = df_Y"
   ]
  },
  {
   "cell_type": "code",
   "execution_count": 216,
   "id": "interim-collar",
   "metadata": {},
   "outputs": [],
   "source": [
    "new_df_X = new_df.iloc[:, 0:-1]"
   ]
  },
  {
   "cell_type": "code",
   "execution_count": 132,
   "id": "handmade-poster",
   "metadata": {},
   "outputs": [
    {
     "data": {
      "text/html": [
       "<div>\n",
       "<style scoped>\n",
       "    .dataframe tbody tr th:only-of-type {\n",
       "        vertical-align: middle;\n",
       "    }\n",
       "\n",
       "    .dataframe tbody tr th {\n",
       "        vertical-align: top;\n",
       "    }\n",
       "\n",
       "    .dataframe thead th {\n",
       "        text-align: right;\n",
       "    }\n",
       "</style>\n",
       "<table border=\"1\" class=\"dataframe\">\n",
       "  <thead>\n",
       "    <tr style=\"text-align: right;\">\n",
       "      <th></th>\n",
       "      <th>Pixel 0</th>\n",
       "      <th>Pixel 1</th>\n",
       "      <th>Pixel 2</th>\n",
       "      <th>Pixel 3</th>\n",
       "      <th>Pixel 4</th>\n",
       "      <th>Pixel 5</th>\n",
       "      <th>Pixel 6</th>\n",
       "      <th>Pixel 7</th>\n",
       "      <th>Pixel 8</th>\n",
       "      <th>Pixel 9</th>\n",
       "      <th>...</th>\n",
       "      <th>Pixel 12279</th>\n",
       "      <th>Pixel 12280</th>\n",
       "      <th>Pixel 12281</th>\n",
       "      <th>Pixel 12282</th>\n",
       "      <th>Pixel 12283</th>\n",
       "      <th>Pixel 12284</th>\n",
       "      <th>Pixel 12285</th>\n",
       "      <th>Pixel 12286</th>\n",
       "      <th>Pixel 12287</th>\n",
       "      <th>Label</th>\n",
       "    </tr>\n",
       "  </thead>\n",
       "  <tbody>\n",
       "    <tr>\n",
       "      <th>0</th>\n",
       "      <td>3</td>\n",
       "      <td>3</td>\n",
       "      <td>3</td>\n",
       "      <td>3</td>\n",
       "      <td>3</td>\n",
       "      <td>3</td>\n",
       "      <td>3</td>\n",
       "      <td>3</td>\n",
       "      <td>3</td>\n",
       "      <td>3</td>\n",
       "      <td>...</td>\n",
       "      <td>3</td>\n",
       "      <td>3</td>\n",
       "      <td>3</td>\n",
       "      <td>3</td>\n",
       "      <td>3</td>\n",
       "      <td>3</td>\n",
       "      <td>3</td>\n",
       "      <td>3</td>\n",
       "      <td>3</td>\n",
       "      <td>Pear</td>\n",
       "    </tr>\n",
       "    <tr>\n",
       "      <th>1</th>\n",
       "      <td>3</td>\n",
       "      <td>3</td>\n",
       "      <td>3</td>\n",
       "      <td>3</td>\n",
       "      <td>3</td>\n",
       "      <td>3</td>\n",
       "      <td>3</td>\n",
       "      <td>3</td>\n",
       "      <td>3</td>\n",
       "      <td>3</td>\n",
       "      <td>...</td>\n",
       "      <td>3</td>\n",
       "      <td>3</td>\n",
       "      <td>3</td>\n",
       "      <td>3</td>\n",
       "      <td>3</td>\n",
       "      <td>3</td>\n",
       "      <td>3</td>\n",
       "      <td>3</td>\n",
       "      <td>3</td>\n",
       "      <td>Banana</td>\n",
       "    </tr>\n",
       "    <tr>\n",
       "      <th>2</th>\n",
       "      <td>3</td>\n",
       "      <td>3</td>\n",
       "      <td>3</td>\n",
       "      <td>3</td>\n",
       "      <td>3</td>\n",
       "      <td>3</td>\n",
       "      <td>3</td>\n",
       "      <td>3</td>\n",
       "      <td>3</td>\n",
       "      <td>3</td>\n",
       "      <td>...</td>\n",
       "      <td>3</td>\n",
       "      <td>3</td>\n",
       "      <td>3</td>\n",
       "      <td>3</td>\n",
       "      <td>3</td>\n",
       "      <td>3</td>\n",
       "      <td>3</td>\n",
       "      <td>3</td>\n",
       "      <td>3</td>\n",
       "      <td>Strawberry</td>\n",
       "    </tr>\n",
       "    <tr>\n",
       "      <th>3</th>\n",
       "      <td>3</td>\n",
       "      <td>3</td>\n",
       "      <td>3</td>\n",
       "      <td>3</td>\n",
       "      <td>3</td>\n",
       "      <td>3</td>\n",
       "      <td>3</td>\n",
       "      <td>3</td>\n",
       "      <td>3</td>\n",
       "      <td>3</td>\n",
       "      <td>...</td>\n",
       "      <td>3</td>\n",
       "      <td>3</td>\n",
       "      <td>3</td>\n",
       "      <td>3</td>\n",
       "      <td>3</td>\n",
       "      <td>3</td>\n",
       "      <td>3</td>\n",
       "      <td>3</td>\n",
       "      <td>3</td>\n",
       "      <td>Apple</td>\n",
       "    </tr>\n",
       "    <tr>\n",
       "      <th>4</th>\n",
       "      <td>3</td>\n",
       "      <td>3</td>\n",
       "      <td>3</td>\n",
       "      <td>3</td>\n",
       "      <td>3</td>\n",
       "      <td>3</td>\n",
       "      <td>3</td>\n",
       "      <td>3</td>\n",
       "      <td>3</td>\n",
       "      <td>3</td>\n",
       "      <td>...</td>\n",
       "      <td>3</td>\n",
       "      <td>3</td>\n",
       "      <td>3</td>\n",
       "      <td>3</td>\n",
       "      <td>3</td>\n",
       "      <td>3</td>\n",
       "      <td>3</td>\n",
       "      <td>3</td>\n",
       "      <td>3</td>\n",
       "      <td>Mango</td>\n",
       "    </tr>\n",
       "  </tbody>\n",
       "</table>\n",
       "<p>5 rows × 12289 columns</p>\n",
       "</div>"
      ],
      "text/plain": [
       "   Pixel 0  Pixel 1  Pixel 2  Pixel 3  Pixel 4  Pixel 5  Pixel 6  Pixel 7  \\\n",
       "0        3        3        3        3        3        3        3        3   \n",
       "1        3        3        3        3        3        3        3        3   \n",
       "2        3        3        3        3        3        3        3        3   \n",
       "3        3        3        3        3        3        3        3        3   \n",
       "4        3        3        3        3        3        3        3        3   \n",
       "\n",
       "   Pixel 8  Pixel 9  ...  Pixel 12279  Pixel 12280  Pixel 12281  Pixel 12282  \\\n",
       "0        3        3  ...            3            3            3            3   \n",
       "1        3        3  ...            3            3            3            3   \n",
       "2        3        3  ...            3            3            3            3   \n",
       "3        3        3  ...            3            3            3            3   \n",
       "4        3        3  ...            3            3            3            3   \n",
       "\n",
       "   Pixel 12283  Pixel 12284  Pixel 12285  Pixel 12286  Pixel 12287       Label  \n",
       "0            3            3            3            3            3        Pear  \n",
       "1            3            3            3            3            3      Banana  \n",
       "2            3            3            3            3            3  Strawberry  \n",
       "3            3            3            3            3            3       Apple  \n",
       "4            3            3            3            3            3       Mango  \n",
       "\n",
       "[5 rows x 12289 columns]"
      ]
     },
     "execution_count": 132,
     "metadata": {},
     "output_type": "execute_result"
    }
   ],
   "source": [
    "new_df.head()"
   ]
  },
  {
   "cell_type": "markdown",
   "id": "necessary-thursday",
   "metadata": {},
   "source": [
    "## Load Single Image"
   ]
  },
  {
   "cell_type": "code",
   "execution_count": 161,
   "id": "selective-scroll",
   "metadata": {},
   "outputs": [],
   "source": [
    "idx = 64\n",
    "img = df.iloc[idx, 0:-1].values\n",
    "img = img.reshape(64, 64, 3)\n",
    "img = img.astype(np.int)"
   ]
  },
  {
   "cell_type": "code",
   "execution_count": 163,
   "id": "happy-collar",
   "metadata": {},
   "outputs": [
    {
     "name": "stdout",
     "output_type": "stream",
     "text": [
      "Image Shape:  (64, 64, 3)\n"
     ]
    },
    {
     "data": {
      "image/png": "[encoded data removed]",
      "text/plain": [
       "<Figure size 432x288 with 1 Axes>"
      ]
     },
     "metadata": {
      "needs_background": "light"
     },
     "output_type": "display_data"
    }
   ],
   "source": [
    "display(img)"
   ]
  },
  {
   "cell_type": "markdown",
   "id": "prepared-bailey",
   "metadata": {},
   "source": [
    "## Color Histogram"
   ]
  },
  {
   "cell_type": "code",
   "execution_count": 174,
   "id": "arabic-medicare",
   "metadata": {},
   "outputs": [],
   "source": [
    "idx = 64\n",
    "img = df.iloc[idx, 0:-1].values\n",
    "img = img.reshape(64, 64, 3)\n",
    "img = img.astype(np.float32)"
   ]
  },
  {
   "cell_type": "code",
   "execution_count": 175,
   "id": "ecological-stockholm",
   "metadata": {},
   "outputs": [
    {
     "data": {
      "text/plain": [
       "[<matplotlib.lines.Line2D at 0x29b36d79610>]"
      ]
     },
     "execution_count": 175,
     "metadata": {},
     "output_type": "execute_result"
    },
    {
     "data": {
      "image/png": "[encoded data removed]",
      "text/plain": [
       "<Figure size 432x288 with 1 Axes>"
      ]
     },
     "metadata": {
      "needs_background": "light"
     },
     "output_type": "display_data"
    }
   ],
   "source": [
    "hist = cv2.calcHist([img], [0], None, [64], [0,64])\n",
    "plt.plot(hist)"
   ]
  },
  {
   "cell_type": "code",
   "execution_count": 177,
   "id": "ahead-template",
   "metadata": {},
   "outputs": [],
   "source": [
    "idx = 64\n",
    "img = new_df.iloc[idx, 0:-1].values\n",
    "img = img.reshape(64, 64, 3)\n",
    "img = img.astype(np.float32)"
   ]
  },
  {
   "cell_type": "code",
   "execution_count": 178,
   "id": "marked-cursor",
   "metadata": {},
   "outputs": [
    {
     "data": {
      "text/plain": [
       "[<matplotlib.lines.Line2D at 0x29b7ea0aa60>]"
      ]
     },
     "execution_count": 178,
     "metadata": {},
     "output_type": "execute_result"
    },
    {
     "data": {
      "image/png": "[encoded data removed]",
      "text/plain": [
       "<Figure size 432x288 with 1 Axes>"
      ]
     },
     "metadata": {
      "needs_background": "light"
     },
     "output_type": "display_data"
    }
   ],
   "source": [
    "hist = cv2.calcHist([img], [0], None, [64], [0,64])\n",
    "plt.plot(hist)"
   ]
  },
  {
   "cell_type": "code",
   "execution_count": 187,
   "id": "adverse-dominant",
   "metadata": {},
   "outputs": [],
   "source": [
    "idx = 64\n",
    "img = new_df.iloc[idx, 0:-1].values\n",
    "img = img.reshape(64, 64, 3)\n",
    "img = img.astype(np.int)"
   ]
  },
  {
   "cell_type": "code",
   "execution_count": 188,
   "id": "handmade-pharmacology",
   "metadata": {},
   "outputs": [],
   "source": [
    "Z = img.reshape((-1, 3))"
   ]
  },
  {
   "cell_type": "code",
   "execution_count": 206,
   "id": "concerned-equation",
   "metadata": {},
   "outputs": [],
   "source": [
    "tmp_dict = {}\n",
    "for i in range(4):\n",
    "    for j in range(4):\n",
    "        for k in range(4):\n",
    "            tmp_dict[f'{i},{j},{k}'] = 0"
   ]
  },
  {
   "cell_type": "code",
   "execution_count": 209,
   "id": "accomplished-mercy",
   "metadata": {},
   "outputs": [
    {
     "name": "stdout",
     "output_type": "stream",
     "text": [
      "{'0,0,0': 720, '0,0,1': 0, '0,0,2': 0, '0,0,3': 0, '0,1,0': 0, '0,1,1': 0, '0,1,2': 0, '0,1,3': 0, '0,2,0': 0, '0,2,1': 0, '0,2,2': 0, '0,2,3': 0, '0,3,0': 0, '0,3,1': 0, '0,3,2': 0, '0,3,3': 0, '1,0,0': 1694, '1,0,1': 0, '1,0,2': 0, '1,0,3': 0, '1,1,0': 110, '1,1,1': 116, '1,1,2': 0, '1,1,3': 0, '1,2,0': 0, '1,2,1': 0, '1,2,2': 0, '1,2,3': 0, '1,3,0': 0, '1,3,1': 0, '1,3,2': 0, '1,3,3': 0, '2,0,0': 982, '2,0,1': 0, '2,0,2': 0, '2,0,3': 0, '2,1,0': 846, '2,1,1': 784, '2,1,2': 0, '2,1,3': 0, '2,2,0': 0, '2,2,1': 222, '2,2,2': 132, '2,2,3': 0, '2,3,0': 0, '2,3,1': 0, '2,3,2': 0, '2,3,3': 0, '3,0,0': 0, '3,0,1': 0, '3,0,2': 0, '3,0,3': 0, '3,1,0': 2, '3,1,1': 84, '3,1,2': 0, '3,1,3': 0, '3,2,0': 0, '3,2,1': 92, '3,2,2': 104, '3,2,3': 0, '3,3,0': 0, '3,3,1': 0, '3,3,2': 4, '3,3,3': 2300}\n"
     ]
    }
   ],
   "source": [
    "for arr in Z:\n",
    "    s = \",\".join(arr.astype(str).tolist())\n",
    "    if s in tmp_dict:\n",
    "        tmp_dict[s]+=1\n",
    "print(tmp_dict)"
   ]
  },
  {
   "cell_type": "code",
   "execution_count": 222,
   "id": "steady-printing",
   "metadata": {
    "scrolled": true
   },
   "outputs": [
    {
     "ename": "TypeError",
     "evalue": "append() got an unexpected keyword argument 'inplace'",
     "output_type": "error",
     "traceback": [
      "\u001b[1;31m---------------------------------------------------------------------------\u001b[0m",
      "\u001b[1;31mTypeError\u001b[0m                                 Traceback (most recent call last)",
      "\u001b[1;32m<ipython-input-222-78f8bb19fd51>\u001b[0m in \u001b[0;36m<module>\u001b[1;34m\u001b[0m\n\u001b[0;32m      1\u001b[0m \u001b[0mtest\u001b[0m \u001b[1;33m=\u001b[0m \u001b[0mpd\u001b[0m\u001b[1;33m.\u001b[0m\u001b[0mDataFrame\u001b[0m\u001b[1;33m(\u001b[0m\u001b[1;33m)\u001b[0m\u001b[1;33m\u001b[0m\u001b[1;33m\u001b[0m\u001b[0m\n\u001b[1;32m----> 2\u001b[1;33m \u001b[0mtest\u001b[0m\u001b[1;33m.\u001b[0m\u001b[0mappend\u001b[0m\u001b[1;33m(\u001b[0m\u001b[0mtmp_dict\u001b[0m\u001b[1;33m,\u001b[0m \u001b[0mignore_index\u001b[0m \u001b[1;33m=\u001b[0m \u001b[1;32mTrue\u001b[0m\u001b[1;33m,\u001b[0m \u001b[0minplace\u001b[0m\u001b[1;33m=\u001b[0m\u001b[1;32mTrue\u001b[0m\u001b[1;33m)\u001b[0m\u001b[1;33m\u001b[0m\u001b[1;33m\u001b[0m\u001b[0m\n\u001b[0m\u001b[0;32m      3\u001b[0m \u001b[0mtest\u001b[0m\u001b[1;33m.\u001b[0m\u001b[0mhead\u001b[0m\u001b[1;33m(\u001b[0m\u001b[1;33m)\u001b[0m\u001b[1;33m\u001b[0m\u001b[1;33m\u001b[0m\u001b[0m\n",
      "\u001b[1;31mTypeError\u001b[0m: append() got an unexpected keyword argument 'inplace'"
     ]
    }
   ],
   "source": [
    "test = pd.DataFrame()\n",
    "test = test.append(tmp_dict, ignore_index = True)\n",
    "test.head()"
   ]
  },
  {
   "cell_type": "markdown",
   "id": "golden-soccer",
   "metadata": {},
   "source": [
    "## Create New Dataset"
   ]
  },
  {
   "cell_type": "code",
   "execution_count": 223,
   "id": "future-protein",
   "metadata": {},
   "outputs": [],
   "source": [
    "final_dataset = pd.DataFrame()\n",
    "for idx in range(len(new_df_X)):\n",
    "    img = new_df_X.iloc[idx].values\n",
    "    img = img.reshape(64, 64, 3)\n",
    "    img = img.astype(np.int)\n",
    "    Z = img.reshape((-1, 3))\n",
    "    tmp_dict = {}\n",
    "    for i in range(4):\n",
    "        for j in range(4):\n",
    "            for k in range(4):\n",
    "                tmp_dict[f'{i},{j},{k}'] = 0\n",
    "    for arr in Z:\n",
    "        s = \",\".join(arr.astype(str).tolist())\n",
    "        if s in tmp_dict:\n",
    "            tmp_dict[s]+=1\n",
    "    final_dataset = final_dataset.append(tmp_dict, ignore_index = True)"
   ]
  },
  {
   "cell_type": "code",
   "execution_count": 225,
   "id": "rapid-climb",
   "metadata": {},
   "outputs": [],
   "source": [
    "column_arr = []\n",
    "for i in range(4):\n",
    "        for j in range(4):\n",
    "            for k in range(4):\n",
    "                column_arr.append(f'{i},{j},{k}')"
   ]
  },
  {
   "cell_type": "code",
   "execution_count": 227,
   "id": "consolidated-british",
   "metadata": {},
   "outputs": [],
   "source": [
    "final_dataset.rename(columns={j:f\"Color Combo {i + 1}\" for i, j in enumerate(column_arr)}, inplace = True)"
   ]
  },
  {
   "cell_type": "code",
   "execution_count": 230,
   "id": "irish-nigeria",
   "metadata": {},
   "outputs": [],
   "source": [
    "final_dataset[\"Label\"] = df_Y"
   ]
  },
  {
   "cell_type": "code",
   "execution_count": 232,
   "id": "convenient-split",
   "metadata": {},
   "outputs": [
    {
     "data": {
      "text/html": [
       "<div>\n",
       "<style scoped>\n",
       "    .dataframe tbody tr th:only-of-type {\n",
       "        vertical-align: middle;\n",
       "    }\n",
       "\n",
       "    .dataframe tbody tr th {\n",
       "        vertical-align: top;\n",
       "    }\n",
       "\n",
       "    .dataframe thead th {\n",
       "        text-align: right;\n",
       "    }\n",
       "</style>\n",
       "<table border=\"1\" class=\"dataframe\">\n",
       "  <thead>\n",
       "    <tr style=\"text-align: right;\">\n",
       "      <th></th>\n",
       "      <th>Color Combo 1</th>\n",
       "      <th>Color Combo 2</th>\n",
       "      <th>Color Combo 3</th>\n",
       "      <th>Color Combo 4</th>\n",
       "      <th>Color Combo 5</th>\n",
       "      <th>Color Combo 6</th>\n",
       "      <th>Color Combo 7</th>\n",
       "      <th>Color Combo 8</th>\n",
       "      <th>Color Combo 9</th>\n",
       "      <th>Color Combo 10</th>\n",
       "      <th>...</th>\n",
       "      <th>Color Combo 56</th>\n",
       "      <th>Color Combo 57</th>\n",
       "      <th>Color Combo 58</th>\n",
       "      <th>Color Combo 59</th>\n",
       "      <th>Color Combo 60</th>\n",
       "      <th>Color Combo 61</th>\n",
       "      <th>Color Combo 62</th>\n",
       "      <th>Color Combo 63</th>\n",
       "      <th>Color Combo 64</th>\n",
       "      <th>Label</th>\n",
       "    </tr>\n",
       "  </thead>\n",
       "  <tbody>\n",
       "    <tr>\n",
       "      <th>0</th>\n",
       "      <td>202.0</td>\n",
       "      <td>0.0</td>\n",
       "      <td>0.0</td>\n",
       "      <td>0.0</td>\n",
       "      <td>0.0</td>\n",
       "      <td>0.0</td>\n",
       "      <td>0.0</td>\n",
       "      <td>0.0</td>\n",
       "      <td>0.0</td>\n",
       "      <td>0.0</td>\n",
       "      <td>...</td>\n",
       "      <td>0.0</td>\n",
       "      <td>0.0</td>\n",
       "      <td>95.0</td>\n",
       "      <td>12.0</td>\n",
       "      <td>0.0</td>\n",
       "      <td>0.0</td>\n",
       "      <td>9.0</td>\n",
       "      <td>69.0</td>\n",
       "      <td>1708.0</td>\n",
       "      <td>Pear</td>\n",
       "    </tr>\n",
       "    <tr>\n",
       "      <th>1</th>\n",
       "      <td>62.0</td>\n",
       "      <td>0.0</td>\n",
       "      <td>0.0</td>\n",
       "      <td>0.0</td>\n",
       "      <td>0.0</td>\n",
       "      <td>1.0</td>\n",
       "      <td>0.0</td>\n",
       "      <td>0.0</td>\n",
       "      <td>0.0</td>\n",
       "      <td>0.0</td>\n",
       "      <td>...</td>\n",
       "      <td>0.0</td>\n",
       "      <td>0.0</td>\n",
       "      <td>0.0</td>\n",
       "      <td>5.0</td>\n",
       "      <td>0.0</td>\n",
       "      <td>0.0</td>\n",
       "      <td>0.0</td>\n",
       "      <td>6.0</td>\n",
       "      <td>2887.0</td>\n",
       "      <td>Banana</td>\n",
       "    </tr>\n",
       "    <tr>\n",
       "      <th>2</th>\n",
       "      <td>281.0</td>\n",
       "      <td>0.0</td>\n",
       "      <td>0.0</td>\n",
       "      <td>0.0</td>\n",
       "      <td>0.0</td>\n",
       "      <td>0.0</td>\n",
       "      <td>0.0</td>\n",
       "      <td>0.0</td>\n",
       "      <td>0.0</td>\n",
       "      <td>0.0</td>\n",
       "      <td>...</td>\n",
       "      <td>0.0</td>\n",
       "      <td>0.0</td>\n",
       "      <td>1.0</td>\n",
       "      <td>12.0</td>\n",
       "      <td>2.0</td>\n",
       "      <td>0.0</td>\n",
       "      <td>0.0</td>\n",
       "      <td>6.0</td>\n",
       "      <td>1696.0</td>\n",
       "      <td>Strawberry</td>\n",
       "    </tr>\n",
       "    <tr>\n",
       "      <th>3</th>\n",
       "      <td>292.0</td>\n",
       "      <td>0.0</td>\n",
       "      <td>0.0</td>\n",
       "      <td>0.0</td>\n",
       "      <td>0.0</td>\n",
       "      <td>0.0</td>\n",
       "      <td>0.0</td>\n",
       "      <td>0.0</td>\n",
       "      <td>0.0</td>\n",
       "      <td>0.0</td>\n",
       "      <td>...</td>\n",
       "      <td>0.0</td>\n",
       "      <td>0.0</td>\n",
       "      <td>52.0</td>\n",
       "      <td>65.0</td>\n",
       "      <td>0.0</td>\n",
       "      <td>0.0</td>\n",
       "      <td>0.0</td>\n",
       "      <td>5.0</td>\n",
       "      <td>1029.0</td>\n",
       "      <td>Apple</td>\n",
       "    </tr>\n",
       "    <tr>\n",
       "      <th>4</th>\n",
       "      <td>542.0</td>\n",
       "      <td>6.0</td>\n",
       "      <td>0.0</td>\n",
       "      <td>0.0</td>\n",
       "      <td>299.0</td>\n",
       "      <td>10.0</td>\n",
       "      <td>0.0</td>\n",
       "      <td>0.0</td>\n",
       "      <td>0.0</td>\n",
       "      <td>0.0</td>\n",
       "      <td>...</td>\n",
       "      <td>0.0</td>\n",
       "      <td>0.0</td>\n",
       "      <td>0.0</td>\n",
       "      <td>0.0</td>\n",
       "      <td>0.0</td>\n",
       "      <td>0.0</td>\n",
       "      <td>0.0</td>\n",
       "      <td>0.0</td>\n",
       "      <td>1438.0</td>\n",
       "      <td>Mango</td>\n",
       "    </tr>\n",
       "    <tr>\n",
       "      <th>5</th>\n",
       "      <td>121.0</td>\n",
       "      <td>0.0</td>\n",
       "      <td>0.0</td>\n",
       "      <td>0.0</td>\n",
       "      <td>0.0</td>\n",
       "      <td>0.0</td>\n",
       "      <td>0.0</td>\n",
       "      <td>0.0</td>\n",
       "      <td>0.0</td>\n",
       "      <td>0.0</td>\n",
       "      <td>...</td>\n",
       "      <td>0.0</td>\n",
       "      <td>0.0</td>\n",
       "      <td>278.0</td>\n",
       "      <td>6.0</td>\n",
       "      <td>0.0</td>\n",
       "      <td>0.0</td>\n",
       "      <td>6.0</td>\n",
       "      <td>84.0</td>\n",
       "      <td>1560.0</td>\n",
       "      <td>Pear</td>\n",
       "    </tr>\n",
       "    <tr>\n",
       "      <th>6</th>\n",
       "      <td>713.0</td>\n",
       "      <td>7.0</td>\n",
       "      <td>0.0</td>\n",
       "      <td>0.0</td>\n",
       "      <td>315.0</td>\n",
       "      <td>6.0</td>\n",
       "      <td>0.0</td>\n",
       "      <td>0.0</td>\n",
       "      <td>0.0</td>\n",
       "      <td>0.0</td>\n",
       "      <td>...</td>\n",
       "      <td>0.0</td>\n",
       "      <td>0.0</td>\n",
       "      <td>0.0</td>\n",
       "      <td>0.0</td>\n",
       "      <td>0.0</td>\n",
       "      <td>0.0</td>\n",
       "      <td>0.0</td>\n",
       "      <td>0.0</td>\n",
       "      <td>1457.0</td>\n",
       "      <td>Mango</td>\n",
       "    </tr>\n",
       "    <tr>\n",
       "      <th>7</th>\n",
       "      <td>188.0</td>\n",
       "      <td>2.0</td>\n",
       "      <td>0.0</td>\n",
       "      <td>0.0</td>\n",
       "      <td>75.0</td>\n",
       "      <td>1.0</td>\n",
       "      <td>0.0</td>\n",
       "      <td>0.0</td>\n",
       "      <td>0.0</td>\n",
       "      <td>0.0</td>\n",
       "      <td>...</td>\n",
       "      <td>0.0</td>\n",
       "      <td>0.0</td>\n",
       "      <td>0.0</td>\n",
       "      <td>1.0</td>\n",
       "      <td>0.0</td>\n",
       "      <td>0.0</td>\n",
       "      <td>0.0</td>\n",
       "      <td>14.0</td>\n",
       "      <td>1073.0</td>\n",
       "      <td>Limes</td>\n",
       "    </tr>\n",
       "    <tr>\n",
       "      <th>8</th>\n",
       "      <td>141.0</td>\n",
       "      <td>0.0</td>\n",
       "      <td>0.0</td>\n",
       "      <td>0.0</td>\n",
       "      <td>0.0</td>\n",
       "      <td>0.0</td>\n",
       "      <td>0.0</td>\n",
       "      <td>0.0</td>\n",
       "      <td>0.0</td>\n",
       "      <td>0.0</td>\n",
       "      <td>...</td>\n",
       "      <td>0.0</td>\n",
       "      <td>0.0</td>\n",
       "      <td>37.0</td>\n",
       "      <td>63.0</td>\n",
       "      <td>0.0</td>\n",
       "      <td>0.0</td>\n",
       "      <td>0.0</td>\n",
       "      <td>2.0</td>\n",
       "      <td>1040.0</td>\n",
       "      <td>Apple</td>\n",
       "    </tr>\n",
       "    <tr>\n",
       "      <th>9</th>\n",
       "      <td>470.0</td>\n",
       "      <td>12.0</td>\n",
       "      <td>0.0</td>\n",
       "      <td>0.0</td>\n",
       "      <td>115.0</td>\n",
       "      <td>2.0</td>\n",
       "      <td>0.0</td>\n",
       "      <td>0.0</td>\n",
       "      <td>0.0</td>\n",
       "      <td>0.0</td>\n",
       "      <td>...</td>\n",
       "      <td>0.0</td>\n",
       "      <td>0.0</td>\n",
       "      <td>0.0</td>\n",
       "      <td>0.0</td>\n",
       "      <td>0.0</td>\n",
       "      <td>0.0</td>\n",
       "      <td>0.0</td>\n",
       "      <td>0.0</td>\n",
       "      <td>1265.0</td>\n",
       "      <td>Mango</td>\n",
       "    </tr>\n",
       "    <tr>\n",
       "      <th>10</th>\n",
       "      <td>5.0</td>\n",
       "      <td>1.0</td>\n",
       "      <td>0.0</td>\n",
       "      <td>0.0</td>\n",
       "      <td>0.0</td>\n",
       "      <td>0.0</td>\n",
       "      <td>0.0</td>\n",
       "      <td>0.0</td>\n",
       "      <td>0.0</td>\n",
       "      <td>0.0</td>\n",
       "      <td>...</td>\n",
       "      <td>0.0</td>\n",
       "      <td>0.0</td>\n",
       "      <td>0.0</td>\n",
       "      <td>7.0</td>\n",
       "      <td>1.0</td>\n",
       "      <td>0.0</td>\n",
       "      <td>0.0</td>\n",
       "      <td>22.0</td>\n",
       "      <td>2353.0</td>\n",
       "      <td>Banana</td>\n",
       "    </tr>\n",
       "    <tr>\n",
       "      <th>11</th>\n",
       "      <td>134.0</td>\n",
       "      <td>0.0</td>\n",
       "      <td>0.0</td>\n",
       "      <td>0.0</td>\n",
       "      <td>0.0</td>\n",
       "      <td>0.0</td>\n",
       "      <td>0.0</td>\n",
       "      <td>0.0</td>\n",
       "      <td>0.0</td>\n",
       "      <td>0.0</td>\n",
       "      <td>...</td>\n",
       "      <td>0.0</td>\n",
       "      <td>0.0</td>\n",
       "      <td>317.0</td>\n",
       "      <td>8.0</td>\n",
       "      <td>0.0</td>\n",
       "      <td>0.0</td>\n",
       "      <td>101.0</td>\n",
       "      <td>150.0</td>\n",
       "      <td>1582.0</td>\n",
       "      <td>Pear</td>\n",
       "    </tr>\n",
       "    <tr>\n",
       "      <th>12</th>\n",
       "      <td>2.0</td>\n",
       "      <td>6.0</td>\n",
       "      <td>0.0</td>\n",
       "      <td>0.0</td>\n",
       "      <td>0.0</td>\n",
       "      <td>1.0</td>\n",
       "      <td>0.0</td>\n",
       "      <td>0.0</td>\n",
       "      <td>0.0</td>\n",
       "      <td>0.0</td>\n",
       "      <td>...</td>\n",
       "      <td>0.0</td>\n",
       "      <td>0.0</td>\n",
       "      <td>0.0</td>\n",
       "      <td>5.0</td>\n",
       "      <td>0.0</td>\n",
       "      <td>0.0</td>\n",
       "      <td>0.0</td>\n",
       "      <td>3.0</td>\n",
       "      <td>3118.0</td>\n",
       "      <td>Banana</td>\n",
       "    </tr>\n",
       "    <tr>\n",
       "      <th>13</th>\n",
       "      <td>292.0</td>\n",
       "      <td>1.0</td>\n",
       "      <td>0.0</td>\n",
       "      <td>0.0</td>\n",
       "      <td>116.0</td>\n",
       "      <td>1.0</td>\n",
       "      <td>0.0</td>\n",
       "      <td>0.0</td>\n",
       "      <td>0.0</td>\n",
       "      <td>0.0</td>\n",
       "      <td>...</td>\n",
       "      <td>0.0</td>\n",
       "      <td>0.0</td>\n",
       "      <td>1.0</td>\n",
       "      <td>1.0</td>\n",
       "      <td>0.0</td>\n",
       "      <td>0.0</td>\n",
       "      <td>3.0</td>\n",
       "      <td>24.0</td>\n",
       "      <td>1116.0</td>\n",
       "      <td>Limes</td>\n",
       "    </tr>\n",
       "    <tr>\n",
       "      <th>14</th>\n",
       "      <td>199.0</td>\n",
       "      <td>0.0</td>\n",
       "      <td>0.0</td>\n",
       "      <td>0.0</td>\n",
       "      <td>0.0</td>\n",
       "      <td>0.0</td>\n",
       "      <td>0.0</td>\n",
       "      <td>0.0</td>\n",
       "      <td>0.0</td>\n",
       "      <td>0.0</td>\n",
       "      <td>...</td>\n",
       "      <td>0.0</td>\n",
       "      <td>393.0</td>\n",
       "      <td>23.0</td>\n",
       "      <td>14.0</td>\n",
       "      <td>0.0</td>\n",
       "      <td>0.0</td>\n",
       "      <td>0.0</td>\n",
       "      <td>12.0</td>\n",
       "      <td>997.0</td>\n",
       "      <td>Peach</td>\n",
       "    </tr>\n",
       "    <tr>\n",
       "      <th>15</th>\n",
       "      <td>118.0</td>\n",
       "      <td>0.0</td>\n",
       "      <td>0.0</td>\n",
       "      <td>0.0</td>\n",
       "      <td>0.0</td>\n",
       "      <td>0.0</td>\n",
       "      <td>0.0</td>\n",
       "      <td>0.0</td>\n",
       "      <td>0.0</td>\n",
       "      <td>0.0</td>\n",
       "      <td>...</td>\n",
       "      <td>0.0</td>\n",
       "      <td>255.0</td>\n",
       "      <td>601.0</td>\n",
       "      <td>25.0</td>\n",
       "      <td>0.0</td>\n",
       "      <td>0.0</td>\n",
       "      <td>19.0</td>\n",
       "      <td>16.0</td>\n",
       "      <td>1192.0</td>\n",
       "      <td>Peach</td>\n",
       "    </tr>\n",
       "    <tr>\n",
       "      <th>16</th>\n",
       "      <td>408.0</td>\n",
       "      <td>0.0</td>\n",
       "      <td>0.0</td>\n",
       "      <td>0.0</td>\n",
       "      <td>0.0</td>\n",
       "      <td>0.0</td>\n",
       "      <td>0.0</td>\n",
       "      <td>0.0</td>\n",
       "      <td>0.0</td>\n",
       "      <td>0.0</td>\n",
       "      <td>...</td>\n",
       "      <td>0.0</td>\n",
       "      <td>0.0</td>\n",
       "      <td>0.0</td>\n",
       "      <td>19.0</td>\n",
       "      <td>0.0</td>\n",
       "      <td>0.0</td>\n",
       "      <td>0.0</td>\n",
       "      <td>1.0</td>\n",
       "      <td>2183.0</td>\n",
       "      <td>Strawberry</td>\n",
       "    </tr>\n",
       "    <tr>\n",
       "      <th>17</th>\n",
       "      <td>334.0</td>\n",
       "      <td>0.0</td>\n",
       "      <td>0.0</td>\n",
       "      <td>0.0</td>\n",
       "      <td>0.0</td>\n",
       "      <td>0.0</td>\n",
       "      <td>0.0</td>\n",
       "      <td>0.0</td>\n",
       "      <td>0.0</td>\n",
       "      <td>0.0</td>\n",
       "      <td>...</td>\n",
       "      <td>0.0</td>\n",
       "      <td>0.0</td>\n",
       "      <td>0.0</td>\n",
       "      <td>15.0</td>\n",
       "      <td>2.0</td>\n",
       "      <td>0.0</td>\n",
       "      <td>0.0</td>\n",
       "      <td>8.0</td>\n",
       "      <td>1710.0</td>\n",
       "      <td>Strawberry</td>\n",
       "    </tr>\n",
       "    <tr>\n",
       "      <th>18</th>\n",
       "      <td>232.0</td>\n",
       "      <td>2.0</td>\n",
       "      <td>0.0</td>\n",
       "      <td>0.0</td>\n",
       "      <td>73.0</td>\n",
       "      <td>3.0</td>\n",
       "      <td>0.0</td>\n",
       "      <td>0.0</td>\n",
       "      <td>0.0</td>\n",
       "      <td>0.0</td>\n",
       "      <td>...</td>\n",
       "      <td>0.0</td>\n",
       "      <td>0.0</td>\n",
       "      <td>153.0</td>\n",
       "      <td>13.0</td>\n",
       "      <td>0.0</td>\n",
       "      <td>0.0</td>\n",
       "      <td>281.0</td>\n",
       "      <td>94.0</td>\n",
       "      <td>1137.0</td>\n",
       "      <td>Limes</td>\n",
       "    </tr>\n",
       "    <tr>\n",
       "      <th>19</th>\n",
       "      <td>0.0</td>\n",
       "      <td>0.0</td>\n",
       "      <td>0.0</td>\n",
       "      <td>0.0</td>\n",
       "      <td>0.0</td>\n",
       "      <td>0.0</td>\n",
       "      <td>0.0</td>\n",
       "      <td>0.0</td>\n",
       "      <td>0.0</td>\n",
       "      <td>0.0</td>\n",
       "      <td>...</td>\n",
       "      <td>0.0</td>\n",
       "      <td>0.0</td>\n",
       "      <td>0.0</td>\n",
       "      <td>9.0</td>\n",
       "      <td>1.0</td>\n",
       "      <td>0.0</td>\n",
       "      <td>0.0</td>\n",
       "      <td>11.0</td>\n",
       "      <td>2943.0</td>\n",
       "      <td>Banana</td>\n",
       "    </tr>\n",
       "  </tbody>\n",
       "</table>\n",
       "<p>20 rows × 65 columns</p>\n",
       "</div>"
      ],
      "text/plain": [
       "    Color Combo 1  Color Combo 2  Color Combo 3  Color Combo 4  Color Combo 5  \\\n",
       "0           202.0            0.0            0.0            0.0            0.0   \n",
       "1            62.0            0.0            0.0            0.0            0.0   \n",
       "2           281.0            0.0            0.0            0.0            0.0   \n",
       "3           292.0            0.0            0.0            0.0            0.0   \n",
       "4           542.0            6.0            0.0            0.0          299.0   \n",
       "5           121.0            0.0            0.0            0.0            0.0   \n",
       "6           713.0            7.0            0.0            0.0          315.0   \n",
       "7           188.0            2.0            0.0            0.0           75.0   \n",
       "8           141.0            0.0            0.0            0.0            0.0   \n",
       "9           470.0           12.0            0.0            0.0          115.0   \n",
       "10            5.0            1.0            0.0            0.0            0.0   \n",
       "11          134.0            0.0            0.0            0.0            0.0   \n",
       "12            2.0            6.0            0.0            0.0            0.0   \n",
       "13          292.0            1.0            0.0            0.0          116.0   \n",
       "14          199.0            0.0            0.0            0.0            0.0   \n",
       "15          118.0            0.0            0.0            0.0            0.0   \n",
       "16          408.0            0.0            0.0            0.0            0.0   \n",
       "17          334.0            0.0            0.0            0.0            0.0   \n",
       "18          232.0            2.0            0.0            0.0           73.0   \n",
       "19            0.0            0.0            0.0            0.0            0.0   \n",
       "\n",
       "    Color Combo 6  Color Combo 7  Color Combo 8  Color Combo 9  \\\n",
       "0             0.0            0.0            0.0            0.0   \n",
       "1             1.0            0.0            0.0            0.0   \n",
       "2             0.0            0.0            0.0            0.0   \n",
       "3             0.0            0.0            0.0            0.0   \n",
       "4            10.0            0.0            0.0            0.0   \n",
       "5             0.0            0.0            0.0            0.0   \n",
       "6             6.0            0.0            0.0            0.0   \n",
       "7             1.0            0.0            0.0            0.0   \n",
       "8             0.0            0.0            0.0            0.0   \n",
       "9             2.0            0.0            0.0            0.0   \n",
       "10            0.0            0.0            0.0            0.0   \n",
       "11            0.0            0.0            0.0            0.0   \n",
       "12            1.0            0.0            0.0            0.0   \n",
       "13            1.0            0.0            0.0            0.0   \n",
       "14            0.0            0.0            0.0            0.0   \n",
       "15            0.0            0.0            0.0            0.0   \n",
       "16            0.0            0.0            0.0            0.0   \n",
       "17            0.0            0.0            0.0            0.0   \n",
       "18            3.0            0.0            0.0            0.0   \n",
       "19            0.0            0.0            0.0            0.0   \n",
       "\n",
       "    Color Combo 10  ...  Color Combo 56  Color Combo 57  Color Combo 58  \\\n",
       "0              0.0  ...             0.0             0.0            95.0   \n",
       "1              0.0  ...             0.0             0.0             0.0   \n",
       "2              0.0  ...             0.0             0.0             1.0   \n",
       "3              0.0  ...             0.0             0.0            52.0   \n",
       "4              0.0  ...             0.0             0.0             0.0   \n",
       "5              0.0  ...             0.0             0.0           278.0   \n",
       "6              0.0  ...             0.0             0.0             0.0   \n",
       "7              0.0  ...             0.0             0.0             0.0   \n",
       "8              0.0  ...             0.0             0.0            37.0   \n",
       "9              0.0  ...             0.0             0.0             0.0   \n",
       "10             0.0  ...             0.0             0.0             0.0   \n",
       "11             0.0  ...             0.0             0.0           317.0   \n",
       "12             0.0  ...             0.0             0.0             0.0   \n",
       "13             0.0  ...             0.0             0.0             1.0   \n",
       "14             0.0  ...             0.0           393.0            23.0   \n",
       "15             0.0  ...             0.0           255.0           601.0   \n",
       "16             0.0  ...             0.0             0.0             0.0   \n",
       "17             0.0  ...             0.0             0.0             0.0   \n",
       "18             0.0  ...             0.0             0.0           153.0   \n",
       "19             0.0  ...             0.0             0.0             0.0   \n",
       "\n",
       "    Color Combo 59  Color Combo 60  Color Combo 61  Color Combo 62  \\\n",
       "0             12.0             0.0             0.0             9.0   \n",
       "1              5.0             0.0             0.0             0.0   \n",
       "2             12.0             2.0             0.0             0.0   \n",
       "3             65.0             0.0             0.0             0.0   \n",
       "4              0.0             0.0             0.0             0.0   \n",
       "5              6.0             0.0             0.0             6.0   \n",
       "6              0.0             0.0             0.0             0.0   \n",
       "7              1.0             0.0             0.0             0.0   \n",
       "8             63.0             0.0             0.0             0.0   \n",
       "9              0.0             0.0             0.0             0.0   \n",
       "10             7.0             1.0             0.0             0.0   \n",
       "11             8.0             0.0             0.0           101.0   \n",
       "12             5.0             0.0             0.0             0.0   \n",
       "13             1.0             0.0             0.0             3.0   \n",
       "14            14.0             0.0             0.0             0.0   \n",
       "15            25.0             0.0             0.0            19.0   \n",
       "16            19.0             0.0             0.0             0.0   \n",
       "17            15.0             2.0             0.0             0.0   \n",
       "18            13.0             0.0             0.0           281.0   \n",
       "19             9.0             1.0             0.0             0.0   \n",
       "\n",
       "    Color Combo 63  Color Combo 64       Label  \n",
       "0             69.0          1708.0        Pear  \n",
       "1              6.0          2887.0      Banana  \n",
       "2              6.0          1696.0  Strawberry  \n",
       "3              5.0          1029.0       Apple  \n",
       "4              0.0          1438.0       Mango  \n",
       "5             84.0          1560.0        Pear  \n",
       "6              0.0          1457.0       Mango  \n",
       "7             14.0          1073.0       Limes  \n",
       "8              2.0          1040.0       Apple  \n",
       "9              0.0          1265.0       Mango  \n",
       "10            22.0          2353.0      Banana  \n",
       "11           150.0          1582.0        Pear  \n",
       "12             3.0          3118.0      Banana  \n",
       "13            24.0          1116.0       Limes  \n",
       "14            12.0           997.0       Peach  \n",
       "15            16.0          1192.0       Peach  \n",
       "16             1.0          2183.0  Strawberry  \n",
       "17             8.0          1710.0  Strawberry  \n",
       "18            94.0          1137.0       Limes  \n",
       "19            11.0          2943.0      Banana  \n",
       "\n",
       "[20 rows x 65 columns]"
      ]
     },
     "execution_count": 232,
     "metadata": {},
     "output_type": "execute_result"
    }
   ],
   "source": [
    "final_dataset.head(20)"
   ]
  },
  {
   "cell_type": "markdown",
   "id": "protected-puzzle",
   "metadata": {},
   "source": [
    "### Output CSV"
   ]
  },
  {
   "cell_type": "code",
   "execution_count": 234,
   "id": "sufficient-graphic",
   "metadata": {},
   "outputs": [],
   "source": [
    "final_dataset.to_csv(\"Image_Dataset_color_features.csv\", index=False)"
   ]
  },
  {
   "cell_type": "code",
   "execution_count": 86,
   "id": "macro-supply",
   "metadata": {},
   "outputs": [],
   "source": [
    "criteria = (cv2.TERM_CRITERIA_EPS + cv2.TERM_CRITERIA_MAX_ITER, 10, 1.0)\n",
    "K = 2\n",
    "ret,label,center = cv2.kmeans(Z,K,None,criteria,10,cv2.KMEANS_RANDOM_CENTERS)"
   ]
  },
  {
   "cell_type": "code",
   "execution_count": 87,
   "id": "linear-yorkshire",
   "metadata": {},
   "outputs": [],
   "source": [
    "center = np.uint8(center)\n",
    "res = center[label.flatten()]\n",
    "res2 = res.reshape((img.shape))"
   ]
  },
  {
   "cell_type": "markdown",
   "id": "unknown-duration",
   "metadata": {},
   "source": [
    "## Color Histogram"
   ]
  },
  {
   "cell_type": "code",
   "execution_count": 89,
   "id": "asian-table",
   "metadata": {},
   "outputs": [
    {
     "name": "stdout",
     "output_type": "stream",
     "text": [
      "Image Shape:  (64, 64, 3)\n"
     ]
    },
    {
     "data": {
      "image/png": "[encoded data removed]",
      "text/plain": [
       "<Figure size 432x288 with 1 Axes>"
      ]
     },
     "metadata": {
      "needs_background": "light"
     },
     "output_type": "display_data"
    }
   ],
   "source": [
    "display(img)"
   ]
  },
  {
   "cell_type": "code",
   "execution_count": 90,
   "id": "greek-transfer",
   "metadata": {},
   "outputs": [],
   "source": [
    "hist = cv2.calcHist([img], [0], None, [256], [0,256])"
   ]
  },
  {
   "cell_type": "code",
   "execution_count": 91,
   "id": "thick-separate",
   "metadata": {},
   "outputs": [
    {
     "data": {
      "text/plain": [
       "[<matplotlib.lines.Line2D at 0x29b7b0857c0>]"
      ]
     },
     "execution_count": 91,
     "metadata": {},
     "output_type": "execute_result"
    },
    {
     "data": {
      "image/png": "[encoded data removed]",
      "text/plain": [
       "<Figure size 432x288 with 1 Axes>"
      ]
     },
     "metadata": {
      "needs_background": "light"
     },
     "output_type": "display_data"
    }
   ],
   "source": [
    "plt.plot(hist)"
   ]
  },
  {
   "cell_type": "code",
   "execution_count": 92,
   "id": "printable-assurance",
   "metadata": {},
   "outputs": [
    {
     "name": "stdout",
     "output_type": "stream",
     "text": [
      "Image Shape:  (64, 64, 3)\n"
     ]
    },
    {
     "data": {
      "image/png": "[encoded data removed]",
      "text/plain": [
       "<Figure size 432x288 with 1 Axes>"
      ]
     },
     "metadata": {
      "needs_background": "light"
     },
     "output_type": "display_data"
    }
   ],
   "source": [
    "display(res2)"
   ]
  },
  {
   "cell_type": "code",
   "execution_count": 93,
   "id": "compliant-oxide",
   "metadata": {},
   "outputs": [],
   "source": [
    "hist = cv2.calcHist([res2], [0], None, [256], [0,256])"
   ]
  },
  {
   "cell_type": "code",
   "execution_count": 94,
   "id": "understood-greenhouse",
   "metadata": {},
   "outputs": [
    {
     "data": {
      "text/plain": [
       "[<matplotlib.lines.Line2D at 0x29b7b205f40>]"
      ]
     },
     "execution_count": 94,
     "metadata": {},
     "output_type": "execute_result"
    },
    {
     "data": {
      "image/png": "[encoded data removed]",
      "text/plain": [
       "<Figure size 432x288 with 1 Axes>"
      ]
     },
     "metadata": {
      "needs_background": "light"
     },
     "output_type": "display_data"
    }
   ],
   "source": [
    "plt.plot(hist)"
   ]
  },
  {
   "cell_type": "code",
   "execution_count": null,
   "id": "amended-village",
   "metadata": {},
   "outputs": [],
   "source": []
  },
  {
   "cell_type": "code",
   "execution_count": null,
   "id": "municipal-harris",
   "metadata": {},
   "outputs": [],
   "source": []
  }
 ],
 "metadata": {
  "kernelspec": {
   "display_name": "Python 3",
   "language": "python",
   "name": "python3"
  },
  "language_info": {
   "codemirror_mode": {
    "name": "ipython",
    "version": 3
   },
   "file_extension": ".py",
   "mimetype": "text/x-python",
   "name": "python",
   "nbconvert_exporter": "python",
   "pygments_lexer": "ipython3",
   "version": "3.9.1"
  }
 },
 "nbformat": 4,
 "nbformat_minor": 5
}
